{
 "cells": [
  {
   "cell_type": "code",
   "execution_count": 9,
   "metadata": {
    "collapsed": false
   },
   "outputs": [
    {
     "data": {
      "text/html": [
       "<div>\n",
       "<style scoped>\n",
       "    .dataframe tbody tr th:only-of-type {\n",
       "        vertical-align: middle;\n",
       "    }\n",
       "\n",
       "    .dataframe tbody tr th {\n",
       "        vertical-align: top;\n",
       "    }\n",
       "\n",
       "    .dataframe thead th {\n",
       "        text-align: right;\n",
       "    }\n",
       "</style>\n",
       "<table border=\"1\" class=\"dataframe\">\n",
       "  <thead>\n",
       "    <tr style=\"text-align: right;\">\n",
       "      <th></th>\n",
       "      <th>Unnamed: 0</th>\n",
       "      <th>Share link identifier</th>\n",
       "      <th>Category</th>\n",
       "      <th>Name</th>\n",
       "      <th>Credits</th>\n",
       "      <th>Base layer</th>\n",
       "      <th>Custom slider ticks</th>\n",
       "      <th>Start date</th>\n",
       "      <th>End date</th>\n",
       "      <th>Step</th>\n",
       "      <th>...</th>\n",
       "      <th>Fragment Shader</th>\n",
       "      <th>Draw Function</th>\n",
       "      <th>Playback Rate</th>\n",
       "      <th>Master Playback Rate</th>\n",
       "      <th>Colormap Src</th>\n",
       "      <th>Layer Description</th>\n",
       "      <th>Featured Themes</th>\n",
       "      <th>Draw Options</th>\n",
       "      <th>Set Data Options</th>\n",
       "      <th>Extras Options</th>\n",
       "    </tr>\n",
       "  </thead>\n",
       "  <tbody>\n",
       "    <tr>\n",
       "      <td>0</td>\n",
       "      <td>True</td>\n",
       "      <td>plume_viz_test</td>\n",
       "      <td>Plume Viz</td>\n",
       "      <td>PARDUMP s0s1s2s3 February 17</td>\n",
       "      <td>CREATE Lab</td>\n",
       "      <td>bdrk</td>\n",
       "      <td>NaN</td>\n",
       "      <td>202004300200</td>\n",
       "      <td>202005010001</td>\n",
       "      <td>10</td>\n",
       "      <td>...</td>\n",
       "      <td>WebGLVectorTile2.particleFragmentShader</td>\n",
       "      <td>WebGLVectorTile2.prototype._drawParticles</td>\n",
       "      <td>NaN</td>\n",
       "      <td>NaN</td>\n",
       "      <td>NaN</td>\n",
       "      <td>NaN</td>\n",
       "      <td>NaN</td>\n",
       "      <td>{\"pointSize\": 2.0, \"sfactor\": \"ONE\", \"dfactor\"...</td>\n",
       "      <td>{\"hasAltitude\":true}</td>\n",
       "      <td>NaN</td>\n",
       "    </tr>\n",
       "  </tbody>\n",
       "</table>\n",
       "<p>1 rows × 43 columns</p>\n",
       "</div>"
      ],
      "text/plain": [
       "   Unnamed: 0 Share link identifier   Category                          Name  \\\n",
       "0        True        plume_viz_test  Plume Viz  PARDUMP s0s1s2s3 February 17   \n",
       "\n",
       "      Credits Base layer  Custom slider ticks    Start date      End date  \\\n",
       "0  CREATE Lab       bdrk                  NaN  202004300200  202005010001   \n",
       "\n",
       "   Step  ...                          Fragment Shader  \\\n",
       "0    10  ...  WebGLVectorTile2.particleFragmentShader   \n",
       "\n",
       "                               Draw Function  Playback Rate  \\\n",
       "0  WebGLVectorTile2.prototype._drawParticles            NaN   \n",
       "\n",
       "  Master Playback Rate  Colormap Src  Layer Description  Featured Themes  \\\n",
       "0                  NaN           NaN                NaN              NaN   \n",
       "\n",
       "                                        Draw Options      Set Data Options  \\\n",
       "0  {\"pointSize\": 2.0, \"sfactor\": \"ONE\", \"dfactor\"...  {\"hasAltitude\":true}   \n",
       "\n",
       "   Extras Options  \n",
       "0             NaN  \n",
       "\n",
       "[1 rows x 43 columns]"
      ]
     },
     "execution_count": 9,
     "metadata": {
     },
     "output_type": "execute_result"
    }
   ],
   "source": [
    "import os\n",
    "import importlib\n",
    "import re, array, csv, datetime, glob, json, math, random, stat\n",
    "import numpy as np\n",
    "import pandas as pd\n",
    "import matplotlib.pyplot as plt\n",
    "\n",
    "\n",
    "# This is a utility function for running other ipython notebooks\n",
    "def exec_ipynb(filename_or_url):\n",
    "    nb = (requests.get(filename_or_url).json() if re.match(r'https?:', filename_or_url) else json.load(open(filename_or_url)))\n",
    "    if(nb['nbformat'] >= 4):\n",
    "        src = [''.join(cell['source']) for cell in nb['cells'] if cell['cell_type'] == 'code']\n",
    "    else:\n",
    "        src = [''.join(cell['input']) for cell in nb['worksheets'][0]['cells'] if cell['cell_type'] == 'code']\n",
    "    tmpname = '/tmp/%s-%s-%d.py' % (os.path.basename(filename_or_url),\n",
    "                                    datetime.datetime.now().strftime('%Y%m%d%H%M%S%f'),\n",
    "                                    os.getpid())\n",
    "    src = '\\n\\n\\n'.join(src)\n",
    "    open(tmpname, 'w').write(src)\n",
    "    code = compile(src, tmpname, 'exec')\n",
    "    exec(code, globals())\n",
    "\n",
    "\n",
    "# Load utility functions from another ipython notebook\n",
    "root_dir = \"/projects/9ab71616-fcde-4524-bf8f-7953c669ebbb/air-src/\"\n",
    "os.chdir(root_dir + \"linRegModel/pardump_example/\")\n",
    "exec_ipynb(\"pardumpdump-randy-amy-util.ipynb\")\n",
    "os.chdir(root_dir + \"linRegModel\")\n",
    "exec_ipynb(\"./cachedHysplitRunLib.ipynb\")\n",
    "exec_ipynb(\"../../src/python-utils/utils.ipynb\")\n",
    "\n",
    "# Create rows in the EarthTime document\n",
    "os.chdir(root_dir + \"automate-plume-viz/\")\n",
    "df = pd.read_csv(\"data/earth_time_template.csv\")\n",
    "df"
   ]
  },
  {
   "cell_type": "code",
   "execution_count": 11,
   "metadata": {
    "collapsed": false
   },
   "outputs": [
    {
     "name": "stdout",
     "output_type": "stream",
     "text": [
      "chmod: missing operand after ‘/projects/9ab71616-fcde-4524-bf8f-7953c669ebbb/air-src/automate-plume-viz/automate-plume-viz.ipynb’\r\n",
      "Try 'chmod --help' for more information.\r\n"
     ]
    }
   ],
   "source": [
    "!chmod - /projects/9ab71616-fcde-4524-bf8f-7953c669ebbb/air-src/automate-plume-viz/automate-plume-viz.ipynb"
   ]
  },
  {
   "cell_type": "code",
   "execution_count": 0,
   "metadata": {
    "collapsed": false
   },
   "outputs": [
   ],
   "source": [
   ]
  },
  {
   "cell_type": "code",
   "execution_count": 0,
   "metadata": {
    "collapsed": false
   },
   "outputs": [
   ],
   "source": [
   ]
  },
  {
   "cell_type": "code",
   "execution_count": 0,
   "metadata": {
    "collapsed": false
   },
   "outputs": [
   ],
   "source": [
   ]
  },
  {
   "cell_type": "code",
   "execution_count": 0,
   "metadata": {
    "collapsed": false
   },
   "outputs": [
   ],
   "source": [
   ]
  }
 ],
 "metadata": {
  "kernelspec": {
   "display_name": "Anaconda Python 3",
   "language": "python",
   "name": "anaconda3"
  },
  "language_info": {
   "codemirror_mode": {
    "name": "ipython",
    "version": 3
   },
   "file_extension": ".py",
   "mimetype": "text/x-python",
   "name": "python",
   "nbconvert_exporter": "python",
   "pygments_lexer": "ipython3",
   "version": "3.7.4"
  }
 },
 "nbformat": 4,
 "nbformat_minor": 0
}