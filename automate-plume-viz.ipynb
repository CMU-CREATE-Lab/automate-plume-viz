{
 "cells": [
  {
   "cell_type": "code",
   "execution_count": 2,
   "metadata": {
    "collapsed": false
   },
   "outputs": [
   ],
   "source": [
    "import os\n",
    "import importlib\n",
    "import re, array, csv, datetime, glob, json, math, random, stat\n",
    "import pytz, datetime\n",
    "import numpy as np\n",
    "import pandas as pd\n",
    "import matplotlib.pyplot as plt\n",
    "\n",
    "\n",
    "# This is a utility function for running other ipython notebooks\n",
    "def exec_ipynb(filename_or_url):\n",
    "    nb = (requests.get(filename_or_url).json() if re.match(r'https?:', filename_or_url) else json.load(open(filename_or_url)))\n",
    "    if(nb['nbformat'] >= 4):\n",
    "        src = [''.join(cell['source']) for cell in nb['cells'] if cell['cell_type'] == 'code']\n",
    "    else:\n",
    "        src = [''.join(cell['input']) for cell in nb['worksheets'][0]['cells'] if cell['cell_type'] == 'code']\n",
    "    tmpname = '/tmp/%s-%s-%d.py' % (os.path.basename(filename_or_url),\n",
    "                                    datetime.datetime.now().strftime('%Y%m%d%H%M%S%f'),\n",
    "                                    os.getpid())\n",
    "    src = '\\n\\n\\n'.join(src)\n",
    "    open(tmpname, 'w').write(src)\n",
    "    code = compile(src, tmpname, 'exec')\n",
    "    exec(code, globals())\n",
    "\n",
    "\n",
    "# Load utility functions from another ipython notebook\n",
    "root_dir = \"/projects/9ab71616-fcde-4524-bf8f-7953c669ebbb/air-src/\"\n",
    "os.chdir(root_dir + \"linRegModel/pardump_example/\")\n",
    "exec_ipynb(\"pardumpdump-randy-amy-util.ipynb\")\n",
    "os.chdir(root_dir + \"linRegModel\")\n",
    "exec_ipynb(\"./cachedHysplitRunLib.ipynb\")\n",
    "exec_ipynb(\"../../src/python-utils/utils.ipynb\")\n",
    "os.chdir(root_dir + \"automate-plume-viz/\")"
   ]
  },
  {
   "cell_type": "code",
   "execution_count": 6,
   "metadata": {
    "collapsed": false,
    "scrolled": true
   },
   "outputs": [
    {
     "data": {
      "text/plain": [
       "'https://davos2019.earthtime.org/explore#v=40.43266,-79.93955,9.318,latLng&t=3.83&ps=50&l=bdrk,plume_20190101,smell_my_city_pgh_reports&bt=20190101020000&et=20190102015000&startDwell=0&endDwell=0'"
      ]
     },
     "execution_count": 6,
     "metadata": {
     },
     "output_type": "execute_result"
    }
   ],
   "source": [
    "# Specify the starting and ending date, also the time offset\n",
    "start = \"2019-01-01\"\n",
    "end = \"2020-01-01\"\n",
    "offset = pd.Timedelta(3, unit=\"h\")\n",
    "\n",
    "# Create rows in the EarthTime document\n",
    "start_d = pd.date_range(start=start, end=end, closed=\"left\", tz=\"US/Eastern\") - offset\n",
    "end_d = pd.date_range(start=start, end=end, closed=\"right\", tz=\"US/Eastern\") - pd.Timedelta(10, unit=\"m\") - offset\n",
    "df_template = pd.read_csv(\"data/earth_time_template.csv\")\n",
    "df = df_repeated = pd.concat([df_template]*len(start_d), ignore_index=True)\n",
    "file_name = \"plume_\" + end_d.strftime(\"%Y%m%d\")\n",
    "df[\"Start date\"] = start_d.tz_convert(\"UTC\").strftime(\"%Y%m%d%H%M%S\")\n",
    "df[\"End date\"] = end_d.tz_convert(\"UTC\").strftime(\"%Y%m%d%H%M%S\")\n",
    "df[\"Share link identifier\"] = file_name\n",
    "df[\"Name\"] = \"PARDUMP \" + end_d.strftime(\"%Y-%m-%d\")\n",
    "df[\"URL\"] = \"https://cocalc-www.createlab.org/pardumps/\" + file_name + \".bin\"\n",
    "\n",
    "# Save rows of EarthTime CSV layers to a file so that we can copy and paste\n",
    "p = \"data/earth_time.csv\"\n",
    "df.to_csv(p, index=False)\n",
    "os.chmod(p, 0o777)\n",
    "\n",
    "# Create rows of share URLs\n",
    "et_root_url = \"https://davos2019.earthtime.org/explore#\"\n",
    "v = \"v=40.43266,-79.93955,9.318,latLng&\"\n",
    "t = \"t=3.83&\"\n",
    "ps = \"ps=50&\"\n",
    "l = \"l=bdrk,plume_20190101,smell_my_city_pgh_reports&\"\n",
    "sd = \"startDwell=0&\"\n",
    "ed = \"endDwell=0\"\n",
    "df_url = []\n",
    "for index, row in df.iterrows():\n",
    "    bt = \"bt=\" + row[\"Start date\"] + \"&\"\n",
    "    et = \"et=\" + row[\"End date\"] + \"&\"\n",
    "    full_url = et_root_url + v + t + ps + l + bt + et + sd + ed\n",
    "    df_url.append(full_url)\n",
    "df_url = pd.DataFrame(data=df_url)\n",
    "\n",
    "# Save rows of EarthTime urls to a file\n",
    "p = \"data/earth_time_urls.csv\"\n",
    "df_url.to_csv(p, index=False)\n",
    "os.chmod(p, 0o777)"
   ]
  },
  {
   "cell_type": "code",
   "execution_count": 7,
   "metadata": {
    "collapsed": false,
    "scrolled": true
   },
   "outputs": [
    {
     "name": "stderr",
     "output_type": "stream",
     "text": [
      "WARNING: some intermediate output was truncated.\n"
     ]
    },
    {
     "name": "stdout",
     "output_type": "stream",
     "text": [
      "====================================================================================================\n",
      "====================================================================================================\n",
      "start_time_eastern: 2019-04-01 21:00\n",
      "o_file: /projects/cocalc-www.createlab.org/pardumps/plume_20190402.bin\n",
      "SimpleThreadPoolExecutor succeeded: all 24 jobs completed\n",
      "SimpleThreadPoolExecutor succeeded: all 24 jobs completed\n",
      "SimpleThreadPoolExecutor succeeded: all 24 jobs completed\n",
      "SimpleThreadPoolExecutor succeeded: all 24 jobs completed\n",
      "['/projects/9ab71616-fcde-4524-bf8f-7953c669ebbb/air-src/linRegModel/dispersionCache/40.328015,-79.903551_0-50/20190401_210000-0400_1h_24h_0', '/projects/9ab71616-fcde-4524-bf8f-7953c669ebbb/air-src/linRegModel/dispersionCache/40.328015,-79.903551_0-50/20190401_220000-0400_1h_23h_0', '/projects/9ab71616-fcde-4524-bf8f-7953c669ebbb/air-src/linRegModel/dispersionCache/40.328015,-79.903551_0-50/20190401_230000-0400_1h_22h_0', '/projects/9ab71616-fcde-4524-bf8f-7953c669ebbb/air-src/linRegModel/dispersionCache/40.328015,-79.903551_0-50/20190402_000000-0400_1h_21h_0', '/projects/9ab71616-fcde-4524-bf8f-7953c669ebbb/air-src/linRegModel/dispersionCache/40.328015,-79.903551_0-50/20190402_010000-0400_1h_20h_0', '/projects/9ab71616-fcde-4524-bf8f-7953c669ebbb/air-src/linRegModel/dispersionCache/40.328015,-79.903551_0-50/20190402_020000-0400_1h_19h_0', '/projects/9ab71616-fcde-4524-bf8f-7953c669ebbb/air-src/linRegModel/dispersionCache/40.328015,-79.903551_0-50/20190402_030000-0400_1h_18h_0', '/projects/9ab71616-fcde-4524-bf8f-7953c669ebbb/air-src/linRegModel/dispersionCache/40.328015,-79.903551_0-50/20190402_040000-0400_1h_17h_0', '/projects/9ab71616-fcde-4524-bf8f-7953c669ebbb/air-src/linRegModel/dispersionCache/40.328015,-79.903551_0-50/20190402_050000-0400_1h_16h_0', '/projects/9ab71616-fcde-4524-bf8f-7953c669ebbb/air-src/linRegModel/dispersionCache/40.328015,-79.903551_0-50/20190402_060000-0400_1h_15h_0', '/projects/9ab71616-fcde-4524-bf8f-7953c669ebbb/air-src/linRegModel/dispersionCache/40.328015,-79.903551_0-50/20190402_070000-0400_1h_14h_0', '/projects/9ab71616-fcde-4524-bf8f-7953c669ebbb/air-src/linRegModel/dispersionCache/40.328015,-79.903551_0-50/20190402_080000-0400_1h_13h_0', '/projects/9ab71616-fcde-4524-bf8f-7953c669ebbb/air-src/linRegModel/dispersionCache/40.328015,-79.903551_0-50/20190402_090000-0400_1h_12h_0', '/projects/9ab71616-fcde-4524-bf8f-7953c669ebbb/air-src/linRegModel/dispersionCache/40.328015,-79.903551_0-50/20190402_100000-0400_1h_11h_0', '/projects/9ab71616-fcde-4524-bf8f-7953c669ebbb/air-src/linRegModel/dispersionCache/40.328015,-79.903551_0-50/20190402_110000-0400_1h_10h_0', '/projects/9ab71616-fcde-4524-bf8f-7953c669ebbb/air-src/linRegModel/dispersionCache/40.328015,-79.903551_0-50/20190402_120000-0400_1h_9h_0', '/projects/9ab71616-fcde-4524-bf8f-7953c669ebbb/air-src/linRegModel/dispersionCache/40.328015,-79.903551_0-50/20190402_130000-0400_1h_8h_0', '/projects/9ab71616-fcde-4524-bf8f-7953c669ebbb/air-src/linRegModel/dispersionCache/40.328015,-79.903551_0-50/20190402_140000-0400_1h_7h_0', '/projects/9ab71616-fcde-4524-bf8f-7953c669ebbb/air-src/linRegModel/dispersionCache/40.328015,-79.903551_0-50/20190402_150000-0400_1h_6h_0', '/projects/9ab71616-fcde-4524-bf8f-7953c669ebbb/air-src/linRegModel/dispersionCache/40.328015,-79.903551_0-50/20190402_160000-0400_1h_5h_0', '/projects/9ab71616-fcde-4524-bf8f-7953c669ebbb/air-src/linRegModel/dispersionCache/40.328015,-79.903551_0-50/20190402_170000-0400_1h_4h_0', '/projects/9ab71616-fcde-4524-bf8f-7953c669ebbb/air-src/linRegModel/dispersionCache/40.328015,-79.903551_0-50/20190402_180000-0400_1h_3h_0', '/projects/9ab71616-fcde-4524-bf8f-7953c669ebbb/air-src/linRegModel/dispersionCache/40.328015,-79.903551_0-50/20190402_190000-0400_1h_2h_0', '/projects/9ab71616-fcde-4524-bf8f-7953c669ebbb/air-src/linRegModel/dispersionCache/40.328015,-79.903551_0-50/20190402_200000-0400_1h_1h_0', '/projects/9ab71616-fcde-4524-bf8f-7953c669ebbb/air-src/linRegModel/dispersionCache/40.392967,-79.855709_0-50/20190401_210000-0400_1h_24h_0', '/projects/9ab71616-fcde-4524-bf8f-7953c669ebbb/air-src/linRegModel/dispersionCache/40.392967,-79.855709_0-50/20190401_220000-0400_1h_23h_0', '/projects/9ab71616-fcde-4524-bf8f-7953c669ebbb/air-src/linRegModel/dispersionCache/40.392967,-79.855709_0-50/20190401_230000-0400_1h_22h_0', '/projects/9ab71616-fcde-4524-bf8f-7953c669ebbb/air-src/linRegModel/dispersionCache/40.392967,-79.855709_0-50/20190402_000000-0400_1h_21h_0', '/projects/9ab71616-fcde-4524-bf8f-7953c669ebbb/air-src/linRegModel/dispersionCache/40.392967,-79.855709_0-50/20190402_010000-0400_1h_20h_0', '/projects/9ab71616-fcde-4524-bf8f-7953c669ebbb/air-src/linRegModel/dispersionCache/40.392967,-79.855709_0-50/20190402_020000-0400_1h_19h_0', '/projects/9ab71616-fcde-4524-bf8f-7953c669ebbb/air-src/linRegModel/dispersionCache/40.392967,-79.855709_0-50/20190402_030000-0400_1h_18h_0', '/projects/9ab71616-fcde-4524-bf8f-7953c669ebbb/air-src/linRegModel/dispersionCache/40.392967,-79.855709_0-50/20190402_040000-0400_1h_17h_0', '/projects/9ab71616-fcde-4524-bf8f-7953c669ebbb/air-src/linRegModel/dispersionCache/40.392967,-79.855709_0-50/20190402_050000-0400_1h_16h_0', '/projects/9ab71616-fcde-4524-bf8f-7953c669ebbb/air-src/linRegModel/dispersionCache/40.392967,-79.855709_0-50/20190402_060000-0400_1h_15h_0', '/projects/9ab71616-fcde-4524-bf8f-7953c669ebbb/air-src/linRegModel/dispersionCache/40.392967,-79.855709_0-50/20190402_070000-0400_1h_14h_0', '/projects/9ab71616-fcde-4524-bf8f-7953c669ebbb/air-src/linRegModel/dispersionCache/40.392967,-79.855709_0-50/20190402_080000-0400_1h_13h_0', '/projects/9ab71616-fcde-4524-bf8f-7953c669ebbb/air-src/linRegModel/dispersionCache/40.392967,-79.855709_0-50/20190402_090000-0400_1h_12h_0', '/projects/9ab71616-fcde-4524-bf8f-7953c669ebbb/air-src/linRegModel/dispersionCache/40.392967,-79.855709_0-50/20190402_100000-0400_1h_11h_0', '/projects/9ab71616-fcde-4524-bf8f-7953c669ebbb/air-src/linRegModel/dispersionCache/40.392967,-79.855709_0-50/20190402_110000-0400_1h_10h_0', '/projects/9ab71616-fcde-4524-bf8f-7953c669ebbb/air-src/linRegModel/dispersionCache/40.392967,-79.855709_0-50/20190402_120000-0400_1h_9h_0', '/projects/9ab71616-fcde-4524-bf8f-7953c669ebbb/air-src/linRegModel/dispersionCache/40.392967,-79.855709_0-50/20190402_130000-0400_1h_8h_0', '/projects/9ab71616-fcde-4524-bf8f-7953c669ebbb/air-src/linRegModel/dispersionCache/40.392967,-79.855709_0-50/20190402_140000-0400_1h_7h_0', '/projects/9ab71616-fcde-4524-bf8f-7953c669ebbb/air-src/linRegModel/dispersionCache/40.392967,-79.855709_0-50/20190402_150000-0400_1h_6h_0', '/projects/9ab71616-fcde-4524-bf8f-7953c669ebbb/air-src/linRegModel/dispersionCache/40.392967,-79.855709_0-50/20190402_160000-0400_1h_5h_0', '/projects/9ab71616-fcde-4524-bf8f-7953c669ebbb/air-src/linRegModel/dispersionCache/40.392967,-79.855709_0-50/20190402_170000-0400_1h_4h_0', '/projects/9ab71616-fcde-4524-bf8f-7953c669ebbb/air-src/linRegModel/dispersionCache/40.392967,-79.855709_0-50/20190402_180000-0400_1h_3h_0', '/projects/9ab71616-fcde-4524-bf8f-7953c669ebbb/air-src/linRegModel/dispersionCache/40.392967,-79.855709_0-50/20190402_190000-0400_1h_2h_0', '/projects/9ab71616-fcde-4524-bf8f-7953c669ebbb/air-src/linRegModel/dispersionCache/40.392967,-79.855709_0-50/20190402_200000-0400_1h_1h_0', '/projects/9ab71616-fcde-4524-bf8f-7953c669ebbb/air-src/linRegModel/dispersionCache/40.305062,-79.876692_0-50/20190401_210000-0400_1h_24h_0', '/projects/9ab71616-fcde-4524-bf8f-7953c669ebbb/air-src/linRegModel/dispersionCache/40.305062,-79.876692_0-50/20190401_220000-0400_1h_23h_0', '/projects/9ab71616-fcde-4524-bf8f-7953c669ebbb/air-src/linRegModel/dispersionCache/40.305062,-79.876692_0-50/20190401_230000-0400_1h_22h_0', '/projects/9ab71616-fcde-4524-bf8f-7953c669ebbb/air-src/linRegModel/dispersionCache/40.305062,-79.876692_0-50/20190402_000000-0400_1h_21h_0', '/projects/9ab71616-fcde-4524-bf8f-7953c669ebbb/air-src/linRegModel/dispersionCache/40.305062,-79.876692_0-50/20190402_010000-0400_1h_20h_0', '/projects/9ab71616-fcde-4524-bf8f-7953c669ebbb/air-src/linRegModel/dispersionCache/40.305062,-79.876692_0-50/20190402_020000-0400_1h_19h_0', '/projects/9ab71616-fcde-4524-bf8f-7953c669ebbb/air-src/linRegModel/dispersionCache/40.305062,-79.876692_0-50/20190402_030000-0400_1h_18h_0', '/projects/9ab71616-fcde-4524-bf8f-7953c669ebbb/air-src/linRegModel/dispersionCache/40.305062,-79.876692_0-50/20190402_040000-0400_1h_17h_0', '/projects/9ab71616-fcde-4524-bf8f-7953c669ebbb/air-src/linRegModel/dispersionCache/40.305062,-79.876692_0-50/20190402_050000-0400_1h_16h_0', '/projects/9ab71616-fcde-4524-bf8f-7953c669ebbb/air-src/linRegModel/dispersionCache/40.305062,-79.876692_0-50/20190402_060000-0400_1h_15h_0', '/projects/9ab71616-fcde-4524-bf8f-7953c669ebbb/air-src/linRegModel/dispersionCache/40.305062,-79.876692_0-50/20190402_070000-0400_1h_14h_0', '/projects/9ab71616-fcde-4524-bf8f-7953c669ebbb/air-src/linRegModel/dispersionCache/40.305062,-79.876692_0-50/20190402_080000-0400_1h_13h_0', '/projects/9ab71616-fcde-4524-bf8f-7953c669ebbb/air-src/linRegModel/dispersionCache/40.305062,-79.876692_0-50/20190402_090000-0400_1h_12h_0', '/projects/9ab71616-fcde-4524-bf8f-7953c669ebbb/air-src/linRegModel/dispersionCache/40.305062,-79.876692_0-50/20190402_100000-0400_1h_11h_0', '/projects/9ab71616-fcde-4524-bf8f-7953c669ebbb/air-src/linRegModel/dispersionCache/40.305062,-79.876692_0-50/20190402_110000-0400_1h_10h_0', '/projects/9ab71616-fcde-4524-bf8f-7953c669ebbb/air-src/linRegModel/dispersionCache/40.305062,-79.876692_0-50/20190402_120000-0400_1h_9h_0', '/projects/9ab71616-fcde-4524-bf8f-7953c669ebbb/air-src/linRegModel/dispersionCache/40.305062,-79.876692_0-50/20190402_130000-0400_1h_8h_0', '/projects/9ab71616-fcde-4524-bf8f-7953c669ebbb/air-src/linRegModel/dispersionCache/40.305062,-79.876692_0-50/20190402_140000-0400_1h_7h_0', '/projects/9ab71616-fcde-4524-bf8f-7953c669ebbb/air-src/linRegModel/dispersionCache/40.305062,-79.876692_0-50/20190402_150000-0400_1h_6h_0', '/projects/9ab71616-fcde-4524-bf8f-7953c669ebbb/air-src/linRegModel/dispersionCache/40.305062,-79.876692_0-50/20190402_160000-0400_1h_5h_0', '/projects/9ab71616-fcde-4524-bf8f-7953c669ebbb/air-src/linRegModel/dispersionCache/40.305062,-79.876692_0-50/20190402_170000-0400_1h_4h_0', '/projects/9ab71616-fcde-4524-bf8f-7953c669ebbb/air-src/linRegModel/dispersionCache/40.305062,-79.876692_0-50/20190402_180000-0400_1h_3h_0', '/projects/9ab71616-fcde-4524-bf8f-7953c669ebbb/air-src/linRegModel/dispersionCache/40.305062,-79.876692_0-50/20190402_190000-0400_1h_2h_0', '/projects/9ab71616-fcde-4524-bf8f-7953c669ebbb/air-src/linRegModel/dispersionCache/40.305062,-79.876692_0-50/20190402_200000-0400_1h_1h_0', '/projects/9ab71616-fcde-4524-bf8f-7953c669ebbb/air-src/linRegModel/dispersionCache/40.538261,-79.790391_0-50/20190401_210000-0400_1h_24h_0', '/projects/9ab71616-fcde-4524-bf8f-7953c669ebbb/air-src/linRegModel/dispersionCache/40.538261,-79.790391_0-50/20190401_220000-0400_1h_23h_0', '/projects/9ab71616-fcde-4524-bf8f-7953c669ebbb/air-src/linRegModel/dispersionCache/40.538261,-79.790391_0-50/20190401_230000-0400_1h_22h_0', '/projects/9ab71616-fcde-4524-bf8f-7953c669ebbb/air-src/linRegModel/dispersionCache/40.538261,-79.790391_0-50/20190402_000000-0400_1h_21h_0', '/projects/9ab71616-fcde-4524-bf8f-7953c669ebbb/air-src/linRegModel/dispersionCache/40.538261,-79.790391_0-50/20190402_010000-0400_1h_20h_0', '/projects/9ab71616-fcde-4524-bf8f-7953c669ebbb/air-src/linRegModel/dispersionCache/40.538261,-79.790391_0-50/20190402_020000-0400_1h_19h_0', '/projects/9ab71616-fcde-4524-bf8f-7953c669ebbb/air-src/linRegModel/dispersionCache/40.538261,-79.790391_0-50/20190402_030000-0400_1h_18h_0', '/projects/9ab71616-fcde-4524-bf8f-7953c669ebbb/air-src/linRegModel/dispersionCache/40.538261,-79.790391_0-50/20190402_040000-0400_1h_17h_0', '/projects/9ab71616-fcde-4524-bf8f-7953c669ebbb/air-src/linRegModel/dispersionCache/40.538261,-79.790391_0-50/20190402_050000-0400_1h_16h_0', '/projects/9ab71616-fcde-4524-bf8f-7953c669ebbb/air-src/linRegModel/dispersionCache/40.538261,-79.790391_0-50/20190402_060000-0400_1h_15h_0', '/projects/9ab71616-fcde-4524-bf8f-7953c669ebbb/air-src/linRegModel/dispersionCache/40.538261,-79.790391_0-50/20190402_070000-0400_1h_14h_0', '/projects/9ab71616-fcde-4524-bf8f-7953c669ebbb/air-src/linRegModel/dispersionCache/40.538261,-79.790391_0-50/20190402_080000-0400_1h_13h_0', '/projects/9ab71616-fcde-4524-bf8f-7953c669ebbb/air-src/linRegModel/dispersionCache/40.538261,-79.790391_0-50/20190402_090000-0400_1h_12h_0', '/projects/9ab71616-fcde-4524-bf8f-7953c669ebbb/air-src/linRegModel/dispersionCache/40.538261,-79.790391_0-50/20190402_100000-0400_1h_11h_0', '/projects/9ab71616-fcde-4524-bf8f-7953c669ebbb/air-src/linRegModel/dispersionCache/40.538261,-79.790391_0-50/20190402_110000-0400_1h_10h_0', '/projects/9ab71616-fcde-4524-bf8f-7953c669ebbb/air-src/linRegModel/dispersionCache/40.538261,-79.790391_0-50/20190402_120000-0400_1h_9h_0', '/projects/9ab71616-fcde-4524-bf8f-7953c669ebbb/air-src/linRegModel/dispersionCache/40.538261,-79.790391_0-50/20190402_130000-0400_1h_8h_0', '/projects/9ab71616-fcde-4524-bf8f-7953c669ebbb/air-src/linRegModel/dispersionCache/40.538261,-79.790391_0-50/20190402_140000-0400_1h_7h_0', '/projects/9ab71616-fcde-4524-bf8f-7953c669ebbb/air-src/linRegModel/dispersionCache/40.538261,-79.790391_0-50/20190402_150000-0400_1h_6h_0', '/projects/9ab71616-fcde-4524-bf8f-7953c669ebbb/air-src/linRegModel/dispersionCache/40.538261,-79.790391_0-50/20190402_160000-0400_1h_5h_0', '/projects/9ab71616-fcde-4524-bf8f-7953c669ebbb/air-src/linRegModel/dispersionCache/40.538261,-79.790391_0-50/20190402_170000-0400_1h_4h_0', '/projects/9ab71616-fcde-4524-bf8f-7953c669ebbb/air-src/linRegModel/dispersionCache/40.538261,-79.790391_0-50/20190402_180000-0400_1h_3h_0', '/projects/9ab71616-fcde-4524-bf8f-7953c669ebbb/air-src/linRegModel/dispersionCache/40.538261,-79.790391_0-50/20190402_190000-0400_1h_2h_0', '/projects/9ab71616-fcde-4524-bf8f-7953c669ebbb/air-src/linRegModel/dispersionCache/40.538261,-79.790391_0-50/20190402_200000-0400_1h_1h_0']\n",
      "['/projects/9ab71616-fcde-4524-bf8f-7953c669ebbb/air-src/linRegModel/dispersionCache/40.328015,-79.903551_0-50/20190401_210000-0400_1h_24h_0/PARDUMP.h21.txt', '/projects/9ab71616-fcde-4524-bf8f-7953c669ebbb/air-src/linRegModel/dispersionCache/40.328015,-79.903551_0-50/20190401_220000-0400_1h_23h_0/PARDUMP.h22.txt', '/projects/9ab71616-fcde-4524-bf8f-7953c669ebbb/air-src/linRegModel/dispersionCache/40.328015,-79.903551_0-50/20190401_230000-0400_1h_22h_0/PARDUMP.h23.txt', '/projects/9ab71616-fcde-4524-bf8f-7953c669ebbb/air-src/linRegModel/dispersionCache/40.328015,-79.903551_0-50/20190402_000000-0400_1h_21h_0/PARDUMP.h0.txt', '/projects/9ab71616-fcde-4524-bf8f-7953c669ebbb/air-src/linRegModel/dispersionCache/40.328015,-79.903551_0-50/20190402_010000-0400_1h_20h_0/PARDUMP.h1.txt', '/projects/9ab71616-fcde-4524-bf8f-7953c669ebbb/air-src/linRegModel/dispersionCache/40.328015,-79.903551_0-50/20190402_020000-0400_1h_19h_0/PARDUMP.h2.txt', '/projects/9ab71616-fcde-4524-bf8f-7953c669ebbb/air-src/linRegModel/dispersionCache/40.328015,-79.903551_0-50/20190402_030000-0400_1h_18h_0/PARDUMP.h3.txt', '/projects/9ab71616-fcde-4524-bf8f-7953c669ebbb/air-src/linRegModel/dispersionCache/40.328015,-79.903551_0-50/20190402_040000-0400_1h_17h_0/PARDUMP.h4.txt', '/projects/9ab71616-fcde-4524-bf8f-7953c669ebbb/air-src/linRegModel/dispersionCache/40.328015,-79.903551_0-50/20190402_050000-0400_1h_16h_0/PARDUMP.h5.txt', '/projects/9ab71616-fcde-4524-bf8f-7953c669ebbb/air-src/linRegModel/dispersionCache/40.328015,-79.903551_0-50/20190402_060000-0400_1h_15h_0/PARDUMP.h6.txt', '/projects/9ab71616-fcde-4524-bf8f-7953c669ebbb/air-src/linRegModel/dispersionCache/40.328015,-79.903551_0-50/20190402_070000-0400_1h_14h_0/PARDUMP.h7.txt', '/projects/9ab71616-fcde-4524-bf8f-7953c669ebbb/air-src/linRegModel/dispersionCache/40.328015,-79.903551_0-50/20190402_080000-0400_1h_13h_0/PARDUMP.h8.txt', '/projects/9ab71616-fcde-4524-bf8f-7953c669ebbb/air-src/linRegModel/dispersionCache/40.328015,-79.903551_0-50/20190402_090000-0400_1h_12h_0/PARDUMP.h9.txt', '/projects/9ab71616-fcde-4524-bf8f-7953c669ebbb/air-src/linRegModel/dispersionCache/40.328015,-79.903551_0-50/20190402_100000-0400_1h_11h_0/PARDUMP.h10.txt', '/projects/9ab71616-fcde-4524-bf8f-7953c669ebbb/air-src/linRegModel/dispersionCache/40.328015,-79.903551_0-50/20190402_110000-0400_1h_10h_0/PARDUMP.h11.txt', '/projects/9ab71616-fcde-4524-bf8f-7953c669ebbb/air-src/linRegModel/dispersionCache/40.328015,-79.903551_0-50/20190402_120000-0400_1h_9h_0/PARDUMP.h12.txt', '/projects/9ab71616-fcde-4524-bf8f-7953c669ebbb/air-src/linRegModel/dispersionCache/40.328015,-79.903551_0-50/20190402_130000-0400_1h_8h_0/PARDUMP.h13.txt', '/projects/9ab71616-fcde-4524-bf8f-7953c669ebbb/air-src/linRegModel/dispersionCache/40.328015,-79.903551_0-50/20190402_140000-0400_1h_7h_0/PARDUMP.h14.txt', '/projects/9ab71616-fcde-4524-bf8f-7953c669ebbb/air-src/linRegModel/dispersionCache/40.328015,-79.903551_0-50/20190402_150000-0400_1h_6h_0/PARDUMP.h15.txt', '/projects/9ab71616-fcde-4524-bf8f-7953c669ebbb/air-src/linRegModel/dispersionCache/40.328015,-79.903551_0-50/20190402_160000-0400_1h_5h_0/PARDUMP.h16.txt', '/projects/9ab71616-fcde-4524-bf8f-7953c669ebbb/air-src/linRegModel/dispersionCache/40.328015,-79.903551_0-50/20190402_170000-0400_1h_4h_0/PARDUMP.h17.txt', '/projects/9ab71616-fcde-4524-bf8f-7953c669ebbb/air-src/linRegModel/dispersionCache/40.328015,-79.903551_0-50/20190402_180000-0400_1h_3h_0/PARDUMP.h18.txt', '/projects/9ab71616-fcde-4524-bf8f-7953c669ebbb/air-src/linRegModel/dispersionCache/40.328015,-79.903551_0-50/20190402_190000-0400_1h_2h_0/PARDUMP.h19.txt', '/projects/9ab71616-fcde-4524-bf8f-7953c669ebbb/air-src/linRegModel/dispersionCache/40.328015,-79.903551_0-50/20190402_200000-0400_1h_1h_0/PARDUMP.h20.txt', '/projects/9ab71616-fcde-4524-bf8f-7953c669ebbb/air-src/linRegModel/dispersionCache/40.392967,-79.855709_0-50/20190401_210000-0400_1h_24h_0/PARDUMP.h21.txt', '/projects/9ab71616-fcde-4524-bf8f-7953c669ebbb/air-src/linRegModel/dispersionCache/40.392967,-79.855709_0-50/20190401_220000-0400_1h_23h_0/PARDUMP.h22.txt', '/projects/9ab71616-fcde-4524-bf8f-7953c669ebbb/air-src/linRegModel/dispersionCache/40.392967,-79.855709_0-50/20190401_230000-0400_1h_22h_0/PARDUMP.h23.txt', '/projects/9ab71616-fcde-4524-bf8f-7953c669ebbb/air-src/linRegModel/dispersionCache/40.392967,-79.855709_0-50/20190402_000000-0400_1h_21h_0/PARDUMP.h0.txt', '/projects/9ab71616-fcde-4524-bf8f-7953c669ebbb/air-src/linRegModel/dispersionCache/40.392967,-79.855709_0-50/20190402_010000-0400_1h_20h_0/PARDUMP.h1.txt', '/projects/9ab71616-fcde-4524-bf8f-7953c669ebbb/air-src/linRegModel/dispersionCache/40.392967,-79.855709_0-50/20190402_020000-0400_1h_19h_0/PARDUMP.h2.txt', '/projects/9ab71616-fcde-4524-bf8f-7953c669ebbb/air-src/linRegModel/dispersionCache/40.392967,-79.855709_0-50/20190402_030000-0400_1h_18h_0/PARDUMP.h3.txt', '/projects/9ab71616-fcde-4524-bf8f-7953c669ebbb/air-src/linRegModel/dispersionCache/40.392967,-79.855709_0-50/20190402_040000-0400_1h_17h_0/PARDUMP.h4.txt', '/projects/9ab71616-fcde-4524-bf8f-7953c669ebbb/air-src/linRegModel/dispersionCache/40.392967,-79.855709_0-50/20190402_050000-0400_1h_16h_0/PARDUMP.h5.txt', '/projects/9ab71616-fcde-4524-bf8f-7953c669ebbb/air-src/linRegModel/dispersionCache/40.392967,-79.855709_0-50/20190402_060000-0400_1h_15h_0/PARDUMP.h6.txt', '/projects/9ab71616-fcde-4524-bf8f-7953c669ebbb/air-src/linRegModel/dispersionCache/40.392967,-79.855709_0-50/20190402_070000-0400_1h_14h_0/PARDUMP.h7.txt', '/projects/9ab71616-fcde-4524-bf8f-7953c669ebbb/air-src/linRegModel/dispersionCache/40.392967,-79.855709_0-50/20190402_080000-0400_1h_13h_0/PARDUMP.h8.txt', '/projects/9ab71616-fcde-4524-bf8f-7953c669ebbb/air-src/linRegModel/dispersionCache/40.392967,-79.855709_0-50/20190402_090000-0400_1h_12h_0/PARDUMP.h9.txt', '/projects/9ab71616-fcde-4524-bf8f-7953c669ebbb/air-src/linRegModel/dispersionCache/40.392967,-79.855709_0-50/20190402_100000-0400_1h_11h_0/PARDUMP.h10.txt', '/projects/9ab71616-fcde-4524-bf8f-7953c669ebbb/air-src/linRegModel/dispersionCache/40.392967,-79.855709_0-50/20190402_110000-0400_1h_10h_0/PARDUMP.h11.txt', '/projects/9ab71616-fcde-4524-bf8f-7953c669ebbb/air-src/linRegModel/dispersionCache/40.392967,-79.855709_0-50/20190402_120000-0400_1h_9h_0/PARDUMP.h12.txt', '/projects/9ab71616-fcde-4524-bf8f-7953c669ebbb/air-src/linRegModel/dispersionCache/40.392967,-79.855709_0-50/20190402_130000-0400_1h_8h_0/PARDUMP.h13.txt', '/projects/9ab71616-fcde-4524-bf8f-7953c669ebbb/air-src/linRegModel/dispersionCache/40.392967,-79.855709_0-50/20190402_140000-0400_1h_7h_0/PARDUMP.h14.txt', '/projects/9ab71616-fcde-4524-bf8f-7953c669ebbb/air-src/linRegModel/dispersionCache/40.392967,-79.855709_0-50/20190402_150000-0400_1h_6h_0/PARDUMP.h15.txt', '/projects/9ab71616-fcde-4524-bf8f-7953c669ebbb/air-src/linRegModel/dispersionCache/40.392967,-79.855709_0-50/20190402_160000-0400_1h_5h_0/PARDUMP.h16.txt', '/projects/9ab71616-fcde-4524-bf8f-7953c669ebbb/air-src/linRegModel/dispersionCache/40.392967,-79.855709_0-50/20190402_170000-0400_1h_4h_0/PARDUMP.h17.txt', '/projects/9ab71616-fcde-4524-bf8f-7953c669ebbb/air-src/linRegModel/dispersionCache/40.392967,-79.855709_0-50/20190402_180000-0400_1h_3h_0/PARDUMP.h18.txt', '/projects/9ab71616-fcde-4524-bf8f-7953c669ebbb/air-src/linRegModel/dispersionCache/40.392967,-79.855709_0-50/20190402_190000-0400_1h_2h_0/PARDUMP.h19.txt', '/projects/9ab71616-fcde-4524-bf8f-7953c669ebbb/air-src/linRegModel/dispersionCache/40.392967,-79.855709_0-50/20190402_200000-0400_1h_1h_0/PARDUMP.h20.txt', '/projects/9ab71616-fcde-4524-bf8f-7953c669ebbb/air-src/linRegModel/dispersionCache/40.305062,-79.876692_0-50/20190401_210000-0400_1h_24h_0/PARDUMP.h21.txt', '/projects/9ab71616-fcde-4524-bf8f-7953c669ebbb/air-src/linRegModel/dispersionCache/40.305062,-79.876692_0-50/20190401_220000-0400_1h_23h_0/PARDUMP.h22.txt', '/projects/9ab71616-fcde-4524-bf8f-7953c669ebbb/air-src/linRegModel/dispersionCache/40.305062,-79.876692_0-50/20190401_230000-0400_1h_22h_0/PARDUMP.h23.txt', '/projects/9ab71616-fcde-4524-bf8f-7953c669ebbb/air-src/linRegModel/dispersionCache/40.305062,-79.876692_0-50/20190402_000000-0400_1h_21h_0/PARDUMP.h0.txt', '/projects/9ab71616-fcde-4524-bf8f-7953c669ebbb/air-src/linRegModel/dispersionCache/40.305062,-79.876692_0-50/20190402_010000-0400_1h_20h_0/PARDUMP.h1.txt', '/projects/9ab71616-fcde-4524-bf8f-7953c669ebbb/air-src/linRegModel/dispersionCache/40.305062,-79.876692_0-50/20190402_020000-0400_1h_19h_0/PARDUMP.h2.txt', '/projects/9ab71616-fcde-4524-bf8f-7953c669ebbb/air-src/linRegModel/dispersionCache/40.305062,-79.876692_0-50/20190402_030000-0400_1h_18h_0/PARDUMP.h3.txt', '/projects/9ab71616-fcde-4524-bf8f-7953c669ebbb/air-src/linRegModel/dispersionCache/40.305062,-79.876692_0-50/20190402_040000-0400_1h_17h_0/PARDUMP.h4.txt', '/projects/9ab71616-fcde-4524-bf8f-7953c669ebbb/air-src/linRegModel/dispersionCache/40.305062,-79.876692_0-50/20190402_050000-0400_1h_16h_0/PARDUMP.h5.txt', '/projects/9ab71616-fcde-4524-bf8f-7953c669ebbb/air-src/linRegModel/dispersionCache/40.305062,-79.876692_0-50/20190402_060000-0400_1h_15h_0/PARDUMP.h6.txt', '/projects/9ab71616-fcde-4524-bf8f-7953c669ebbb/air-src/linRegModel/dispersionCache/40.305062,-79.876692_0-50/20190402_070000-0400_1h_14h_0/PARDUMP.h7.txt', '/projects/9ab71616-fcde-4524-bf8f-7953c669ebbb/air-src/linRegModel/dispersionCache/40.305062,-79.876692_0-50/20190402_080000-0400_1h_13h_0/PARDUMP.h8.txt', '/projects/9ab71616-fcde-4524-bf8f-7953c669ebbb/air-src/linRegModel/dispersionCache/40.305062,-79.876692_0-50/20190402_090000-0400_1h_12h_0/PARDUMP.h9.txt', '/projects/9ab71616-fcde-4524-bf8f-7953c669ebbb/air-src/linRegModel/dispersionCache/40.305062,-79.876692_0-50/20190402_100000-0400_1h_11h_0/PARDUMP.h10.txt', '/projects/9ab71616-fcde-4524-bf8f-7953c669ebbb/air-src/linRegModel/dispersionCache/40.305062,-79.876692_0-50/20190402_110000-0400_1h_10h_0/PARDUMP.h11.txt', '/projects/9ab71616-fcde-4524-bf8f-7953c669ebbb/air-src/linRegModel/dispersionCache/40.305062,-79.876692_0-50/20190402_120000-0400_1h_9h_0/PARDUMP.h12.txt', '/projects/9ab71616-fcde-4524-bf8f-7953c669ebbb/air-src/linRegModel/dispersionCache/40.305062,-79.876692_0-50/20190402_130000-0400_1h_8h_0/PARDUMP.h13.txt', '/projects/9ab71616-fcde-4524-bf8f-7953c669ebbb/air-src/linRegModel/dispersionCache/40.305062,-79.876692_0-50/20190402_140000-0400_1h_7h_0/PARDUMP.h14.txt', '/projects/9ab71616-fcde-4524-bf8f-7953c669ebbb/air-src/linRegModel/dispersionCache/40.305062,-79.876692_0-50/20190402_150000-0400_1h_6h_0/PARDUMP.h15.txt', '/projects/9ab71616-fcde-4524-bf8f-7953c669ebbb/air-src/linRegModel/dispersionCache/40.305062,-79.876692_0-50/20190402_160000-0400_1h_5h_0/PARDUMP.h16.txt', '/projects/9ab71616-fcde-4524-bf8f-7953c669ebbb/air-src/linRegModel/dispersionCache/40.305062,-79.876692_0-50/20190402_170000-0400_1h_4h_0/PARDUMP.h17.txt', '/projects/9ab71616-fcde-4524-bf8f-7953c669ebbb/air-src/linRegModel/dispersionCache/40.305062,-79.876692_0-50/20190402_180000-0400_1h_3h_0/PARDUMP.h18.txt', '/projects/9ab71616-fcde-4524-bf8f-7953c669ebbb/air-src/linRegModel/dispersionCache/40.305062,-79.876692_0-50/20190402_190000-0400_1h_2h_0/PARDUMP.h19.txt', '/projects/9ab71616-fcde-4524-bf8f-7953c669ebbb/air-src/linRegModel/dispersionCache/40.305062,-79.876692_0-50/20190402_200000-0400_1h_1h_0/PARDUMP.h20.txt', '/projects/9ab71616-fcde-4524-bf8f-7953c669ebbb/air-src/linRegModel/dispersionCache/40.538261,-79.790391_0-50/20190401_210000-0400_1h_24h_0/PARDUMP.h21.txt', '/projects/9ab71616-fcde-4524-bf8f-7953c669ebbb/air-src/linRegModel/dispersionCache/40.538261,-79.790391_0-50/20190401_220000-0400_1h_23h_0/PARDUMP.h22.txt', '/projects/9ab71616-fcde-4524-bf8f-7953c669ebbb/air-src/linRegModel/dispersionCache/40.538261,-79.790391_0-50/20190401_230000-0400_1h_22h_0/PARDUMP.h23.txt', '/projects/9ab71616-fcde-4524-bf8f-7953c669ebbb/air-src/linRegModel/dispersionCache/40.538261,-79.790391_0-50/20190402_000000-0400_1h_21h_0/PARDUMP.h0.txt', '/projects/9ab71616-fcde-4524-bf8f-7953c669ebbb/air-src/linRegModel/dispersionCache/40.538261,-79.790391_0-50/20190402_010000-0400_1h_20h_0/PARDUMP.h1.txt', '/projects/9ab71616-fcde-4524-bf8f-7953c669ebbb/air-src/linRegModel/dispersionCache/40.538261,-79.790391_0-50/20190402_020000-0400_1h_19h_0/PARDUMP.h2.txt', '/projects/9ab71616-fcde-4524-bf8f-7953c669ebbb/air-src/linRegModel/dispersionCache/40.538261,-79.790391_0-50/20190402_030…"
     ]
    },
    {
     "name": "stdout",
     "output_type": "stream",
     "text": [
      "/projects/9ab71616-fcde-4524-bf8f-7953c669ebbb/air-src/linRegModel/dispersionCache/40.328015,-79.903551_0-50/20190401_220000-0400_1h_23h_0/PARDUMP.h22.txt\n"
     ]
    },
    {
     "name": "stdout",
     "output_type": "stream",
     "text": [
      "/projects/9ab71616-fcde-4524-bf8f-7953c669ebbb/air-src/linRegModel/dispersionCache/40.328015,-79.903551_0-50/20190401_230000-0400_1h_22h_0/PARDUMP.h23.txt\n"
     ]
    },
    {
     "name": "stdout",
     "output_type": "stream",
     "text": [
      "/projects/9ab71616-fcde-4524-bf8f-7953c669ebbb/air-src/linRegModel/dispersionCache/40.328015,-79.903551_0-50/20190402_000000-0400_1h_21h_0/PARDUMP.h0.txt\n"
     ]
    },
    {
     "name": "stdout",
     "output_type": "stream",
     "text": [
      "/projects/9ab71616-fcde-4524-bf8f-7953c669ebbb/air-src/linRegModel/dispersionCache/40.328015,-79.903551_0-50/20190402_010000-0400_1h_20h_0/PARDUMP.h1.txt\n"
     ]
    },
    {
     "name": "stdout",
     "output_type": "stream",
     "text": [
      "/projects/9ab71616-fcde-4524-bf8f-7953c669ebbb/air-src/linRegModel/dispersionCache/40.328015,-79.903551_0-50/20190402_020000-0400_1h_19h_0/PARDUMP.h2.txt\n"
     ]
    },
    {
     "name": "stdout",
     "output_type": "stream",
     "text": [
      "/projects/9ab71616-fcde-4524-bf8f-7953c669ebbb/air-src/linRegModel/dispersionCache/40.328015,-79.903551_0-50/20190402_030000-0400_1h_18h_0/PARDUMP.h3.txt\n"
     ]
    },
    {
     "name": "stdout",
     "output_type": "stream",
     "text": [
      "/projects/9ab71616-fcde-4524-bf8f-7953c669ebbb/air-src/linRegModel/dispersionCache/40.328015,-79.903551_0-50/20190402_040000-0400_1h_17h_0/PARDUMP.h4.txt\n"
     ]
    },
    {
     "name": "stdout",
     "output_type": "stream",
     "text": [
      "/projects/9ab71616-fcde-4524-bf8f-7953c669ebbb/air-src/linRegModel/dispersionCache/40.328015,-79.903551_0-50/20190402_050000-0400_1h_16h_0/PARDUMP.h5.txt\n"
     ]
    },
    {
     "name": "stdout",
     "output_type": "stream",
     "text": [
      "/projects/9ab71616-fcde-4524-bf8f-7953c669ebbb/air-src/linRegModel/dispersionCache/40.328015,-79.903551_0-50/20190402_060000-0400_1h_15h_0/PARDUMP.h6.txt\n"
     ]
    },
    {
     "name": "stdout",
     "output_type": "stream",
     "text": [
      "/projects/9ab71616-fcde-4524-bf8f-7953c669ebbb/air-src/linRegModel/dispersionCache/40.328015,-79.903551_0-50/20190402_070000-0400_1h_14h_0/PARDUMP.h7.txt\n"
     ]
    },
    {
     "name": "stdout",
     "output_type": "stream",
     "text": [
      "/projects/9ab71616-fcde-4524-bf8f-7953c669ebbb/air-src/linRegModel/dispersionCache/40.328015,-79.903551_0-50/20190402_080000-0400_1h_13h_0/PARDUMP.h8.txt\n"
     ]
    },
    {
     "name": "stdout",
     "output_type": "stream",
     "text": [
      "/projects/9ab71616-fcde-4524-bf8f-7953c669ebbb/air-src/linRegModel/dispersionCache/40.328015,-79.903551_0-50/20190402_090000-0400_1h_12h_0/PARDUMP.h9.txt\n"
     ]
    },
    {
     "name": "stdout",
     "output_type": "stream",
     "text": [
      "/projects/9ab71616-fcde-4524-bf8f-7953c669ebbb/air-src/linRegModel/dispersionCache/40.328015,-79.903551_0-50/20190402_100000-0400_1h_11h_0/PARDUMP.h10.txt\n"
     ]
    },
    {
     "name": "stdout",
     "output_type": "stream",
     "text": [
      "/projects/9ab71616-fcde-4524-bf8f-7953c669ebbb/air-src/linRegModel/dispersionCache/40.328015,-79.903551_0-50/20190402_110000-0400_1h_10h_0/PARDUMP.h11.txt\n"
     ]
    },
    {
     "name": "stdout",
     "output_type": "stream",
     "text": [
      "/projects/9ab71616-fcde-4524-bf8f-7953c669ebbb/air-src/linRegModel/dispersionCache/40.328015,-79.903551_0-50/20190402_120000-0400_1h_9h_0/PARDUMP.h12.txt\n"
     ]
    },
    {
     "name": "stdout",
     "output_type": "stream",
     "text": [
      "/projects/9ab71616-fcde-4524-bf8f-7953c669ebbb/air-src/linRegModel/dispersionCache/40.328015,-79.903551_0-50/20190402_130000-0400_1h_8h_0/PARDUMP.h13.txt\n"
     ]
    },
    {
     "name": "stdout",
     "output_type": "stream",
     "text": [
      "/projects/9ab71616-fcde-4524-bf8f-7953c669ebbb/air-src/linRegModel/dispersionCache/40.328015,-79.903551_0-50/20190402_140000-0400_1h_7h_0/PARDUMP.h14.txt\n"
     ]
    },
    {
     "name": "stdout",
     "output_type": "stream",
     "text": [
      "/projects/9ab71616-fcde-4524-bf8f-7953c669ebbb/air-src/linRegModel/dispersionCache/40.328015,-79.903551_0-50/20190402_150000-0400_1h_6h_0/PARDUMP.h15.txt\n"
     ]
    },
    {
     "name": "stdout",
     "output_type": "stream",
     "text": [
      "/projects/9ab71616-fcde-4524-bf8f-7953c669ebbb/air-src/linRegModel/dispersionCache/40.328015,-79.903551_0-50/20190402_160000-0400_1h_5h_0/PARDUMP.h16.txt\n"
     ]
    },
    {
     "name": "stdout",
     "output_type": "stream",
     "text": [
      "/projects/9ab71616-fcde-4524-bf8f-7953c669ebbb/air-src/linRegModel/dispersionCache/40.328015,-79.903551_0-50/20190402_170000-0400_1h_4h_0/PARDUMP.h17.txt\n"
     ]
    },
    {
     "name": "stdout",
     "output_type": "stream",
     "text": [
      "/projects/9ab71616-fcde-4524-bf8f-7953c669ebbb/air-src/linRegModel/dispersionCache/40.328015,-79.903551_0-50/20190402_180000-0400_1h_3h_0/PARDUMP.h18.txt\n"
     ]
    },
    {
     "name": "stdout",
     "output_type": "stream",
     "text": [
      "/projects/9ab71616-fcde-4524-bf8f-7953c669ebbb/air-src/linRegModel/dispersionCache/40.328015,-79.903551_0-50/20190402_190000-0400_1h_2h_0/PARDUMP.h19.txt\n"
     ]
    },
    {
     "name": "stdout",
     "output_type": "stream",
     "text": [
      "/projects/9ab71616-fcde-4524-bf8f-7953c669ebbb/air-src/linRegModel/dispersionCache/40.328015,-79.903551_0-50/20190402_200000-0400_1h_1h_0/PARDUMP.h20.txt\n"
     ]
    },
    {
     "name": "stdout",
     "output_type": "stream",
     "text": [
      "/projects/9ab71616-fcde-4524-bf8f-7953c669ebbb/air-src/linRegModel/dispersionCache/40.392967,-79.855709_0-50/20190401_210000-0400_1h_24h_0/PARDUMP.h21.txt\n"
     ]
    },
    {
     "name": "stdout",
     "output_type": "stream",
     "text": [
      "/projects/9ab71616-fcde-4524-bf8f-7953c669ebbb/air-src/linRegModel/dispersionCache/40.392967,-79.855709_0-50/20190401_220000-0400_1h_23h_0/PARDUMP.h22.txt\n"
     ]
    },
    {
     "name": "stdout",
     "output_type": "stream",
     "text": [
      "/projects/9ab71616-fcde-4524-bf8f-7953c669ebbb/air-src/linRegModel/dispersionCache/40.392967,-79.855709_0-50/20190401_230000-0400_1h_22h_0/PARDUMP.h23.txt\n"
     ]
    },
    {
     "name": "stdout",
     "output_type": "stream",
     "text": [
      "/projects/9ab71616-fcde-4524-bf8f-7953c669ebbb/air-src/linRegModel/dispersionCache/40.392967,-79.855709_0-50/20190402_000000-0400_1h_21h_0/PARDUMP.h0.txt\n"
     ]
    },
    {
     "name": "stdout",
     "output_type": "stream",
     "text": [
      "/projects/9ab71616-fcde-4524-bf8f-7953c669ebbb/air-src/linRegModel/dispersionCache/40.392967,-79.855709_0-50/20190402_010000-0400_1h_20h_0/PARDUMP.h1.txt\n"
     ]
    },
    {
     "name": "stdout",
     "output_type": "stream",
     "text": [
      "/projects/9ab71616-fcde-4524-bf8f-7953c669ebbb/air-src/linRegModel/dispersionCache/40.392967,-79.855709_0-50/20190402_020000-0400_1h_19h_0/PARDUMP.h2.txt\n"
     ]
    },
    {
     "name": "stdout",
     "output_type": "stream",
     "text": [
      "/projects/9ab71616-fcde-4524-bf8f-7953c669ebbb/air-src/linRegModel/dispersionCache/40.392967,-79.855709_0-50/20190402_030000-0400_1h_18h_0/PARDUMP.h3.txt\n"
     ]
    },
    {
     "name": "stdout",
     "output_type": "stream",
     "text": [
      "/projects/9ab71616-fcde-4524-bf8f-7953c669ebbb/air-src/linRegModel/dispersionCache/40.392967,-79.855709_0-50/20190402_040000-0400_1h_17h_0/PARDUMP.h4.txt\n"
     ]
    },
    {
     "name": "stdout",
     "output_type": "stream",
     "text": [
      "/projects/9ab71616-fcde-4524-bf8f-7953c669ebbb/air-src/linRegModel/dispersionCache/40.392967,-79.855709_0-50/20190402_050000-0400_1h_16h_0/PARDUMP.h5.txt\n"
     ]
    },
    {
     "name": "stdout",
     "output_type": "stream",
     "text": [
      "/projects/9ab71616-fcde-4524-bf8f-7953c669ebbb/air-src/linRegModel/dispersionCache/40.392967,-79.855709_0-50/20190402_060000-0400_1h_15h_0/PARDUMP.h6.txt\n"
     ]
    },
    {
     "name": "stdout",
     "output_type": "stream",
     "text": [
      "/projects/9ab71616-fcde-4524-bf8f-7953c669ebbb/air-src/linRegModel/dispersionCache/40.392967,-79.855709_0-50/20190402_070000-0400_1h_14h_0/PARDUMP.h7.txt\n"
     ]
    },
    {
     "name": "stdout",
     "output_type": "stream",
     "text": [
      "/projects/9ab71616-fcde-4524-bf8f-7953c669ebbb/air-src/linRegModel/dispersionCache/40.392967,-79.855709_0-50/20190402_080000-0400_1h_13h_0/PARDUMP.h8.txt\n"
     ]
    },
    {
     "name": "stdout",
     "output_type": "stream",
     "text": [
      "/projects/9ab71616-fcde-4524-bf8f-7953c669ebbb/air-src/linRegModel/dispersionCache/40.392967,-79.855709_0-50/20190402_090000-0400_1h_12h_0/PARDUMP.h9.txt\n"
     ]
    },
    {
     "name": "stdout",
     "output_type": "stream",
     "text": [
      "/projects/9ab71616-fcde-4524-bf8f-7953c669ebbb/air-src/linRegModel/dispersionCache/40.392967,-79.855709_0-50/20190402_100000-0400_1h_11h_0/PARDUMP.h10.txt\n"
     ]
    },
    {
     "name": "stdout",
     "output_type": "stream",
     "text": [
      "/projects/9ab71616-fcde-4524-bf8f-7953c669ebbb/air-src/linRegModel/dispersionCache/40.392967,-79.855709_0-50/20190402_110000-0400_1h_10h_0/PARDUMP.h11.txt\n"
     ]
    },
    {
     "name": "stdout",
     "output_type": "stream",
     "text": [
      "/projects/9ab71616-fcde-4524-bf8f-7953c669ebbb/air-src/linRegModel/dispersionCache/40.392967,-79.855709_0-50/20190402_120000-0400_1h_9h_0/PARDUMP.h12.txt\n"
     ]
    },
    {
     "name": "stdout",
     "output_type": "stream",
     "text": [
      "/projects/9ab71616-fcde-4524-bf8f-7953c669ebbb/air-src/linRegModel/dispersionCache/40.392967,-79.855709_0-50/20190402_130000-0400_1h_8h_0/PARDUMP.h13.txt\n"
     ]
    },
    {
     "name": "stdout",
     "output_type": "stream",
     "text": [
      "/projects/9ab71616-fcde-4524-bf8f-7953c669ebbb/air-src/linRegModel/dispersionCache/40.392967,-79.855709_0-50/20190402_140000-0400_1h_7h_0/PARDUMP.h14.txt\n"
     ]
    },
    {
     "name": "stdout",
     "output_type": "stream",
     "text": [
      "/projects/9ab71616-fcde-4524-bf8f-7953c669ebbb/air-src/linRegModel/dispersionCache/40.392967,-79.855709_0-50/20190402_150000-0400_1h_6h_0/PARDUMP.h15.txt\n"
     ]
    },
    {
     "name": "stdout",
     "output_type": "stream",
     "text": [
      "/projects/9ab71616-fcde-4524-bf8f-7953c669ebbb/air-src/linRegModel/dispersionCache/40.392967,-79.855709_0-50/20190402_160000-0400_1h_5h_0/PARDUMP.h16.txt\n"
     ]
    },
    {
     "name": "stdout",
     "output_type": "stream",
     "text": [
      "/projects/9ab71616-fcde-4524-bf8f-7953c669ebbb/air-src/linRegModel/dispersionCache/40.392967,-79.855709_0-50/20190402_170000-0400_1h_4h_0/PARDUMP.h17.txt\n"
     ]
    },
    {
     "name": "stdout",
     "output_type": "stream",
     "text": [
      "/projects/9ab71616-fcde-4524-bf8f-7953c669ebbb/air-src/linRegModel/dispersionCache/40.392967,-79.855709_0-50/20190402_180000-0400_1h_3h_0/PARDUMP.h18.txt\n"
     ]
    },
    {
     "name": "stdout",
     "output_type": "stream",
     "text": [
      "/projects/9ab71616-fcde-4524-bf8f-7953c669ebbb/air-src/linRegModel/dispersionCache/40.392967,-79.855709_0-50/20190402_190000-0400_1h_2h_0/PARDUMP.h19.txt\n"
     ]
    },
    {
     "name": "stdout",
     "output_type": "stream",
     "text": [
      "/projects/9ab71616-fcde-4524-bf8f-7953c669ebbb/air-src/linRegModel/dispersionCache/40.392967,-79.855709_0-50/20190402_200000-0400_1h_1h_0/PARDUMP.h20.txt\n"
     ]
    },
    {
     "name": "stdout",
     "output_type": "stream",
     "text": [
      "/projects/9ab71616-fcde-4524-bf8f-7953c669ebbb/air-src/linRegModel/dispersionCache/40.305062,-79.876692_0-50/20190401_210000-0400_1h_24h_0/PARDUMP.h21.txt\n"
     ]
    },
    {
     "name": "stdout",
     "output_type": "stream",
     "text": [
      "/projects/9ab71616-fcde-4524-bf8f-7953c669ebbb/air-src/linRegModel/dispersionCache/40.305062,-79.876692_0-50/20190401_220000-0400_1h_23h_0/PARDUMP.h22.txt\n"
     ]
    },
    {
     "name": "stdout",
     "output_type": "stream",
     "text": [
      "/projects/9ab71616-fcde-4524-bf8f-7953c669ebbb/air-src/linRegModel/dispersionCache/40.305062,-79.876692_0-50/20190401_230000-0400_1h_22h_0/PARDUMP.h23.txt\n"
     ]
    },
    {
     "name": "stdout",
     "output_type": "stream",
     "text": [
      "/projects/9ab71616-fcde-4524-bf8f-7953c669ebbb/air-src/linRegModel/dispersionCache/40.305062,-79.876692_0-50/20190402_000000-0400_1h_21h_0/PARDUMP.h0.txt\n"
     ]
    },
    {
     "name": "stdout",
     "output_type": "stream",
     "text": [
      "/projects/9ab71616-fcde-4524-bf8f-7953c669ebbb/air-src/linRegModel/dispersionCache/40.305062,-79.876692_0-50/20190402_010000-0400_1h_20h_0/PARDUMP.h1.txt\n"
     ]
    },
    {
     "name": "stdout",
     "output_type": "stream",
     "text": [
      "/projects/9ab71616-fcde-4524-bf8f-7953c669ebbb/air-src/linRegModel/dispersionCache/40.305062,-79.876692_0-50/20190402_020000-0400_1h_19h_0/PARDUMP.h2.txt\n"
     ]
    },
    {
     "name": "stdout",
     "output_type": "stream",
     "text": [
      "/projects/9ab71616-fcde-4524-bf8f-7953c669ebbb/air-src/linRegModel/dispersionCache/40.305062,-79.876692_0-50/20190402_030000-0400_1h_18h_0/PARDUMP.h3.txt\n"
     ]
    },
    {
     "name": "stdout",
     "output_type": "stream",
     "text": [
      "/projects/9ab71616-fcde-4524-bf8f-7953c669ebbb/air-src/linRegModel/dispersionCache/40.305062,-79.876692_0-50/20190402_040000-0400_1h_17h_0/PARDUMP.h4.txt\n"
     ]
    },
    {
     "name": "stdout",
     "output_type": "stream",
     "text": [
      "/projects/9ab71616-fcde-4524-bf8f-7953c669ebbb/air-src/linRegModel/dispersionCache/40.305062,-79.876692_0-50/20190402_050000-0400_1h_16h_0/PARDUMP.h5.txt\n"
     ]
    },
    {
     "name": "stdout",
     "output_type": "stream",
     "text": [
      "/projects/9ab71616-fcde-4524-bf8f-7953c669ebbb/air-src/linRegModel/dispersionCache/40.305062,-79.876692_0-50/20190402_060000-0400_1h_15h_0/PARDUMP.h6.txt\n"
     ]
    },
    {
     "name": "stdout",
     "output_type": "stream",
     "text": [
      "/projects/9ab71616-fcde-4524-bf8f-7953c669ebbb/air-src/linRegModel/dispersionCache/40.305062,-79.876692_0-50/20190402_070000-0400_1h_14h_0/PARDUMP.h7.txt\n"
     ]
    },
    {
     "name": "stdout",
     "output_type": "stream",
     "text": [
      "/projects/9ab71616-fcde-4524-bf8f-7953c669ebbb/air-src/linRegModel/dispersionCache/40.305062,-79.876692_0-50/20190402_080000-0400_1h_13h_0/PARDUMP.h8.txt\n"
     ]
    },
    {
     "name": "stdout",
     "output_type": "stream",
     "text": [
      "/projects/9ab71616-fcde-4524-bf8f-7953c669ebbb/air-src/linRegModel/dispersionCache/40.305062,-79.876692_0-50/20190402_090000-0400_1h_12h_0/PARDUMP.h9.txt\n"
     ]
    },
    {
     "name": "stdout",
     "output_type": "stream",
     "text": [
      "/projects/9ab71616-fcde-4524-bf8f-7953c669ebbb/air-src/linRegModel/dispersionCache/40.305062,-79.876692_0-50/20190402_100000-0400_1h_11h_0/PARDUMP.h10.txt\n"
     ]
    },
    {
     "name": "stdout",
     "output_type": "stream",
     "text": [
      "/projects/9ab71616-fcde-4524-bf8f-7953c669ebbb/air-src/linRegModel/dispersionCache/40.305062,-79.876692_0-50/20190402_110000-0400_1h_10h_0/PARDUMP.h11.txt\n"
     ]
    },
    {
     "name": "stdout",
     "output_type": "stream",
     "text": [
      "/projects/9ab71616-fcde-4524-bf8f-7953c669ebbb/air-src/linRegModel/dispersionCache/40.305062,-79.876692_0-50/20190402_120000-0400_1h_9h_0/PARDUMP.h12.txt\n"
     ]
    },
    {
     "name": "stdout",
     "output_type": "stream",
     "text": [
      "/projects/9ab71616-fcde-4524-bf8f-7953c669ebbb/air-src/linRegModel/dispersionCache/40.305062,-79.876692_0-50/20190402_130000-0400_1h_8h_0/PARDUMP.h13.txt\n"
     ]
    },
    {
     "name": "stdout",
     "output_type": "stream",
     "text": [
      "/projects/9ab71616-fcde-4524-bf8f-7953c669ebbb/air-src/linRegModel/dispersionCache/40.305062,-79.876692_0-50/20190402_140000-0400_1h_7h_0/PARDUMP.h14.txt\n"
     ]
    },
    {
     "name": "stdout",
     "output_type": "stream",
     "text": [
      "/projects/9ab71616-fcde-4524-bf8f-7953c669ebbb/air-src/linRegModel/dispersionCache/40.305062,-79.876692_0-50/20190402_150000-0400_1h_6h_0/PARDUMP.h15.txt\n"
     ]
    },
    {
     "name": "stdout",
     "output_type": "stream",
     "text": [
      "/projects/9ab71616-fcde-4524-bf8f-7953c669ebbb/air-src/linRegModel/dispersionCache/40.305062,-79.876692_0-50/20190402_160000-0400_1h_5h_0/PARDUMP.h16.txt\n"
     ]
    },
    {
     "name": "stdout",
     "output_type": "stream",
     "text": [
      "/projects/9ab71616-fcde-4524-bf8f-7953c669ebbb/air-src/linRegModel/dispersionCache/40.305062,-79.876692_0-50/20190402_170000-0400_1h_4h_0/PARDUMP.h17.txt\n"
     ]
    },
    {
     "name": "stdout",
     "output_type": "stream",
     "text": [
      "/projects/9ab71616-fcde-4524-bf8f-7953c669ebbb/air-src/linRegModel/dispersionCache/40.305062,-79.876692_0-50/20190402_180000-0400_1h_3h_0/PARDUMP.h18.txt\n"
     ]
    },
    {
     "name": "stdout",
     "output_type": "stream",
     "text": [
      "/projects/9ab71616-fcde-4524-bf8f-7953c669ebbb/air-src/linRegModel/dispersionCache/40.305062,-79.876692_0-50/20190402_190000-0400_1h_2h_0/PARDUMP.h19.txt\n"
     ]
    },
    {
     "name": "stdout",
     "output_type": "stream",
     "text": [
      "/projects/9ab71616-fcde-4524-bf8f-7953c669ebbb/air-src/linRegModel/dispersionCache/40.305062,-79.876692_0-50/20190402_200000-0400_1h_1h_0/PARDUMP.h20.txt\n"
     ]
    },
    {
     "name": "stdout",
     "output_type": "stream",
     "text": [
      "/projects/9ab71616-fcde-4524-bf8f-7953c669ebbb/air-src/linRegModel/dispersionCache/40.538261,-79.790391_0-50/20190401_210000-0400_1h_24h_0/PARDUMP.h21.txt\n"
     ]
    },
    {
     "name": "stdout",
     "output_type": "stream",
     "text": [
      "/projects/9ab71616-fcde-4524-bf8f-7953c669ebbb/air-src/linRegModel/dispersionCache/40.538261,-79.790391_0-50/20190401_220000-0400_1h_23h_0/PARDUMP.h22.txt\n"
     ]
    },
    {
     "name": "stdout",
     "output_type": "stream",
     "text": [
      "/projects/9ab71616-fcde-4524-bf8f-7953c669ebbb/air-src/linRegModel/dispersionCache/40.538261,-79.790391_0-50/20190401_230000-0400_1h_22h_0/PARDUMP.h23.txt\n"
     ]
    },
    {
     "name": "stdout",
     "output_type": "stream",
     "text": [
      "/projects/9ab71616-fcde-4524-bf8f-7953c669ebbb/air-src/linRegModel/dispersionCache/40.538261,-79.790391_0-50/20190402_000000-0400_1h_21h_0/PARDUMP.h0.txt\n"
     ]
    },
    {
     "name": "stdout",
     "output_type": "stream",
     "text": [
      "/projects/9ab71616-fcde-4524-bf8f-7953c669ebbb/air-src/linRegModel/dispersionCache/40.538261,-79.790391_0-50/20190402_010000-0400_1h_20h_0/PARDUMP.h1.txt\n"
     ]
    },
    {
     "name": "stdout",
     "output_type": "stream",
     "text": [
      "/projects/9ab71616-fcde-4524-bf8f-7953c669ebbb/air-src/linRegModel/dispersionCache/40.538261,-79.790391_0-50/20190402_020000-0400_1h_19h_0/PARDUMP.h2.txt\n"
     ]
    },
    {
     "name": "stdout",
     "output_type": "stream",
     "text": [
      "/projects/9ab71616-fcde-4524-bf8f-7953c669ebbb/air-src/linRegModel/dispersionCache/40.538261,-79.790391_0-50/20190402_030000-0400_1h_18h_0/PARDUMP.h3.txt\n"
     ]
    },
    {
     "name": "stdout",
     "output_type": "stream",
     "text": [
      "/projects/9ab71616-fcde-4524-bf8f-7953c669ebbb/air-src/linRegModel/dispersionCache/40.538261,-79.790391_0-50/20190402_040000-0400_1h_17h_0/PARDUMP.h4.txt\n"
     ]
    },
    {
     "name": "stdout",
     "output_type": "stream",
     "text": [
      "/projects/9ab71616-fcde-4524-bf8f-7953c669ebbb/air-src/linRegModel/dispersionCache/40.538261,-79.790391_0-50/20190402_050000-0400_1h_16h_0/PARDUMP.h5.txt\n"
     ]
    },
    {
     "name": "stdout",
     "output_type": "stream",
     "text": [
      "/projects/9ab71616-fcde-4524-bf8f-7953c669ebbb/air-src/linRegModel/dispersionCache/40.538261,-79.790391_0-50/20190402_060000-0400_1h_15h_0/PARDUMP.h6.txt\n"
     ]
    },
    {
     "name": "stdout",
     "output_type": "stream",
     "text": [
      "/projects/9ab71616-fcde-4524-bf8f-7953c669ebbb/air-src/linRegModel/dispersionCache/40.538261,-79.790391_0-50/20190402_070000-0400_1h_14h_0/PARDUMP.h7.txt\n"
     ]
    },
    {
     "name": "stdout",
     "output_type": "stream",
     "text": [
      "/projects/9ab71616-fcde-4524-bf8f-7953c669ebbb/air-src/linRegModel/dispersionCache/40.538261,-79.790391_0-50/20190402_080000-0400_1h_13h_0/PARDUMP.h8.txt\n"
     ]
    },
    {
     "name": "stdout",
     "output_type": "stream",
     "text": [
      "/projects/9ab71616-fcde-4524-bf8f-7953c669ebbb/air-src/linRegModel/dispersionCache/40.538261,-79.790391_0-50/20190402_090000-0400_1h_12h_0/PARDUMP.h9.txt\n"
     ]
    },
    {
     "name": "stdout",
     "output_type": "stream",
     "text": [
      "/projects/9ab71616-fcde-4524-bf8f-7953c669ebbb/air-src/linRegModel/dispersionCache/40.538261,-79.790391_0-50/20190402_100000-0400_1h_11h_0/PARDUMP.h10.txt\n"
     ]
    },
    {
     "name": "stdout",
     "output_type": "stream",
     "text": [
      "/projects/9ab71616-fcde-4524-bf8f-7953c669ebbb/air-src/linRegModel/dispersionCache/40.538261,-79.790391_0-50/20190402_110000-0400_1h_10h_0/PARDUMP.h11.txt\n"
     ]
    },
    {
     "name": "stdout",
     "output_type": "stream",
     "text": [
      "/projects/9ab71616-fcde-4524-bf8f-7953c669ebbb/air-src/linRegModel/dispersionCache/40.538261,-79.790391_0-50/20190402_120000-0400_1h_9h_0/PARDUMP.h12.txt\n"
     ]
    },
    {
     "name": "stdout",
     "output_type": "stream",
     "text": [
      "/projects/9ab71616-fcde-4524-bf8f-7953c669ebbb/air-src/linRegModel/dispersionCache/40.538261,-79.790391_0-50/20190402_130000-0400_1h_8h_0/PARDUMP.h13.txt\n"
     ]
    },
    {
     "name": "stdout",
     "output_type": "stream",
     "text": [
      "/projects/9ab71616-fcde-4524-bf8f-7953c669ebbb/air-src/linRegModel/dispersionCache/40.538261,-79.790391_0-50/20190402_140000-0400_1h_7h_0/PARDUMP.h14.txt\n"
     ]
    },
    {
     "name": "stdout",
     "output_type": "stream",
     "text": [
      "/projects/9ab71616-fcde-4524-bf8f-7953c669ebbb/air-src/linRegModel/dispersionCache/40.538261,-79.790391_0-50/20190402_150000-0400_1h_6h_0/PARDUMP.h15.txt\n"
     ]
    },
    {
     "name": "stdout",
     "output_type": "stream",
     "text": [
      "/projects/9ab71616-fcde-4524-bf8f-7953c669ebbb/air-src/linRegModel/dispersionCache/40.538261,-79.790391_0-50/20190402_160000-0400_1h_5h_0/PARDUMP.h16.txt\n"
     ]
    },
    {
     "name": "stdout",
     "output_type": "stream",
     "text": [
      "/projects/9ab71616-fcde-4524-bf8f-7953c669ebbb/air-src/linRegModel/dispersionCache/40.538261,-79.790391_0-50/20190402_170000-0400_1h_4h_0/PARDUMP.h17.txt\n"
     ]
    },
    {
     "name": "stdout",
     "output_type": "stream",
     "text": [
      "/projects/9ab71616-fcde-4524-bf8f-7953c669ebbb/air-src/linRegModel/dispersionCache/40.538261,-79.790391_0-50/20190402_180000-0400_1h_3h_0/PARDUMP.h18.txt\n"
     ]
    },
    {
     "name": "stdout",
     "output_type": "stream",
     "text": [
      "/projects/9ab71616-fcde-4524-bf8f-7953c669ebbb/air-src/linRegModel/dispersionCache/40.538261,-79.790391_0-50/20190402_190000-0400_1h_2h_0/PARDUMP.h19.txt\n"
     ]
    },
    {
     "name": "stdout",
     "output_type": "stream",
     "text": [
      "/projects/9ab71616-fcde-4524-bf8f-7953c669ebbb/air-src/linRegModel/dispersionCache/40.538261,-79.790391_0-50/20190402_200000-0400_1h_1h_0/PARDUMP.h20.txt\n"
     ]
    },
    {
     "name": "stdout",
     "output_type": "stream",
     "text": [
      "Created /projects/cocalc-www.createlab.org/pardumps/plume_20190402.bin\n",
      "====================================================================================================\n",
      "====================================================================================================\n",
      "start_time_eastern: 2019-04-22 21:00\n",
      "o_file: /projects/cocalc-www.createlab.org/pardumps/plume_20190423.bin\n",
      "/opt/hysplit/exec/hycs_std\n",
      "/opt/hysplit/exec/hycs_std\n",
      "/opt/hysplit/exec/hycs_std\n",
      "/opt/hysplit/exec/hycs_std\n",
      "/opt/hysplit/exec/hycs_std\n"
     ]
    },
    {
     "name": "stdout",
     "output_type": "stream",
     "text": [
      "/opt/hysplit/exec/hycs_std\n",
      "/opt/hysplit/exec/hycs_std\n",
      "/opt/hysplit/exec/hycs_std\n",
      "/opt/hysplit/exec/hycs_std\n",
      "/opt/hysplit/exec/hycs_std\n",
      "/opt/hysplit/exec/hycs_std\n",
      "/opt/hysplit/exec/hycs_std\n",
      "/opt/hysplit/exec/hycs_std\n",
      "/opt/hysplit/exec/hycs_std\n",
      "/opt/hysplit/exec/hycs_std\n",
      "/opt/hysplit/exec/hycs_std\n"
     ]
    },
    {
     "name": "stdout",
     "output_type": "stream",
     "text": [
      "/opt/hysplit/exec/hycs_std\n",
      "/opt/hysplit/exec/hycs_std\n",
      "/opt/hysplit/exec/hycs_std\n",
      "/opt/hysplit/exec/hycs_std\n",
      "/opt/hysplit/exec/hycs_std\n",
      "/opt/hysplit/exec/hycs_std\n",
      "/opt/hysplit/exec/hycs_std\n",
      "/opt/hysplit/exec/hycs_std\n"
     ]
    },
    {
     "name": "stdout",
     "output_type": "stream",
     "text": [
      "HYSPLIT4 - Initialization \n",
      " Last Changed Rev: 998\n",
      " Last Changed Date: 2019-02-06 15:05:17 -0500 (Wed, 06 Feb 2019)\n",
      " \n",
      "  NOTICE   main: using namelist file - SETUP.CFG                                                                       \n",
      " WARNING depset: # pollutants defined -           1\n",
      " Calculation Started ... please be patient\n",
      " Percent complete: 100.0\n",
      " Complete Hysplit\n"
     ]
    },
    {
     "name": "stdout",
     "output_type": "stream",
     "text": [
      "HYSPLIT4 - Initialization \n",
      " Last Changed Rev: 998\n",
      " Last Changed Date: 2019-02-06 15:05:17 -0500 (Wed, 06 Feb 2019)\n",
      " \n",
      "  NOTICE   main: using namelist file - SETUP.CFG                                                                       \n",
      " WARNING depset: # pollutants defined -           1\n",
      " Calculation Started ... please be patient\n",
      " Percent complete:  50.0\n",
      " Percent complete: 100.0\n",
      " Complete Hysplit\n"
     ]
    },
    {
     "name": "stdout",
     "output_type": "stream",
     "text": [
      "HYSPLIT4 - Initialization \n",
      " Last Changed Rev: 998\n",
      " Last Changed Date: 2019-02-06 15:05:17 -0500 (Wed, 06 Feb 2019)\n",
      " \n",
      "  NOTICE   main: using namelist file - SETUP.CFG                                                                       \n",
      " WARNING depset: # pollutants defined -           1\n",
      " Calculation Started ... please be patient\n",
      " Percent complete:  33.3\n",
      " Percent complete:  66.7\n",
      " Percent complete: 100.0\n",
      " Complete Hysplit\n"
     ]
    },
    {
     "name": "stdout",
     "output_type": "stream",
     "text": [
      "HYSPLIT4 - Initialization \n",
      " Last Changed Rev: 998\n",
      " Last Changed Date: 2019-02-06 15:05:17 -0500 (Wed, 06 Feb 2019)\n",
      " \n",
      "  NOTICE   main: using namelist file - SETUP.CFG                                                                       \n",
      " WARNING depset: # pollutants defined -           1\n",
      " Calculation Started ... please be patient\n",
      " Percent complete:  25.0\n",
      " Percent complete:  50.0\n",
      " Percent complete:  75.0\n",
      " Percent complete: 100.0\n",
      " Complete Hysplit\n"
     ]
    },
    {
     "name": "stdout",
     "output_type": "stream",
     "text": [
      "HYSPLIT4 - Initialization \n",
      " Last Changed Rev: 998\n",
      " Last Changed Date: 2019-02-06 15:05:17 -0500 (Wed, 06 Feb 2019)\n",
      " \n",
      "  NOTICE   main: using namelist file - SETUP.CFG                                                                       \n",
      " WARNING depset: # pollutants defined -           1\n",
      " Calculation Started ... please be patient\n",
      " Percent complete:  20.0\n",
      " Percent complete:  40.0\n",
      " Percent complete:  60.0\n",
      " Percent complete:  80.0\n",
      " Percent complete: 100.0\n",
      " Complete Hysplit\n"
     ]
    },
    {
     "name": "stdout",
     "output_type": "stream",
     "text": [
      "HYSPLIT4 - Initialization \n",
      " Last Changed Rev: 998\n",
      " Last Changed Date: 2019-02-06 15:05:17 -0500 (Wed, 06 Feb 2019)\n",
      " \n",
      "  NOTICE   main: using namelist file - SETUP.CFG                                                                       \n",
      " WARNING depset: # pollutants defined -           1\n",
      " Calculation Started ... please be patient\n",
      " Percent complete:  16.7\n",
      " Percent complete:  33.3\n",
      " Percent complete:  50.0\n",
      " Percent complete:  66.7\n",
      " Percent complete:  83.3\n",
      " Percent complete: 100.0\n",
      " Complete Hysplit\n"
     ]
    },
    {
     "name": "stdout",
     "output_type": "stream",
     "text": [
      "HYSPLIT4 - Initialization \n",
      " Last Changed Rev: 998\n",
      " Last Changed Date: 2019-02-06 15:05:17 -0500 (Wed, 06 Feb 2019)\n",
      " \n",
      "  NOTICE   main: using namelist file - SETUP.CFG                                                                       \n",
      " WARNING depset: # pollutants defined -           1\n",
      " Calculation Started ... please be patient\n",
      " Percent complete:  14.3\n",
      " Percent complete:  28.6\n",
      " Percent complete:  42.9\n",
      " Percent complete:  57.1\n",
      " Percent complete:  71.4\n",
      " Percent complete:  85.7\n",
      " Percent complete: 100.0\n",
      " Complete Hysplit\n"
     ]
    },
    {
     "name": "stdout",
     "output_type": "stream",
     "text": [
      "HYSPLIT4 - Initialization \n",
      " Last Changed Rev: 998\n",
      " Last Changed Date: 2019-02-06 15:05:17 -0500 (Wed, 06 Feb 2019)\n",
      " \n",
      "  NOTICE   main: using namelist file - SETUP.CFG                                                                       \n",
      " WARNING depset: # pollutants defined -           1\n",
      " Calculation Started ... please be patient\n",
      " Percent complete:  11.1\n",
      " Percent complete:  22.2\n",
      " Percent complete:  33.3\n",
      " Percent complete:  44.4\n",
      " Percent complete:  55.6\n",
      " Percent complete:  66.7\n",
      " Percent complete:  77.8\n",
      " Percent complete:  88.9\n",
      " Percent complete: 100.0\n",
      " Complete Hysplit\n"
     ]
    },
    {
     "name": "stdout",
     "output_type": "stream",
     "text": [
      "HYSPLIT4 - Initialization \n",
      " Last Changed Rev: 998\n",
      " Last Changed Date: 2019-02-06 15:05:17 -0500 (Wed, 06 Feb 2019)\n",
      " \n",
      "  NOTICE   main: using namelist file - SETUP.CFG                                                                       \n",
      " WARNING depset: # pollutants defined -           1\n",
      " Calculation Started ... please be patient\n",
      " Percent complete:  12.5\n",
      " Percent complete:  25.0\n",
      " Percent complete:  37.5\n",
      " Percent complete:  50.0\n",
      " Percent complete:  62.5\n",
      " Percent complete:  75.0\n",
      " Percent complete:  87.5\n",
      " Percent complete: 100.0\n",
      " Complete Hysplit\n"
     ]
    },
    {
     "name": "stdout",
     "output_type": "stream",
     "text": [
      "HYSPLIT4 - Initialization \n",
      " Last Changed Rev: 998\n",
      " Last Changed Date: 2019-02-06 15:05:17 -0500 (Wed, 06 Feb 2019)\n",
      " \n",
      "  NOTICE   main: using namelist file - SETUP.CFG                                                                       \n",
      " WARNING depset: # pollutants defined -           1\n",
      " Calculation Started ... please be patient\n",
      " Percent complete:  10.0\n",
      " Percent complete:  20.0\n",
      " Percent complete:  30.0\n",
      " Percent complete:  40.0\n",
      " Percent complete:  50.0\n",
      " Percent complete:  60.0\n",
      " Percent complete:  70.0\n",
      " Percent complete:  80.0\n",
      " Percent complete:  90.0\n",
      " Percent complete: 100.0\n",
      " Complete Hysplit\n"
     ]
    },
    {
     "name": "stdout",
     "output_type": "stream",
     "text": [
      "HYSPLIT4 - Initialization \n",
      " Last Changed Rev: 998\n",
      " Last Changed Date: 2019-02-06 15:05:17 -0500 (Wed, 06 Feb 2019)\n",
      " \n",
      "  NOTICE   main: using namelist file - SETUP.CFG                                                                       \n",
      " WARNING depset: # pollutants defined -           1\n",
      " Calculation Started ... please be patient\n",
      " Percent complete:   9.1\n",
      " Percent complete:  18.2\n",
      " Percent complete:  27.3\n",
      " Percent complete:  36.4\n",
      " Percent complete:  45.5\n",
      " Percent complete:  54.5\n",
      " Percent complete:  63.6\n",
      " Percent complete:  72.7\n",
      " Percent complete:  81.8\n",
      " Percent complete:  90.9\n",
      " Percent complete: 100.0\n",
      " Complete Hysplit\n"
     ]
    },
    {
     "name": "stdout",
     "output_type": "stream",
     "text": [
      "HYSPLIT4 - Initialization \n",
      " Last Changed Rev: 998\n",
      " Last Changed Date: 2019-02-06 15:05:17 -0500 (Wed, 06 Feb 2019)\n",
      " \n",
      "  NOTICE   main: using namelist file - SETUP.CFG                                                                       \n",
      " WARNING depset: # pollutants defined -           1\n",
      " Calculation Started ... please be patient\n",
      " Percent complete:   8.3\n",
      " Percent complete:  16.7\n",
      " Percent complete:  25.0\n",
      " Percent complete:  33.3\n",
      " Percent complete:  41.7\n",
      " Percent complete:  50.0\n",
      " Percent complete:  58.3\n",
      " Percent complete:  66.7\n",
      " Percent complete:  75.0\n",
      " Percent complete:  83.3\n",
      " Percent complete:  91.7\n",
      " Percent complete: 100.0\n",
      " Complete Hysplit\n"
     ]
    },
    {
     "name": "stdout",
     "output_type": "stream",
     "text": [
      "HYSPLIT4 - Initialization \n",
      " Last Changed Rev: 998\n",
      " Last Changed Date: 2019-02-06 15:05:17 -0500 (Wed, 06 Feb 2019)\n",
      " \n",
      "  NOTICE   main: using namelist file - SETUP.CFG                                                                       \n",
      " WARNING depset: # pollutants defined -           1\n",
      " Calculation Started ... please be patient\n",
      " Percent complete:   7.1\n",
      " Percent complete:  14.3\n",
      " Percent complete:  21.4\n",
      " Percent complete:  28.6\n",
      " Percent complete:  35.7\n",
      " Percent complete:  42.9\n",
      " Percent complete:  50.0\n",
      " Percent complete:  57.1\n",
      " Percent complete:  64.3\n",
      " Percent complete:  71.4\n",
      " Percent complete:  78.6\n",
      " Percent complete:  85.7\n",
      " Percent complete:  92.9\n",
      " Percent complete: 100.0\n",
      " Complete Hysplit\n"
     ]
    },
    {
     "name": "stdout",
     "output_type": "stream",
     "text": [
      "HYSPLIT4 - Initialization \n",
      " Last Changed Rev: 998\n",
      " Last Changed Date: 2019-02-06 15:05:17 -0500 (Wed, 06 Feb 2019)\n",
      " \n",
      "  NOTICE   main: using namelist file - SETUP.CFG                                                                       \n",
      " WARNING depset: # pollutants defined -           1\n",
      " Calculation Started ... please be patient\n",
      " Percent complete:   7.7\n",
      " Percent complete:  15.4\n",
      " Percent complete:  23.1\n",
      " Percent complete:  30.8\n",
      " Percent complete:  38.5\n",
      " Percent complete:  46.2\n",
      " Percent complete:  53.8\n",
      " Percent complete:  61.5\n",
      " Percent complete:  69.2\n",
      " Percent complete:  76.9\n",
      " Percent complete:  84.6\n",
      " Percent complete:  92.3\n",
      " Percent complete: 100.0\n",
      " Complete Hysplit\n"
     ]
    },
    {
     "name": "stdout",
     "output_type": "stream",
     "text": [
      "HYSPLIT4 - Initialization \n",
      " Last Changed Rev: 998\n",
      " Last Changed Date: 2019-02-06 15:05:17 -0500 (Wed, 06 Feb 2019)\n",
      " \n",
      "  NOTICE   main: using namelist file - SETUP.CFG                                                                       \n",
      " WARNING depset: # pollutants defined -           1\n",
      " Calculation Started ... please be patient\n",
      " Percent complete:   6.2\n",
      " Percent complete:  12.5\n",
      " Percent complete:  18.8\n",
      " Percent complete:  25.0\n",
      " Percent complete:  31.2\n",
      " Percent complete:  37.5\n",
      " Percent complete:  43.8\n",
      " Percent complete:  50.0\n",
      " Percent complete:  56.2\n",
      " Percent complete:  62.5\n",
      " Percent complete:  68.8\n",
      " Percent complete:  75.0\n",
      " Percent complete:  81.2\n",
      " Percent complete:  87.5\n",
      " Percent complete:  93.8\n",
      " Percent complete: 100.0\n",
      " Complete Hysplit\n"
     ]
    },
    {
     "name": "stdout",
     "output_type": "stream",
     "text": [
      "HYSPLIT4 - Initialization \n",
      " Last Changed Rev: 998\n",
      " Last Changed Date: 2019-02-06 15:05:17 -0500 (Wed, 06 Feb 2019)\n",
      " \n",
      "  NOTICE   main: using namelist file - SETUP.CFG                                                                       \n",
      " WARNING depset: # pollutants defined -           1\n",
      " Calculation Started ... please be patient\n",
      " Percent complete:   6.7\n",
      " Percent complete:  13.3\n",
      " Percent complete:  20.0\n",
      " Percent complete:  26.7\n",
      " Percent complete:  33.3\n",
      " Percent complete:  40.0\n",
      " Percent complete:  46.7\n",
      " Percent complete:  53.3\n",
      " Percent complete:  60.0\n",
      " Percent complete:  66.7\n",
      " Percent complete:  73.3\n",
      " Percent complete:  80.0\n",
      " Percent complete:  86.7\n",
      " Percent complete:  93.3\n",
      " Percent complete: 100.0\n",
      " Complete Hysplit\n"
     ]
    },
    {
     "name": "stdout",
     "output_type": "stream",
     "text": [
      "HYSPLIT4 - Initialization \n",
      " Last Changed Rev: 998\n",
      " Last Changed Date: 2019-02-06 15:05:17 -0500 (Wed, 06 Feb 2019)\n",
      " \n",
      "  NOTICE   main: using namelist file - SETUP.CFG                                                                       \n",
      " WARNING depset: # pollutants defined -           1\n",
      " Calculation Started ... please be patient\n",
      " Percent complete:   5.9\n",
      " Percent complete:  11.8\n",
      " Percent complete:  17.6\n",
      " Percent complete:  23.5\n",
      " Percent complete:  29.4\n",
      " Percent complete:  35.3\n",
      " Percent complete:  41.2\n",
      " Percent complete:  47.1\n",
      " Percent complete:  52.9\n",
      " Percent complete:  58.8\n",
      " Percent complete:  64.7\n",
      " Percent complete:  70.6\n",
      " Percent complete:  76.5\n",
      " Percent complete:  82.4\n",
      " Percent complete:  88.2\n",
      " Percent complete:  94.1\n",
      " Percent complete: 100.0\n",
      " Complete Hysplit\n"
     ]
    },
    {
     "name": "stdout",
     "output_type": "stream",
     "text": [
      "HYSPLIT4 - Initialization \n",
      " Last Changed Rev: 998\n",
      " Last Changed Date: 2019-02-06 15:05:17 -0500 (Wed, 06 Feb 2019)\n",
      " \n",
      "  NOTICE   main: using namelist file - SETUP.CFG                                                                       \n",
      " WARNING depset: # pollutants defined -           1\n",
      " Calculation Started ... please be patient\n",
      " Percent complete:   5.6\n",
      " Percent complete:  11.1\n",
      " Percent complete:  16.7\n",
      " Percent complete:  22.2\n",
      " Percent complete:  27.8\n",
      " Percent complete:  33.3\n",
      " Percent complete:  38.9\n",
      " Percent complete:  44.4\n",
      " Percent complete:  50.0\n",
      " Percent complete:  55.6\n",
      " Percent complete:  61.1\n",
      " Percent complete:  66.7\n",
      " Percent complete:  72.2\n",
      " Percent complete:  77.8\n",
      " Percent complete:  83.3\n",
      " Percent complete:  88.9\n",
      " Percent complete:  94.4\n",
      " Percent complete: 100.0\n",
      " Complete Hysplit\n"
     ]
    },
    {
     "name": "stdout",
     "output_type": "stream",
     "text": [
      "HYSPLIT4 - Initialization \n",
      " Last Changed Rev: 998\n",
      " Last Changed Date: 2019-02-06 15:05:17 -0500 (Wed, 06 Feb 2019)\n",
      " \n",
      "  NOTICE   main: using namelist file - SETUP.CFG                                                                       \n",
      " WARNING depset: # pollutants defined -           1\n",
      " Calculation Started ... please be patient\n",
      " Percent complete:   5.3\n",
      " Percent complete:  10.5\n",
      " Percent complete:  15.8\n",
      " Percent complete:  21.1\n",
      " Percent complete:  26.3\n",
      " Percent complete:  31.6\n",
      " Percent complete:  36.8\n",
      " Percent complete:  42.1\n",
      " Percent complete:  47.4\n",
      " Percent complete:  52.6\n",
      " Percent complete:  57.9\n",
      " Percent complete:  63.2\n",
      " Percent complete:  68.4\n",
      " Percent complete:  73.7\n",
      " Percent complete:  78.9\n",
      " Percent complete:  84.2\n",
      " Percent complete:  89.5\n",
      " Percent complete:  94.7\n",
      " Percent complete: 100.0\n",
      " Complete Hysplit\n"
     ]
    },
    {
     "name": "stdout",
     "output_type": "stream",
     "text": [
      "HYSPLIT4 - Initialization \n",
      " Last Changed Rev: 998\n",
      " Last Changed Date: 2019-02-06 15:05:17 -0500 (Wed, 06 Feb 2019)\n",
      " \n",
      "  NOTICE   main: using namelist file - SETUP.CFG                                                                       \n",
      " WARNING depset: # pollutants defined -           1\n",
      " Calculation Started ... please be patient\n",
      " Percent complete:   4.8\n",
      " Percent complete:   9.5\n",
      " Percent complete:  14.3\n",
      " Percent complete:  19.0\n",
      " Percent complete:  23.8\n",
      " Percent complete:  28.6\n",
      " Percent complete:  33.3\n",
      " Percent complete:  38.1\n",
      " Percent complete:  42.9\n",
      " Percent complete:  47.6\n",
      " Percent complete:  52.4\n",
      " Percent complete:  57.1\n",
      " Percent complete:  61.9\n",
      " Percent complete:  66.7\n",
      " Percent complete:  71.4\n",
      " Percent complete:  76.2\n",
      " Percent complete:  81.0\n",
      " Percent complete:  85.7\n",
      " Percent complete:  90.5\n",
      " Percent complete:  95.2\n",
      " Percent complete: 100.0\n",
      " Complete Hysplit\n"
     ]
    },
    {
     "name": "stdout",
     "output_type": "stream",
     "text": [
      "HYSPLIT4 - Initialization \n",
      " Last Changed Rev: 998\n",
      " Last Changed Date: 2019-02-06 15:05:17 -0500 (Wed, 06 Feb 2019)\n",
      " \n",
      "  NOTICE   main: using namelist file - SETUP.CFG                                                                       \n",
      " WARNING depset: # pollutants defined -           1\n",
      " Calculation Started ... please be patient\n",
      " Percent complete:   5.0\n",
      " Percent complete:  10.0\n",
      " Percent complete:  15.0\n",
      " Percent complete:  20.0\n",
      " Percent complete:  25.0\n",
      " Percent complete:  30.0\n",
      " Percent complete:  35.0\n",
      " Percent complete:  40.0\n",
      " Percent complete:  45.0\n",
      " Percent complete:  50.0\n",
      " Percent complete:  55.0\n",
      " Percent complete:  60.0\n",
      " Percent complete:  65.0\n",
      " Percent complete:  70.0\n",
      " Percent complete:  75.0\n",
      " Percent complete:  80.0\n",
      " Percent complete:  85.0\n",
      " Percent complete:  90.0\n",
      " Percent complete:  95.0\n",
      " Percent complete: 100.0\n",
      " Complete Hysplit\n"
     ]
    },
    {
     "name": "stdout",
     "output_type": "stream",
     "text": [
      "HYSPLIT4 - Initialization \n",
      " Last Changed Rev: 998\n",
      " Last Changed Date: 2019-02-06 15:05:17 -0500 (Wed, 06 Feb 2019)\n",
      " \n",
      "  NOTICE   main: using namelist file - SETUP.CFG                                                                       \n",
      " WARNING depset: # pollutants defined -           1\n",
      " Calculation Started ... please be patient\n",
      " Percent complete:   4.5\n",
      " Percent complete:   9.1\n",
      " Percent complete:  13.6\n",
      " Percent complete:  18.2\n",
      " Percent complete:  22.7\n",
      " Percent complete:  27.3\n",
      " Percent complete:  31.8\n",
      " Percent complete:  36.4\n",
      " Percent complete:  40.9\n",
      " Percent complete:  45.5\n",
      " Percent complete:  50.0\n",
      " Percent complete:  54.5\n",
      " Percent complete:  59.1\n",
      " Percent complete:  63.6\n",
      " Percent complete:  68.2\n",
      " Percent complete:  72.7\n",
      " Percent complete:  77.3\n",
      " Percent complete:  81.8\n",
      " Percent complete:  86.4\n",
      " Percent complete:  90.9\n",
      " Percent complete:  95.5\n",
      " Percent complete: 100.0\n",
      " Complete Hysplit\n"
     ]
    },
    {
     "name": "stdout",
     "output_type": "stream",
     "text": [
      "HYSPLIT4 - Initialization \n",
      " Last Changed Rev: 998\n",
      " Last Changed Date: 2019-02-06 15:05:17 -0500 (Wed, 06 Feb 2019)\n",
      " \n",
      "  NOTICE   main: using namelist file - SETUP.CFG                                                                       \n",
      " WARNING depset: # pollutants defined -           1\n",
      " Calculation Started ... please be patient\n",
      " Percent complete:   4.3\n",
      " Percent complete:   8.7\n",
      " Percent complete:  13.0\n",
      " Percent complete:  17.4\n",
      " Percent complete:  21.7\n",
      " Percent complete:  26.1\n",
      " Percent complete:  30.4\n",
      " Percent complete:  34.8\n",
      " Percent complete:  39.1\n",
      " Percent complete:  43.5\n",
      " Percent complete:  47.8\n",
      " Percent complete:  52.2\n",
      " Percent complete:  56.5\n",
      " Percent complete:  60.9\n",
      " Percent complete:  65.2\n",
      " Percent complete:  69.6\n",
      " Percent complete:  73.9\n",
      " Percent complete:  78.3\n",
      " Percent complete:  82.6\n",
      " Percent complete:  87.0\n",
      " Percent complete:  91.3\n",
      " Percent complete:  95.7\n",
      " Percent complete: 100.0\n",
      " Complete Hysplit\n"
     ]
    },
    {
     "name": "stdout",
     "output_type": "stream",
     "text": [
      "HYSPLIT4 - Initialization \n",
      " Last Changed Rev: 998\n",
      " Last Changed Date: 2019-02-06 15:05:17 -0500 (Wed, 06 Feb 2019)\n",
      " \n",
      "  NOTICE   main: using namelist file - SETUP.CFG                                                                       \n",
      " WARNING depset: # pollutants defined -           1\n",
      " Calculation Started ... please be patient\n",
      " Percent complete:   4.2\n",
      " Percent complete:   8.3\n",
      " Percent complete:  12.5\n",
      " Percent complete:  16.7\n",
      " Percent complete:  20.8\n",
      " Percent complete:  25.0\n",
      " Percent complete:  29.2\n",
      " Percent complete:  33.3\n",
      " Percent complete:  37.5\n",
      " Percent complete:  41.7\n",
      " Percent complete:  45.8\n",
      " Percent complete:  50.0\n",
      " Percent complete:  54.2\n",
      " Percent complete:  58.3\n",
      " Percent complete:  62.5\n",
      " Percent complete:  66.7\n",
      " Percent complete:  70.8\n",
      " Percent complete:  75.0\n",
      " Percent complete:  79.2\n",
      " Percent complete:  83.3\n",
      " Percent complete:  87.5\n",
      " Percent complete:  91.7\n",
      " Percent complete:  95.8\n",
      " Percent complete: 100.0\n",
      " Complete Hysplit\n",
      "SimpleThreadPoolExecutor succeeded: all 24 jobs completed\n",
      "/opt/hysplit/exec/hycs_std\n",
      "/opt/hysplit/exec/hycs_std\n",
      "/opt/hysplit/exec/hycs_std\n",
      "/opt/hysplit/exec/hycs_std\n",
      "/opt/hysplit/exec/hycs_std\n"
     ]
    },
    {
     "name": "stdout",
     "output_type": "stream",
     "text": [
      "/opt/hysplit/exec/hycs_std\n",
      "/opt/hysplit/exec/hycs_std\n",
      "/opt/hysplit/exec/hycs_std\n",
      "/opt/hysplit/exec/hycs_std\n",
      "/opt/hysplit/exec/hycs_std\n",
      "/opt/hysplit/exec/hycs_std\n",
      "/opt/hysplit/exec/hycs_std\n",
      "/opt/hysplit/exec/hycs_std\n",
      "/opt/hysplit/exec/hycs_std\n"
     ]
    },
    {
     "name": "stdout",
     "output_type": "stream",
     "text": [
      "/opt/hysplit/exec/hycs_std\n",
      "/opt/hysplit/exec/hycs_std\n",
      "/opt/hysplit/exec/hycs_std\n",
      "/opt/hysplit/exec/hycs_std\n",
      "/opt/hysplit/exec/hycs_std\n",
      "/opt/hysplit/exec/hycs_std\n",
      "/opt/hysplit/exec/hycs_std\n",
      "/opt/hysplit/exec/hycs_std\n",
      "/opt/hysplit/exec/hycs_std\n",
      "/opt/hysplit/exec/hycs_std\n"
     ]
    },
    {
     "name": "stdout",
     "output_type": "stream",
     "text": [
      "HYSPLIT4 - Initialization \n",
      " Last Changed Rev: 998\n",
      " Last Changed Date: 2019-02-06 15:05:17 -0500 (Wed, 06 Feb 2019)\n",
      " \n",
      "  NOTICE   main: using namelist file - SETUP.CFG                                                                       \n",
      " WARNING depset: # pollutants defined -           1\n",
      " Calculation Started ... please be patient\n",
      " Percent complete: 100.0\n",
      " Complete Hysplit\n"
     ]
    },
    {
     "name": "stdout",
     "output_type": "stream",
     "text": [
      "HYSPLIT4 - Initialization \n",
      " Last Changed Rev: 998\n",
      " Last Changed Date: 2019-02-06 15:05:17 -0500 (Wed, 06 Feb 2019)\n",
      " \n",
      "  NOTICE   main: using namelist file - SETUP.CFG                                                                       \n",
      " WARNING depset: # pollutants defined -           1\n",
      " Calculation Started ... please be patient\n",
      " Percent complete:  50.0\n",
      " Percent complete: 100.0\n",
      " Complete Hysplit\n"
     ]
    },
    {
     "name": "stdout",
     "output_type": "stream",
     "text": [
      "HYSPLIT4 - Initialization \n",
      " Last Changed Rev: 998\n",
      " Last Changed Date: 2019-02-06 15:05:17 -0500 (Wed, 06 Feb 2019)\n",
      " \n",
      "  NOTICE   main: using namelist file - SETUP.CFG                                                                       \n",
      " WARNING depset: # pollutants defined -           1\n",
      " Calculation Started ... please be patient\n",
      " Percent complete:  33.3\n",
      " Percent complete:  66.7\n",
      " Percent complete: 100.0\n",
      " Complete Hysplit\n"
     ]
    },
    {
     "name": "stdout",
     "output_type": "stream",
     "text": [
      "HYSPLIT4 - Initialization \n",
      " Last Changed Rev: 998\n",
      " Last Changed Date: 2019-02-06 15:05:17 -0500 (Wed, 06 Feb 2019)\n",
      " \n",
      "  NOTICE   main: using namelist file - SETUP.CFG                                                                       \n",
      " WARNING depset: # pollutants defined -           1\n",
      " Calculation Started ... please be patient\n",
      " Percent complete:  25.0\n",
      " Percent complete:  50.0\n",
      " Percent complete:  75.0\n",
      " Percent complete: 100.0\n",
      " Complete Hysplit\n"
     ]
    },
    {
     "name": "stdout",
     "output_type": "stream",
     "text": [
      "HYSPLIT4 - Initialization \n",
      " Last Changed Rev: 998\n",
      " Last Changed Date: 2019-02-06 15:05:17 -0500 (Wed, 06 Feb 2019)\n",
      " \n",
      "  NOTICE   main: using namelist file - SETUP.CFG                                                                       \n",
      " WARNING depset: # pollutants defined -           1\n",
      " Calculation Started ... please be patient\n",
      " Percent complete:  20.0\n",
      " Percent complete:  40.0\n",
      " Percent complete:  60.0\n",
      " Percent complete:  80.0\n",
      " Percent complete: 100.0\n",
      " Complete Hysplit\n"
     ]
    },
    {
     "name": "stdout",
     "output_type": "stream",
     "text": [
      "HYSPLIT4 - Initialization \n",
      " Last Changed Rev: 998\n",
      " Last Changed Date: 2019-02-06 15:05:17 -0500 (Wed, 06 Feb 2019)\n",
      " \n",
      "  NOTICE   main: using namelist file - SETUP.CFG                                                                       \n",
      " WARNING depset: # pollutants defined -           1\n",
      " Calculation Started ... please be patient\n",
      " Percent complete:  16.7\n",
      " Percent complete:  33.3\n",
      " Percent complete:  50.0\n",
      " Percent complete:  66.7\n",
      " Percent complete:  83.3\n",
      " Percent complete: 100.0\n",
      " Complete Hysplit\n"
     ]
    },
    {
     "name": "stdout",
     "output_type": "stream",
     "text": [
      "HYSPLIT4 - Initialization \n",
      " Last Changed Rev: 998\n",
      " Last Changed Date: 2019-02-06 15:05:17 -0500 (Wed, 06 Feb 2019)\n",
      " \n",
      "  NOTICE   main: using namelist file - SETUP.CFG                                                                       \n",
      " WARNING depset: # pollutants defined -           1\n",
      " Calculation Started ... please be patient\n",
      " Percent complete:  14.3\n",
      " Percent complete:  28.6\n",
      " Percent complete:  42.9\n",
      " Percent complete:  57.1\n",
      " Percent complete:  71.4\n",
      " Percent complete:  85.7\n",
      " Percent complete: 100.0\n",
      " Complete Hysplit\n"
     ]
    },
    {
     "name": "stdout",
     "output_type": "stream",
     "text": [
      "HYSPLIT4 - Initialization \n",
      " Last Changed Rev: 998\n",
      " Last Changed Date: 2019-02-06 15:05:17 -0500 (Wed, 06 Feb 2019)\n",
      " \n",
      "  NOTICE   main: using namelist file - SETUP.CFG                                                                       \n",
      " WARNING depset: # pollutants defined -           1\n",
      " Calculation Started ... please be patient\n",
      " Percent complete:  12.5\n",
      " Percent complete:  25.0\n",
      " Percent complete:  37.5\n",
      " Percent complete:  50.0\n",
      " Percent complete:  62.5\n",
      " Percent complete:  75.0\n",
      " Percent complete:  87.5\n",
      " Percent complete: 100.0\n",
      " Complete Hysplit\n"
     ]
    },
    {
     "name": "stdout",
     "output_type": "stream",
     "text": [
      "HYSPLIT4 - Initialization \n",
      " Last Changed Rev: 998\n",
      " Last Changed Date: 2019-02-06 15:05:17 -0500 (Wed, 06 Feb 2019)\n",
      " \n",
      "  NOTICE   main: using namelist file - SETUP.CFG                                                                       \n",
      " WARNING depset: # pollutants defined -           1\n",
      " Calculation Started ... please be patient\n",
      " Percent complete:  11.1\n",
      " Percent complete:  22.2\n",
      " Percent complete:  33.3\n",
      " Percent complete:  44.4\n",
      " Percent complete:  55.6\n",
      " Percent complete:  66.7\n",
      " Percent complete:  77.8\n",
      " Percent complete:  88.9\n",
      " Percent complete: 100.0\n",
      " Complete Hysplit\n"
     ]
    },
    {
     "name": "stdout",
     "output_type": "stream",
     "text": [
      "HYSPLIT4 - Initialization \n",
      " Last Changed Rev: 998\n",
      " Last Changed Date: 2019-02-06 15:05:17 -0500 (Wed, 06 Feb 2019)\n",
      " \n",
      "  NOTICE   main: using namelist file - SETUP.CFG                                                                       \n",
      " WARNING depset: # pollutants defined -           1\n",
      " Calculation Started ... please be patient\n",
      " Percent complete:  10.0\n",
      " Percent complete:  20.0\n",
      " Percent complete:  30.0\n",
      " Percent complete:  40.0\n",
      " Percent complete:  50.0\n",
      " Percent complete:  60.0\n",
      " Percent complete:  70.0\n",
      " Percent complete:  80.0\n",
      " Percent complete:  90.0\n",
      " Percent complete: 100.0\n",
      " Complete Hysplit\n"
     ]
    },
    {
     "name": "stdout",
     "output_type": "stream",
     "text": [
      "HYSPLIT4 - Initialization \n",
      " Last Changed Rev: 998\n",
      " Last Changed Date: 2019-02-06 15:05:17 -0500 (Wed, 06 Feb 2019)\n",
      " \n",
      "  NOTICE   main: using namelist file - SETUP.CFG                                                                       \n",
      " WARNING depset: # pollutants defined -           1\n",
      " Calculation Started ... please be patient\n",
      " Percent complete:   9.1\n",
      " Percent complete:  18.2\n",
      " Percent complete:  27.3\n",
      " Percent complete:  36.4\n",
      " Percent complete:  45.5\n",
      " Percent complete:  54.5\n",
      " Percent complete:  63.6\n",
      " Percent complete:  72.7\n",
      " Percent complete:  81.8\n",
      " Percent complete:  90.9\n",
      " Percent complete: 100.0\n",
      " Complete Hysplit\n"
     ]
    },
    {
     "name": "stdout",
     "output_type": "stream",
     "text": [
      "HYSPLIT4 - Initialization \n",
      " Last Changed Rev: 998\n",
      " Last Changed Date: 2019-02-06 15:05:17 -0500 (Wed, 06 Feb 2019)\n",
      " \n",
      "  NOTICE   main: using namelist file - SETUP.CFG                                                                       \n",
      " WARNING depset: # pollutants defined -           1\n",
      " Calculation Started ... please be patient\n",
      " Percent complete:   7.7\n",
      " Percent complete:  15.4\n",
      " Percent complete:  23.1\n",
      " Percent complete:  30.8\n",
      " Percent complete:  38.5\n",
      " Percent complete:  46.2\n",
      " Percent complete:  53.8\n",
      " Percent complete:  61.5\n",
      " Percent complete:  69.2\n",
      " Percent complete:  76.9\n",
      " Percent complete:  84.6\n",
      " Percent complete:  92.3\n",
      " Percent complete: 100.0\n",
      " Complete Hysplit\n",
      "HYSPLIT4 - Initialization \n",
      " Last Changed Rev: 998\n",
      " Last Changed Date: 2019-02-06 15:05:17 -0500 (Wed, 06 Feb 2019)\n",
      " \n",
      "  NOTICE   main: using namelist file - SETUP.CFG                                                                       \n",
      " WARNING depset: # pollutants defined -           1\n",
      " Calculation Started ... please be patient\n",
      " Percent complete:   8.3\n",
      " Percent complete:  16.7\n",
      " Percent complete:  25.0\n",
      " Percent complete:  33.3\n",
      " Percent complete:  41.7\n",
      " Percent complete:  50.0\n",
      " Percent complete:  58.3\n",
      " Percent complete:  66.7\n",
      " Percent complete:  75.0\n",
      " Percent complete:  83.3\n",
      " Percent complete:  91.7\n",
      " Percent complete: 100.0\n",
      " Complete Hysplit\n"
     ]
    },
    {
     "name": "stdout",
     "output_type": "stream",
     "text": [
      "HYSPLIT4 - Initialization \n",
      " Last Changed Rev: 998\n",
      " Last Changed Date: 2019-02-06 15:05:17 -0500 (Wed, 06 Feb 2019)\n",
      " \n",
      "  NOTICE   main: using namelist file - SETUP.CFG                                                                       \n",
      " WARNING depset: # pollutants defined -           1\n",
      " Calculation Started ... please be patient\n",
      " Percent complete:   7.1\n",
      " Percent complete:  14.3\n",
      " Percent complete:  21.4\n",
      " Percent complete:  28.6\n",
      " Percent complete:  35.7\n",
      " Percent complete:  42.9\n",
      " Percent complete:  50.0\n",
      " Percent complete:  57.1\n",
      " Percent complete:  64.3\n",
      " Percent complete:  71.4\n",
      " Percent complete:  78.6\n",
      " Percent complete:  85.7\n",
      " Percent complete:  92.9\n",
      " Percent complete: 100.0\n",
      " Complete Hysplit\n"
     ]
    },
    {
     "name": "stdout",
     "output_type": "stream",
     "text": [
      "HYSPLIT4 - Initialization \n",
      " Last Changed Rev: 998\n",
      " Last Changed Date: 2019-02-06 15:05:17 -0500 (Wed, 06 Feb 2019)\n",
      " \n",
      "  NOTICE   main: using namelist file - SETUP.CFG                                                                       \n",
      " WARNING depset: # pollutants defined -           1\n",
      " Calculation Started ... please be patient\n",
      " Percent complete:   6.7\n",
      " Percent complete:  13.3\n",
      " Percent complete:  20.0\n",
      " Percent complete:  26.7\n",
      " Percent complete:  33.3\n",
      " Percent complete:  40.0\n",
      " Percent complete:  46.7\n",
      " Percent complete:  53.3\n",
      " Percent complete:  60.0\n",
      " Percent complete:  66.7\n",
      " Percent complete:  73.3\n",
      " Percent complete:  80.0\n",
      " Percent complete:  86.7\n",
      " Percent complete:  93.3\n",
      " Percent complete: 100.0\n",
      " Complete Hysplit\n"
     ]
    },
    {
     "name": "stdout",
     "output_type": "stream",
     "text": [
      "HYSPLIT4 - Initialization \n",
      " Last Changed Rev: 998\n",
      " Last Changed Date: 2019-02-06 15:05:17 -0500 (Wed, 06 Feb 2019)\n",
      " \n",
      "  NOTICE   main: using namelist file - SETUP.CFG                                                                       \n",
      " WARNING depset: # pollutants defined -           1\n",
      " Calculation Started ... please be patient\n",
      " Percent complete:   6.2\n",
      " Percent complete:  12.5\n",
      " Percent complete:  18.8\n",
      " Percent complete:  25.0\n",
      " Percent complete:  31.2\n",
      " Percent complete:  37.5\n",
      " Percent complete:  43.8\n",
      " Percent complete:  50.0\n",
      " Percent complete:  56.2\n",
      " Percent complete:  62.5\n",
      " Percent complete:  68.8\n",
      " Percent complete:  75.0\n",
      " Percent complete:  81.2\n",
      " Percent complete:  87.5\n",
      " Percent complete:  93.8\n",
      " Percent complete: 100.0\n",
      " Complete Hysplit\n"
     ]
    },
    {
     "name": "stdout",
     "output_type": "stream",
     "text": [
      "HYSPLIT4 - Initialization \n",
      " Last Changed Rev: 998\n",
      " Last Changed Date: 2019-02-06 15:05:17 -0500 (Wed, 06 Feb 2019)\n",
      " \n",
      "  NOTICE   main: using namelist file - SETUP.CFG                                                                       \n",
      " WARNING depset: # pollutants defined -           1\n",
      " Calculation Started ... please be patient\n",
      " Percent complete:   5.9\n",
      " Percent complete:  11.8\n",
      " Percent complete:  17.6\n",
      " Percent complete:  23.5\n",
      " Percent complete:  29.4\n",
      " Percent complete:  35.3\n",
      " Percent complete:  41.2\n",
      " Percent complete:  47.1\n",
      " Percent complete:  52.9\n",
      " Percent complete:  58.8\n",
      " Percent complete:  64.7\n",
      " Percent complete:  70.6\n",
      " Percent complete:  76.5\n",
      " Percent complete:  82.4\n",
      " Percent complete:  88.2\n",
      " Percent complete:  94.1\n",
      " Percent complete: 100.0\n",
      " Complete Hysplit\n"
     ]
    },
    {
     "name": "stdout",
     "output_type": "stream",
     "text": [
      "HYSPLIT4 - Initialization \n",
      " Last Changed Rev: 998\n",
      " Last Changed Date: 2019-02-06 15:05:17 -0500 (Wed, 06 Feb 2019)\n",
      " \n",
      "  NOTICE   main: using namelist file - SETUP.CFG                                                                       \n",
      " WARNING depset: # pollutants defined -           1\n",
      " Calculation Started ... please be patient\n",
      " Percent complete:   5.6\n",
      " Percent complete:  11.1\n",
      " Percent complete:  16.7\n",
      " Percent complete:  22.2\n",
      " Percent complete:  27.8\n",
      " Percent complete:  33.3\n",
      " Percent complete:  38.9\n",
      " Percent complete:  44.4\n",
      " Percent complete:  50.0\n",
      " Percent complete:  55.6\n",
      " Percent complete:  61.1\n",
      " Percent complete:  66.7\n",
      " Percent complete:  72.2\n",
      " Percent complete:  77.8\n",
      " Percent complete:  83.3\n",
      " Percent complete:  88.9\n",
      " Percent complete:  94.4\n",
      " Percent complete: 100.0\n",
      " Complete Hysplit\n"
     ]
    },
    {
     "name": "stdout",
     "output_type": "stream",
     "text": [
      "HYSPLIT4 - Initialization \n",
      " Last Changed Rev: 998\n",
      " Last Changed Date: 2019-02-06 15:05:17 -0500 (Wed, 06 Feb 2019)\n",
      " \n",
      "  NOTICE   main: using namelist file - SETUP.CFG                                                                       \n",
      " WARNING depset: # pollutants defined -           1\n",
      " Calculation Started ... please be patient\n",
      " Percent complete:   5.3\n",
      " Percent complete:  10.5\n",
      " Percent complete:  15.8\n",
      " Percent complete:  21.1\n",
      " Percent complete:  26.3\n",
      " Percent complete:  31.6\n",
      " Percent complete:  36.8\n",
      " Percent complete:  42.1\n",
      " Percent complete:  47.4\n",
      " Percent complete:  52.6\n",
      " Percent complete:  57.9\n",
      " Percent complete:  63.2\n",
      " Percent complete:  68.4\n",
      " Percent complete:  73.7\n",
      " Percent complete:  78.9\n",
      " Percent complete:  84.2\n",
      " Percent complete:  89.5\n",
      " Percent complete:  94.7\n",
      " Percent complete: 100.0\n",
      " Complete Hysplit\n"
     ]
    },
    {
     "name": "stdout",
     "output_type": "stream",
     "text": [
      "HYSPLIT4 - Initialization \n",
      " Last Changed Rev: 998\n",
      " Last Changed Date: 2019-02-06 15:05:17 -0500 (Wed, 06 Feb 2019)\n",
      " \n",
      "  NOTICE   main: using namelist file - SETUP.CFG                                                                       \n",
      " WARNING depset: # pollutants defined -           1\n",
      " Calculation Started ... please be patient\n",
      " Percent complete:   5.0\n",
      " Percent complete:  10.0\n",
      " Percent complete:  15.0\n",
      " Percent complete:  20.0\n",
      " Percent complete:  25.0\n",
      " Percent complete:  30.0\n",
      " Percent complete:  35.0\n",
      " Percent complete:  40.0\n",
      " Percent complete:  45.0\n",
      " Percent complete:  50.0\n",
      " Percent complete:  55.0\n",
      " Percent complete:  60.0\n",
      " Percent complete:  65.0\n",
      " Percent complete:  70.0\n",
      " Percent complete:  75.0\n",
      " Percent complete:  80.0\n",
      " Percent complete:  85.0\n",
      " Percent complete:  90.0\n",
      " Percent complete:  95.0\n",
      " Percent complete: 100.0\n",
      " Complete Hysplit\n"
     ]
    },
    {
     "name": "stdout",
     "output_type": "stream",
     "text": [
      "HYSPLIT4 - Initialization \n",
      " Last Changed Rev: 998\n",
      " Last Changed Date: 2019-02-06 15:05:17 -0500 (Wed, 06 Feb 2019)\n",
      " \n",
      "  NOTICE   main: using namelist file - SETUP.CFG                                                                       \n",
      " WARNING depset: # pollutants defined -           1\n",
      " Calculation Started ... please be patient\n",
      " Percent complete:   4.5\n",
      " Percent complete:   9.1\n",
      " Percent complete:  13.6\n",
      " Percent complete:  18.2\n",
      " Percent complete:  22.7\n",
      " Percent complete:  27.3\n",
      " Percent complete:  31.8\n",
      " Percent complete:  36.4\n",
      " Percent complete:  40.9\n",
      " Percent complete:  45.5\n",
      " Percent complete:  50.0\n",
      " Percent complete:  54.5\n",
      " Percent complete:  59.1\n",
      " Percent complete:  63.6\n",
      " Percent complete:  68.2\n",
      " Percent complete:  72.7\n",
      " Percent complete:  77.3\n",
      " Percent complete:  81.8\n",
      " Percent complete:  86.4\n",
      " Percent complete:  90.9\n",
      " Percent complete:  95.5\n",
      " Percent complete: 100.0\n",
      " Complete Hysplit\n"
     ]
    },
    {
     "name": "stdout",
     "output_type": "stream",
     "text": [
      "HYSPLIT4 - Initialization \n",
      " Last Changed Rev: 998\n",
      " Last Changed Date: 2019-02-06 15:05:17 -0500 (Wed, 06 Feb 2019)\n",
      " \n",
      "  NOTICE   main: using namelist file - SETUP.CFG                                                                       \n",
      " WARNING depset: # pollutants defined -           1\n",
      " Calculation Started ... please be patient\n",
      " Percent complete:   4.3\n",
      " Percent complete:   8.7\n",
      " Percent complete:  13.0\n",
      " Percent complete:  17.4\n",
      " Percent complete:  21.7\n",
      " Percent complete:  26.1\n",
      " Percent complete:  30.4\n",
      " Percent complete:  34.8\n",
      " Percent complete:  39.1\n",
      " Percent complete:  43.5\n",
      " Percent complete:  47.8\n",
      " Percent complete:  52.2\n",
      " Percent complete:  56.5\n",
      " Percent complete:  60.9\n",
      " Percent complete:  65.2\n",
      " Percent complete:  69.6\n",
      " Percent complete:  73.9\n",
      " Percent complete:  78.3\n",
      " Percent complete:  82.6\n",
      " Percent complete:  87.0\n",
      " Percent complete:  91.3\n",
      " Percent complete:  95.7\n",
      " Percent complete: 100.0\n",
      " Complete Hysplit\n"
     ]
    },
    {
     "name": "stdout",
     "output_type": "stream",
     "text": [
      "HYSPLIT4 - Initialization \n",
      " Last Changed Rev: 998\n",
      " Last Changed Date: 2019-02-06 15:05:17 -0500 (Wed, 06 Feb 2019)\n",
      " \n",
      "  NOTICE   main: using namelist file - SETUP.CFG                                                                       \n",
      " WARNING depset: # pollutants defined -           1\n",
      " Calculation Started ... please be patient\n",
      " Percent complete:   4.8\n",
      " Percent complete:   9.5\n",
      " Percent complete:  14.3\n",
      " Percent complete:  19.0\n",
      " Percent complete:  23.8\n",
      " Percent complete:  28.6\n",
      " Percent complete:  33.3\n",
      " Percent complete:  38.1\n",
      " Percent complete:  42.9\n",
      " Percent complete:  47.6\n",
      " Percent complete:  52.4\n",
      " Percent complete:  57.1\n",
      " Percent complete:  61.9\n",
      " Percent complete:  66.7\n",
      " Percent complete:  71.4\n",
      " Percent complete:  76.2\n",
      " Percent complete:  81.0\n",
      " Percent complete:  85.7\n",
      " Percent complete:  90.5\n",
      " Percent complete:  95.2\n",
      " Percent complete: 100.0\n",
      " Complete Hysplit\n"
     ]
    },
    {
     "name": "stdout",
     "output_type": "stream",
     "text": [
      "HYSPLIT4 - Initialization \n",
      " Last Changed Rev: 998\n",
      " Last Changed Date: 2019-02-06 15:05:17 -0500 (Wed, 06 Feb 2019)\n",
      " \n",
      "  NOTICE   main: using namelist file - SETUP.CFG                                                                       \n",
      " WARNING depset: # pollutants defined -           1\n",
      " Calculation Started ... please be patient\n",
      " Percent complete:   4.2\n",
      " Percent complete:   8.3\n",
      " Percent complete:  12.5\n",
      " Percent complete:  16.7\n",
      " Percent complete:  20.8\n",
      " Percent complete:  25.0\n",
      " Percent complete:  29.2\n",
      " Percent complete:  33.3\n",
      " Percent complete:  37.5\n",
      " Percent complete:  41.7\n",
      " Percent complete:  45.8\n",
      " Percent complete:  50.0\n",
      " Percent complete:  54.2\n",
      " Percent complete:  58.3\n",
      " Percent complete:  62.5\n",
      " Percent complete:  66.7\n",
      " Percent complete:  70.8\n",
      " Percent complete:  75.0\n",
      " Percent complete:  79.2\n",
      " Percent complete:  83.3\n",
      " Percent complete:  87.5\n",
      " Percent complete:  91.7\n",
      " Percent complete:  95.8\n",
      " Percent complete: 100.0\n",
      " Complete Hysplit\n",
      "SimpleThreadPoolExecutor succeeded: all 24 jobs completed\n",
      "/opt/hysplit/exec/hycs_std\n",
      "/opt/hysplit/exec/hycs_std\n",
      "/opt/hysplit/exec/hycs_std\n",
      "/opt/hysplit/exec/hycs_std\n",
      "/opt/hysplit/exec/hycs_std\n",
      "/opt/hysplit/exec/hycs_std\n",
      "/opt/hysplit/exec/hycs_std\n"
     ]
    },
    {
     "name": "stdout",
     "output_type": "stream",
     "text": [
      "/opt/hysplit/exec/hycs_std\n",
      "/opt/hysplit/exec/hycs_std\n",
      "/opt/hysplit/exec/hycs_std\n",
      "/opt/hysplit/exec/hycs_std\n",
      "/opt/hysplit/exec/hycs_std\n",
      "/opt/hysplit/exec/hycs_std\n",
      "/opt/hysplit/exec/hycs_std\n"
     ]
    },
    {
     "name": "stdout",
     "output_type": "stream",
     "text": [
      "/opt/hysplit/exec/hycs_std\n",
      "/opt/hysplit/exec/hycs_std\n",
      "/opt/hysplit/exec/hycs_std\n",
      "/opt/hysplit/exec/hycs_std\n"
     ]
    },
    {
     "name": "stdout",
     "output_type": "stream",
     "text": [
      "/opt/hysplit/exec/hycs_std\n",
      "/opt/hysplit/exec/hycs_std/opt/hysplit/exec/hycs_std\n",
      "\n",
      "/opt/hysplit/exec/hycs_std\n",
      "/opt/hysplit/exec/hycs_std/opt/hysplit/exec/hycs_std\n",
      "\n"
     ]
    },
    {
     "name": "stdout",
     "output_type": "stream",
     "text": [
      "HYSPLIT4 - Initialization \n",
      " Last Changed Rev: 998\n",
      " Last Changed Date: 2019-02-06 15:05:17 -0500 (Wed, 06 Feb 2019)\n",
      " \n",
      "  NOTICE   main: using namelist file - SETUP.CFG                                                                       \n",
      " WARNING depset: # pollutants defined -           1\n",
      " Calculation Started ... please be patient\n",
      " Percent complete: 100.0\n",
      " Complete Hysplit\n"
     ]
    },
    {
     "name": "stdout",
     "output_type": "stream",
     "text": [
      "HYSPLIT4 - Initialization \n",
      " Last Changed Rev: 998\n",
      " Last Changed Date: 2019-02-06 15:05:17 -0500 (Wed, 06 Feb 2019)\n",
      " \n",
      "  NOTICE   main: using namelist file - SETUP.CFG                                                                       \n",
      " WARNING depset: # pollutants defined -           1\n",
      " Calculation Started ... please be patient\n",
      " Percent complete:  50.0\n",
      " Percent complete: 100.0\n",
      " Complete Hysplit\n"
     ]
    },
    {
     "name": "stdout",
     "output_type": "stream",
     "text": [
      "HYSPLIT4 - Initialization \n",
      " Last Changed Rev: 998\n",
      " Last Changed Date: 2019-02-06 15:05:17 -0500 (Wed, 06 Feb 2019)\n",
      " \n",
      "  NOTICE   main: using namelist file - SETUP.CFG                                                                       \n",
      " WARNING depset: # pollutants defined -           1\n",
      " Calculation Started ... please be patient\n",
      " Percent complete:  33.3\n",
      " Percent complete:  66.7\n",
      " Percent complete: 100.0\n",
      " Complete Hysplit\n"
     ]
    },
    {
     "name": "stdout",
     "output_type": "stream",
     "text": [
      "HYSPLIT4 - Initialization \n",
      " Last Changed Rev: 998\n",
      " Last Changed Date: 2019-02-06 15:05:17 -0500 (Wed, 06 Feb 2019)\n",
      " \n",
      "  NOTICE   main: using namelist file - SETUP.CFG                                                                       \n",
      " WARNING depset: # pollutants defined -           1\n",
      " Calculation Started ... please be patient\n",
      " Percent complete:  25.0\n",
      " Percent complete:  50.0\n",
      " Percent complete:  75.0\n",
      " Percent complete: 100.0\n",
      " Complete Hysplit\n"
     ]
    },
    {
     "name": "stdout",
     "output_type": "stream",
     "text": [
      "HYSPLIT4 - Initialization \n",
      " Last Changed Rev: 998\n",
      " Last Changed Date: 2019-02-06 15:05:17 -0500 (Wed, 06 Feb 2019)\n",
      " \n",
      "  NOTICE   main: using namelist file - SETUP.CFG                                                                       \n",
      " WARNING depset: # pollutants defined -           1\n",
      " Calculation Started ... please be patient\n",
      " Percent complete:  20.0\n",
      " Percent complete:  40.0\n",
      " Percent complete:  60.0\n",
      " Percent complete:  80.0\n",
      " Percent complete: 100.0\n",
      " Complete Hysplit\n"
     ]
    },
    {
     "name": "stdout",
     "output_type": "stream",
     "text": [
      "HYSPLIT4 - Initialization \n",
      " Last Changed Rev: 998\n",
      " Last Changed Date: 2019-02-06 15:05:17 -0500 (Wed, 06 Feb 2019)\n",
      " \n",
      "  NOTICE   main: using namelist file - SETUP.CFG                                                                       \n",
      " WARNING depset: # pollutants defined -           1\n",
      " Calculation Started ... please be patient\n",
      " Percent complete:  16.7\n",
      " Percent complete:  33.3\n",
      " Percent complete:  50.0\n",
      " Percent complete:  66.7\n",
      " Percent complete:  83.3\n",
      " Percent complete: 100.0\n",
      " Complete Hysplit\n"
     ]
    },
    {
     "name": "stdout",
     "output_type": "stream",
     "text": [
      "HYSPLIT4 - Initialization \n",
      " Last Changed Rev: 998\n",
      " Last Changed Date: 2019-02-06 15:05:17 -0500 (Wed, 06 Feb 2019)\n",
      " \n",
      "  NOTICE   main: using namelist file - SETUP.CFG                                                                       \n",
      " WARNING depset: # pollutants defined -           1\n",
      " Calculation Started ... please be patient\n",
      " Percent complete:  14.3\n",
      " Percent complete:  28.6\n",
      " Percent complete:  42.9\n",
      " Percent complete:  57.1\n",
      " Percent complete:  71.4\n",
      " Percent complete:  85.7\n",
      " Percent complete: 100.0\n",
      " Complete Hysplit\n"
     ]
    },
    {
     "name": "stdout",
     "output_type": "stream",
     "text": [
      "HYSPLIT4 - Initialization \n",
      " Last Changed Rev: 998\n",
      " Last Changed Date: 2019-02-06 15:05:17 -0500 (Wed, 06 Feb 2019)\n",
      " \n",
      "  NOTICE   main: using namelist file - SETUP.CFG                                                                       \n",
      " WARNING depset: # pollutants defined -           1\n",
      " Calculation Started ... please be patient\n",
      " Percent complete:  11.1\n",
      " Percent complete:  22.2\n",
      " Percent complete:  33.3\n",
      " Percent complete:  44.4\n",
      " Percent complete:  55.6\n",
      " Percent complete:  66.7\n",
      " Percent complete:  77.8\n",
      " Percent complete:  88.9\n",
      " Percent complete: 100.0\n",
      " Complete Hysplit\n"
     ]
    },
    {
     "name": "stdout",
     "output_type": "stream",
     "text": [
      "HYSPLIT4 - Initialization \n",
      " Last Changed Rev: 998\n",
      " Last Changed Date: 2019-02-06 15:05:17 -0500 (Wed, 06 Feb 2019)\n",
      " \n",
      "  NOTICE   main: using namelist file - SETUP.CFG                                                                       \n",
      " WARNING depset: # pollutants defined -           1\n",
      " Calculation Started ... please be patient\n",
      " Percent complete:  12.5\n",
      " Percent complete:  25.0\n",
      " Percent complete:  37.5\n",
      " Percent complete:  50.0\n",
      " Percent complete:  62.5\n",
      " Percent complete:  75.0\n",
      " Percent complete:  87.5\n",
      " Percent complete: 100.0\n",
      " Complete Hysplit\n"
     ]
    },
    {
     "name": "stdout",
     "output_type": "stream",
     "text": [
      "HYSPLIT4 - Initialization \n",
      " Last Changed Rev: 998\n",
      " Last Changed Date: 2019-02-06 15:05:17 -0500 (Wed, 06 Feb 2019)\n",
      " \n",
      "  NOTICE   main: using namelist file - SETUP.CFG                                                                       \n",
      " WARNING depset: # pollutants defined -           1\n",
      " Calculation Started ... please be patient\n",
      " Percent complete:  10.0\n",
      " Percent complete:  20.0\n",
      " Percent complete:  30.0\n",
      " Percent complete:  40.0\n",
      " Percent complete:  50.0\n",
      " Percent complete:  60.0\n",
      " Percent complete:  70.0\n",
      " Percent complete:  80.0\n",
      " Percent complete:  90.0\n",
      " Percent complete: 100.0\n",
      " Complete Hysplit\n"
     ]
    },
    {
     "name": "stdout",
     "output_type": "stream",
     "text": [
      "HYSPLIT4 - Initialization \n",
      " Last Changed Rev: 998\n",
      " Last Changed Date: 2019-02-06 15:05:17 -0500 (Wed, 06 Feb 2019)\n",
      " \n",
      "  NOTICE   main: using namelist file - SETUP.CFG                                                                       \n",
      " WARNING depset: # pollutants defined -           1\n",
      " Calculation Started ... please be patient\n",
      " Percent complete:   9.1\n",
      " Percent complete:  18.2\n",
      " Percent complete:  27.3\n",
      " Percent complete:  36.4\n",
      " Percent complete:  45.5\n",
      " Percent complete:  54.5\n",
      " Percent complete:  63.6\n",
      " Percent complete:  72.7\n",
      " Percent complete:  81.8\n",
      " Percent complete:  90.9\n",
      " Percent complete: 100.0\n",
      " Complete Hysplit\n"
     ]
    },
    {
     "name": "stdout",
     "output_type": "stream",
     "text": [
      "HYSPLIT4 - Initialization \n",
      " Last Changed Rev: 998\n",
      " Last Changed Date: 2019-02-06 15:05:17 -0500 (Wed, 06 Feb 2019)\n",
      " \n",
      "  NOTICE   main: using namelist file - SETUP.CFG                                                                       \n",
      " WARNING depset: # pollutants defined -           1\n",
      " Calculation Started ... please be patient\n",
      " Percent complete:   8.3\n",
      " Percent complete:  16.7\n",
      " Percent complete:  25.0\n",
      " Percent complete:  33.3\n",
      " Percent complete:  41.7\n",
      " Percent complete:  50.0\n",
      " Percent complete:  58.3\n",
      " Percent complete:  66.7\n",
      " Percent complete:  75.0\n",
      " Percent complete:  83.3\n",
      " Percent complete:  91.7\n",
      " Percent complete: 100.0\n",
      " Complete Hysplit\n"
     ]
    },
    {
     "name": "stdout",
     "output_type": "stream",
     "text": [
      "HYSPLIT4 - Initialization \n",
      " Last Changed Rev: 998\n",
      " Last Changed Date: 2019-02-06 15:05:17 -0500 (Wed, 06 Feb 2019)\n",
      " \n",
      "  NOTICE   main: using namelist file - SETUP.CFG                                                                       \n",
      " WARNING depset: # pollutants defined -           1\n",
      " Calculation Started ... please be patient\n",
      " Percent complete:   7.1\n",
      " Percent complete:  14.3\n",
      " Percent complete:  21.4\n",
      " Percent complete:  28.6\n",
      " Percent complete:  35.7\n",
      " Percent complete:  42.9\n",
      " Percent complete:  50.0\n",
      " Percent complete:  57.1\n",
      " Percent complete:  64.3\n",
      " Percent complete:  71.4\n",
      " Percent complete:  78.6\n",
      " Percent complete:  85.7\n",
      " Percent complete:  92.9\n",
      " Percent complete: 100.0\n",
      " Complete Hysplit\n"
     ]
    },
    {
     "name": "stdout",
     "output_type": "stream",
     "text": [
      "HYSPLIT4 - Initialization \n",
      " Last Changed Rev: 998\n",
      " Last Changed Date: 2019-02-06 15:05:17 -0500 (Wed, 06 Feb 2019)\n",
      " \n",
      "  NOTICE   main: using namelist file - SETUP.CFG                                                                       \n",
      " WARNING depset: # pollutants defined -           1\n",
      " Calculation Started ... please be patient\n",
      " Percent complete:   7.7\n",
      " Percent complete:  15.4\n",
      " Percent complete:  23.1\n",
      " Percent complete:  30.8\n",
      " Percent complete:  38.5\n",
      " Percent complete:  46.2\n",
      " Percent complete:  53.8\n",
      " Percent complete:  61.5\n",
      " Percent complete:  69.2\n",
      " Percent complete:  76.9\n",
      " Percent complete:  84.6\n",
      " Percent complete:  92.3\n",
      " Percent complete: 100.0\n",
      " Complete Hysplit\n"
     ]
    },
    {
     "name": "stdout",
     "output_type": "stream",
     "text": [
      "HYSPLIT4 - Initialization \n",
      " Last Changed Rev: 998\n",
      " Last Changed Date: 2019-02-06 15:05:17 -0500 (Wed, 06 Feb 2019)\n",
      " \n",
      "  NOTICE   main: using namelist file - SETUP.CFG                                                                       \n",
      " WARNING depset: # pollutants defined -           1\n",
      " Calculation Started ... please be patient\n",
      " Percent complete:   6.2\n",
      " Percent complete:  12.5\n",
      " Percent complete:  18.8\n",
      " Percent complete:  25.0\n",
      " Percent complete:  31.2\n",
      " Percent complete:  37.5\n",
      " Percent complete:  43.8\n",
      " Percent complete:  50.0\n",
      " Percent complete:  56.2\n",
      " Percent complete:  62.5\n",
      " Percent complete:  68.8\n",
      " Percent complete:  75.0\n",
      " Percent complete:  81.2\n",
      " Percent complete:  87.5\n",
      " Percent complete:  93.8\n",
      " Percent complete: 100.0\n",
      " Complete Hysplit\n",
      "HYSPLIT4 - Initialization \n",
      " Last Changed Rev: 998\n",
      " Last Changed Date: 2019-02-06 15:05:17 -0500 (Wed, 06 Feb 2019)\n",
      " \n",
      "  NOTICE   main: using namelist file - SETUP.CFG                                                                       \n",
      " WARNING depset: # pollutants defined -           1\n",
      " Calculation Started ... please be patient\n",
      " Percent complete:   6.7\n",
      " Percent complete:  13.3\n",
      " Percent complete:  20.0\n",
      " Percent complete:  26.7\n",
      " Percent complete:  33.3\n",
      " Percent complete:  40.0\n",
      " Percent complete:  46.7\n",
      " Percent complete:  53.3\n",
      " Percent complete:  60.0\n",
      " Percent complete:  66.7\n",
      " Percent complete:  73.3\n",
      " Percent complete:  80.0\n",
      " Percent complete:  86.7\n",
      " Percent complete:  93.3\n",
      " Percent complete: 100.0\n",
      " Complete Hysplit\n"
     ]
    },
    {
     "name": "stdout",
     "output_type": "stream",
     "text": [
      "HYSPLIT4 - Initialization \n",
      " Last Changed Rev: 998\n",
      " Last Changed Date: 2019-02-06 15:05:17 -0500 (Wed, 06 Feb 2019)\n",
      " \n",
      "  NOTICE   main: using namelist file - SETUP.CFG                                                                       \n",
      " WARNING depset: # pollutants defined -           1\n",
      " Calculation Started ... please be patient\n",
      " Percent complete:   5.9\n",
      " Percent complete:  11.8\n",
      " Percent complete:  17.6\n",
      " Percent complete:  23.5\n",
      " Percent complete:  29.4\n",
      " Percent complete:  35.3\n",
      " Percent complete:  41.2\n",
      " Percent complete:  47.1\n",
      " Percent complete:  52.9\n",
      " Percent complete:  58.8\n",
      " Percent complete:  64.7\n",
      " Percent complete:  70.6\n",
      " Percent complete:  76.5\n",
      " Percent complete:  82.4\n",
      " Percent complete:  88.2\n",
      " Percent complete:  94.1\n",
      " Percent complete: 100.0\n",
      " Complete Hysplit\n"
     ]
    },
    {
     "name": "stdout",
     "output_type": "stream",
     "text": [
      "HYSPLIT4 - Initialization \n",
      " Last Changed Rev: 998\n",
      " Last Changed Date: 2019-02-06 15:05:17 -0500 (Wed, 06 Feb 2019)\n",
      " \n",
      "  NOTICE   main: using namelist file - SETUP.CFG                                                                       \n",
      " WARNING depset: # pollutants defined -           1\n",
      " Calculation Started ... please be patient\n",
      " Percent complete:   5.0\n",
      " Percent complete:  10.0\n",
      " Percent complete:  15.0\n",
      " Percent complete:  20.0\n",
      " Percent complete:  25.0\n",
      " Percent complete:  30.0\n",
      " Percent complete:  35.0\n",
      " Percent complete:  40.0\n",
      " Percent complete:  45.0\n",
      " Percent complete:  50.0\n",
      " Percent complete:  55.0\n",
      " Percent complete:  60.0\n",
      " Percent complete:  65.0\n",
      " Percent complete:  70.0\n",
      " Percent complete:  75.0\n",
      " Percent complete:  80.0\n",
      " Percent complete:  85.0\n",
      " Percent complete:  90.0\n",
      " Percent complete:  95.0\n",
      " Percent complete: 100.0\n",
      " Complete Hysplit\n"
     ]
    },
    {
     "name": "stdout",
     "output_type": "stream",
     "text": [
      "HYSPLIT4 - Initialization \n",
      " Last Changed Rev: 998\n",
      " Last Changed Date: 2019-02-06 15:05:17 -0500 (Wed, 06 Feb 2019)\n",
      " \n",
      "  NOTICE   main: using namelist file - SETUP.CFG                                                                       \n",
      " WARNING depset: # pollutants defined -           1\n",
      " Calculation Started ... please be patient\n",
      " Percent complete:   5.6\n",
      " Percent complete:  11.1\n",
      " Percent complete:  16.7\n",
      " Percent complete:  22.2\n",
      " Percent complete:  27.8\n",
      " Percent complete:  33.3\n",
      " Percent complete:  38.9\n",
      " Percent complete:  44.4\n",
      " Percent complete:  50.0\n",
      " Percent complete:  55.6\n",
      " Percent complete:  61.1\n",
      " Percent complete:  66.7\n",
      " Percent complete:  72.2\n",
      " Percent complete:  77.8\n",
      " Percent complete:  83.3\n",
      " Percent complete:  88.9\n",
      " Percent complete:  94.4\n",
      " Percent complete: 100.0\n",
      " Complete Hysplit\n"
     ]
    },
    {
     "name": "stdout",
     "output_type": "stream",
     "text": [
      "HYSPLIT4 - Initialization \n",
      " Last Changed Rev: 998\n",
      " Last Changed Date: 2019-02-06 15:05:17 -0500 (Wed, 06 Feb 2019)\n",
      " \n",
      "  NOTICE   main: using namelist file - SETUP.CFG                                                                       \n",
      " WARNING depset: # pollutants defined -           1\n",
      " Calculation Started ... please be patient\n",
      " Percent complete:   4.8\n",
      " Percent complete:   9.5\n",
      " Percent complete:  14.3\n",
      " Percent complete:  19.0\n",
      " Percent complete:  23.8\n",
      " Percent complete:  28.6\n",
      " Percent complete:  33.3\n",
      " Percent complete:  38.1\n",
      " Percent complete:  42.9\n",
      " Percent complete:  47.6\n",
      " Percent complete:  52.4\n",
      " Percent complete:  57.1\n",
      " Percent complete:  61.9\n",
      " Percent complete:  66.7\n",
      " Percent complete:  71.4\n",
      " Percent complete:  76.2\n",
      " Percent complete:  81.0\n",
      " Percent complete:  85.7\n",
      " Percent complete:  90.5\n",
      " Percent complete:  95.2\n",
      " Percent complete: 100.0\n",
      " Complete Hysplit\n"
     ]
    },
    {
     "name": "stdout",
     "output_type": "stream",
     "text": [
      "HYSPLIT4 - Initialization \n",
      " Last Changed Rev: 998\n",
      " Last Changed Date: 2019-02-06 15:05:17 -0500 (Wed, 06 Feb 2019)\n",
      " \n",
      "  NOTICE   main: using namelist file - SETUP.CFG                                                                       \n",
      " WARNING depset: # pollutants defined -           1\n",
      " Calculation Started ... please be patient\n",
      " Percent complete:   5.3\n",
      " Percent complete:  10.5\n",
      " Percent complete:  15.8\n",
      " Percent complete:  21.1\n",
      " Percent complete:  26.3\n",
      " Percent complete:  31.6\n",
      " Percent complete:  36.8\n",
      " Percent complete:  42.1\n",
      " Percent complete:  47.4\n",
      " Percent complete:  52.6\n",
      " Percent complete:  57.9\n",
      " Percent complete:  63.2\n",
      " Percent complete:  68.4\n",
      " Percent complete:  73.7\n",
      " Percent complete:  78.9\n",
      " Percent complete:  84.2\n",
      " Percent complete:  89.5\n",
      " Percent complete:  94.7\n",
      " Percent complete: 100.0\n",
      " Complete Hysplit\n"
     ]
    },
    {
     "name": "stdout",
     "output_type": "stream",
     "text": [
      "HYSPLIT4 - Initialization \n",
      " Last Changed Rev: 998\n",
      " Last Changed Date: 2019-02-06 15:05:17 -0500 (Wed, 06 Feb 2019)\n",
      " \n",
      "  NOTICE   main: using namelist file - SETUP.CFG                                                                       \n",
      " WARNING depset: # pollutants defined -           1\n",
      " Calculation Started ... please be patient\n",
      " Percent complete:   4.3\n",
      " Percent complete:   8.7\n",
      " Percent complete:  13.0\n",
      " Percent complete:  17.4\n",
      " Percent complete:  21.7\n",
      " Percent complete:  26.1\n",
      " Percent complete:  30.4\n",
      " Percent complete:  34.8\n",
      " Percent complete:  39.1\n",
      " Percent complete:  43.5\n",
      " Percent complete:  47.8\n",
      " Percent complete:  52.2\n",
      " Percent complete:  56.5\n",
      " Percent complete:  60.9\n",
      " Percent complete:  65.2\n",
      " Percent complete:  69.6\n",
      " Percent complete:  73.9\n",
      " Percent complete:  78.3\n",
      " Percent complete:  82.6\n",
      " Percent complete:  87.0\n",
      " Percent complete:  91.3\n",
      " Percent complete:  95.7\n",
      " Percent complete: 100.0\n",
      " Complete Hysplit\n"
     ]
    },
    {
     "name": "stdout",
     "output_type": "stream",
     "text": [
      "HYSPLIT4 - Initialization \n",
      " Last Changed Rev: 998\n",
      " Last Changed Date: 2019-02-06 15:05:17 -0500 (Wed, 06 Feb 2019)\n",
      " \n",
      "  NOTICE   main: using namelist file - SETUP.CFG                                                                       \n",
      " WARNING depset: # pollutants defined -           1\n",
      " Calculation Started ... please be patient\n",
      " Percent complete:   4.5\n",
      " Percent complete:   9.1\n",
      " Percent complete:  13.6\n",
      " Percent complete:  18.2\n",
      " Percent complete:  22.7\n",
      " Percent complete:  27.3\n",
      " Percent complete:  31.8\n",
      " Percent complete:  36.4\n",
      " Percent complete:  40.9\n",
      " Percent complete:  45.5\n",
      " Percent complete:  50.0\n",
      " Percent complete:  54.5\n",
      " Percent complete:  59.1\n",
      " Percent complete:  63.6\n",
      " Percent complete:  68.2\n",
      " Percent complete:  72.7\n",
      " Percent complete:  77.3\n",
      " Percent complete:  81.8\n",
      " Percent complete:  86.4\n",
      " Percent complete:  90.9\n",
      " Percent complete:  95.5\n",
      " Percent complete: 100.0\n",
      " Complete Hysplit\n"
     ]
    },
    {
     "name": "stdout",
     "output_type": "stream",
     "text": [
      "HYSPLIT4 - Initialization \n",
      " Last Changed Rev: 998\n",
      " Last Changed Date: 2019-02-06 15:05:17 -0500 (Wed, 06 Feb 2019)\n",
      " \n",
      "  NOTICE   main: using namelist file - SETUP.CFG                                                                       \n",
      " WARNING depset: # pollutants defined -           1\n",
      " Calculation Started ... please be patient\n",
      " Percent complete:   4.2\n",
      " Percent complete:   8.3\n",
      " Percent complete:  12.5\n",
      " Percent complete:  16.7\n",
      " Percent complete:  20.8\n",
      " Percent complete:  25.0\n",
      " Percent complete:  29.2\n",
      " Percent complete:  33.3\n",
      " Percent complete:  37.5\n",
      " Percent complete:  41.7\n",
      " Percent complete:  45.8\n",
      " Percent complete:  50.0\n",
      " Percent complete:  54.2\n",
      " Percent complete:  58.3\n",
      " Percent complete:  62.5\n",
      " Percent complete:  66.7\n",
      " Percent complete:  70.8\n",
      " Percent complete:  75.0\n",
      " Percent complete:  79.2\n",
      " Percent complete:  83.3\n",
      " Percent complete:  87.5\n",
      " Percent complete:  91.7\n",
      " Percent complete:  95.8\n",
      " Percent complete: 100.0\n",
      " Complete Hysplit\n",
      "SimpleThreadPoolExecutor succeeded: all 24 jobs completed\n",
      "/opt/hysplit/exec/hycs_std\n",
      "/opt/hysplit/exec/hycs_std\n",
      "/opt/hysplit/exec/hycs_std\n",
      "/opt/hysplit/exec/hycs_std\n",
      "/opt/hysplit/exec/hycs_std\n"
     ]
    },
    {
     "name": "stdout",
     "output_type": "stream",
     "text": [
      "/opt/hysplit/exec/hycs_std\n",
      "/opt/hysplit/exec/hycs_std\n",
      "/opt/hysplit/exec/hycs_std\n",
      "/opt/hysplit/exec/hycs_std\n",
      "/opt/hysplit/exec/hycs_std\n",
      "/opt/hysplit/exec/hycs_std\n",
      "/opt/hysplit/exec/hycs_std\n",
      "/opt/hysplit/exec/hycs_std\n"
     ]
    },
    {
     "name": "stdout",
     "output_type": "stream",
     "text": [
      "/opt/hysplit/exec/hycs_std\n",
      "/opt/hysplit/exec/hycs_std\n",
      "/opt/hysplit/exec/hycs_std\n",
      "/opt/hysplit/exec/hycs_std\n",
      "/opt/hysplit/exec/hycs_std\n",
      "/opt/hysplit/exec/hycs_std\n",
      "/opt/hysplit/exec/hycs_std\n",
      "/opt/hysplit/exec/hycs_std\n",
      "/opt/hysplit/exec/hycs_std\n",
      "/opt/hysplit/exec/hycs_std\n",
      "/opt/hysplit/exec/hycs_std\n"
     ]
    },
    {
     "name": "stdout",
     "output_type": "stream",
     "text": [
      "HYSPLIT4 - Initialization \n",
      " Last Changed Rev: 998\n",
      " Last Changed Date: 2019-02-06 15:05:17 -0500 (Wed, 06 Feb 2019)\n",
      " \n",
      "  NOTICE   main: using namelist file - SETUP.CFG                                                                       \n",
      " WARNING depset: # pollutants defined -           1\n",
      " Calculation Started ... please be patient\n",
      " Percent complete: 100.0\n",
      " Complete Hysplit\n"
     ]
    },
    {
     "name": "stdout",
     "output_type": "stream",
     "text": [
      "HYSPLIT4 - Initialization \n",
      " Last Changed Rev: 998\n",
      " Last Changed Date: 2019-02-06 15:05:17 -0500 (Wed, 06 Feb 2019)\n",
      " \n",
      "  NOTICE   main: using namelist file - SETUP.CFG                                                                       \n",
      " WARNING depset: # pollutants defined -           1\n",
      " Calculation Started ... please be patient\n",
      " Percent complete:  50.0\n",
      " Percent complete: 100.0\n",
      " Complete Hysplit\n"
     ]
    },
    {
     "name": "stdout",
     "output_type": "stream",
     "text": [
      "HYSPLIT4 - Initialization \n",
      " Last Changed Rev: 998\n",
      " Last Changed Date: 2019-02-06 15:05:17 -0500 (Wed, 06 Feb 2019)\n",
      " \n",
      "  NOTICE   main: using namelist file - SETUP.CFG                                                                       \n",
      " WARNING depset: # pollutants defined -           1\n",
      " Calculation Started ... please be patient\n",
      " Percent complete:  33.3\n",
      " Percent complete:  66.7\n",
      " Percent complete: 100.0\n",
      " Complete Hysplit\n"
     ]
    },
    {
     "name": "stdout",
     "output_type": "stream",
     "text": [
      "HYSPLIT4 - Initialization \n",
      " Last Changed Rev: 998\n",
      " Last Changed Date: 2019-02-06 15:05:17 -0500 (Wed, 06 Feb 2019)\n",
      " \n",
      "  NOTICE   main: using namelist file - SETUP.CFG                                                                       \n",
      " WARNING depset: # pollutants defined -           1\n",
      " Calculation Started ... please be patient\n",
      " Percent complete:  25.0\n",
      " Percent complete:  50.0\n",
      " Percent complete:  75.0\n",
      " Percent complete: 100.0\n",
      " Complete Hysplit\n"
     ]
    },
    {
     "name": "stdout",
     "output_type": "stream",
     "text": [
      "HYSPLIT4 - Initialization \n",
      " Last Changed Rev: 998\n",
      " Last Changed Date: 2019-02-06 15:05:17 -0500 (Wed, 06 Feb 2019)\n",
      " \n",
      "  NOTICE   main: using namelist file - SETUP.CFG                                                                       \n",
      " WARNING depset: # pollutants defined -           1\n",
      " Calculation Started ... please be patient\n",
      " Percent complete:  20.0\n",
      " Percent complete:  40.0\n",
      " Percent complete:  60.0\n",
      " Percent complete:  80.0\n",
      " Percent complete: 100.0\n",
      " Complete Hysplit\n"
     ]
    },
    {
     "name": "stdout",
     "output_type": "stream",
     "text": [
      "HYSPLIT4 - Initialization \n",
      " Last Changed Rev: 998\n",
      " Last Changed Date: 2019-02-06 15:05:17 -0500 (Wed, 06 Feb 2019)\n",
      " \n",
      "  NOTICE   main: using namelist file - SETUP.CFG                                                                       \n",
      " WARNING depset: # pollutants defined -           1\n",
      " Calculation Started ... please be patient\n",
      " Percent complete:  16.7\n",
      " Percent complete:  33.3\n",
      " Percent complete:  50.0\n",
      " Percent complete:  66.7\n",
      " Percent complete:  83.3\n",
      " Percent complete: 100.0\n",
      " Complete Hysplit\n"
     ]
    },
    {
     "name": "stdout",
     "output_type": "stream",
     "text": [
      "HYSPLIT4 - Initialization \n",
      " Last Changed Rev: 998\n",
      " Last Changed Date: 2019-02-06 15:05:17 -0500 (Wed, 06 Feb 2019)\n",
      " \n",
      "  NOTICE   main: using namelist file - SETUP.CFG                                                                       \n",
      " WARNING depset: # pollutants defined -           1\n",
      " Calculation Started ... please be patient\n",
      " Percent complete:  14.3\n",
      " Percent complete:  28.6\n",
      " Percent complete:  42.9\n",
      " Percent complete:  57.1\n",
      " Percent complete:  71.4\n",
      " Percent complete:  85.7\n",
      " Percent complete: 100.0\n",
      " Complete Hysplit\n",
      "HYSPLIT4 - Initialization \n",
      " Last Changed Rev: 998\n",
      " Last Changed Date: 2019-02-06 15:05:17 -0500 (Wed, 06 Feb 2019)\n",
      " \n",
      "  NOTICE   main: using namelist file - SETUP.CFG                                                                       \n",
      " WARNING depset: # pollutants defined -           1\n",
      " Calculation Started ... please be patient\n",
      " Percent complete:  12.5\n",
      " Percent complete:  25.0\n",
      " Percent complete:  37.5\n",
      " Percent complete:  50.0\n",
      " Percent complete:  62.5\n",
      " Percent complete:  75.0\n",
      " Percent complete:  87.5\n",
      " Percent complete: 100.0\n",
      " Complete Hysplit\n"
     ]
    },
    {
     "name": "stdout",
     "output_type": "stream",
     "text": [
      "HYSPLIT4 - Initialization \n",
      " Last Changed Rev: 998\n",
      " Last Changed Date: 2019-02-06 15:05:17 -0500 (Wed, 06 Feb 2019)\n",
      " \n",
      "  NOTICE   main: using namelist file - SETUP.CFG                                                                       \n",
      " WARNING depset: # pollutants defined -           1\n",
      " Calculation Started ... please be patient\n",
      " Percent complete:  11.1\n",
      " Percent complete:  22.2\n",
      " Percent complete:  33.3\n",
      " Percent complete:  44.4\n",
      " Percent complete:  55.6\n",
      " Percent complete:  66.7\n",
      " Percent complete:  77.8\n",
      " Percent complete:  88.9\n",
      " Percent complete: 100.0\n",
      " Complete Hysplit\n"
     ]
    },
    {
     "name": "stdout",
     "output_type": "stream",
     "text": [
      "HYSPLIT4 - Initialization \n",
      " Last Changed Rev: 998\n",
      " Last Changed Date: 2019-02-06 15:05:17 -0500 (Wed, 06 Feb 2019)\n",
      " \n",
      "  NOTICE   main: using namelist file - SETUP.CFG                                                                       \n",
      " WARNING depset: # pollutants defined -           1\n",
      " Calculation Started ... please be patient\n",
      " Percent complete:  10.0\n",
      " Percent complete:  20.0\n",
      " Percent complete:  30.0\n",
      " Percent complete:  40.0\n",
      " Percent complete:  50.0\n",
      " Percent complete:  60.0\n",
      " Percent complete:  70.0\n",
      " Percent complete:  80.0\n",
      " Percent complete:  90.0\n",
      " Percent complete: 100.0\n",
      " Complete Hysplit\n"
     ]
    },
    {
     "name": "stdout",
     "output_type": "stream",
     "text": [
      "HYSPLIT4 - Initialization \n",
      " Last Changed Rev: 998\n",
      " Last Changed Date: 2019-02-06 15:05:17 -0500 (Wed, 06 Feb 2019)\n",
      " \n",
      "  NOTICE   main: using namelist file - SETUP.CFG                                                                       \n",
      " WARNING depset: # pollutants defined -           1\n",
      " Calculation Started ... please be patient\n",
      " Percent complete:   9.1\n",
      " Percent complete:  18.2\n",
      " Percent complete:  27.3\n",
      " Percent complete:  36.4\n",
      " Percent complete:  45.5\n",
      " Percent complete:  54.5\n",
      " Percent complete:  63.6\n",
      " Percent complete:  72.7\n",
      " Percent complete:  81.8\n",
      " Percent complete:  90.9\n",
      " Percent complete: 100.0\n",
      " Complete Hysplit\n"
     ]
    },
    {
     "name": "stdout",
     "output_type": "stream",
     "text": [
      "HYSPLIT4 - Initialization \n",
      " Last Changed Rev: 998\n",
      " Last Changed Date: 2019-02-06 15:05:17 -0500 (Wed, 06 Feb 2019)\n",
      " \n",
      "  NOTICE   main: using namelist file - SETUP.CFG                                                                       \n",
      " WARNING depset: # pollutants defined -           1\n",
      " Calculation Started ... please be patient\n",
      " Percent complete:   8.3\n",
      " Percent complete:  16.7\n",
      " Percent complete:  25.0\n",
      " Percent complete:  33.3\n",
      " Percent complete:  41.7\n",
      " Percent complete:  50.0\n",
      " Percent complete:  58.3\n",
      " Percent complete:  66.7\n",
      " Percent complete:  75.0\n",
      " Percent complete:  83.3\n",
      " Percent complete:  91.7\n",
      " Percent complete: 100.0\n",
      " Complete Hysplit\n"
     ]
    },
    {
     "name": "stdout",
     "output_type": "stream",
     "text": [
      "HYSPLIT4 - Initialization \n",
      " Last Changed Rev: 998\n",
      " Last Changed Date: 2019-02-06 15:05:17 -0500 (Wed, 06 Feb 2019)\n",
      " \n",
      "  NOTICE   main: using namelist file - SETUP.CFG                                                                       \n",
      " WARNING depset: # pollutants defined -           1\n",
      " Calculation Started ... please be patient\n",
      " Percent complete:   7.7\n",
      " Percent complete:  15.4\n",
      " Percent complete:  23.1\n",
      " Percent complete:  30.8\n",
      " Percent complete:  38.5\n",
      " Percent complete:  46.2\n",
      " Percent complete:  53.8\n",
      " Percent complete:  61.5\n",
      " Percent complete:  69.2\n",
      " Percent complete:  76.9\n",
      " Percent complete:  84.6\n",
      " Percent complete:  92.3\n",
      " Percent complete: 100.0\n",
      " Complete Hysplit\n"
     ]
    },
    {
     "name": "stdout",
     "output_type": "stream",
     "text": [
      "HYSPLIT4 - Initialization \n",
      " Last Changed Rev: 998\n",
      " Last Changed Date: 2019-02-06 15:05:17 -0500 (Wed, 06 Feb 2019)\n",
      " \n",
      "  NOTICE   main: using namelist file - SETUP.CFG                                                                       \n",
      " WARNING depset: # pollutants defined -           1\n",
      " Calculation Started ... please be patient\n",
      " Percent complete:   7.1\n",
      " Percent complete:  14.3\n",
      " Percent complete:  21.4\n",
      " Percent complete:  28.6\n",
      " Percent complete:  35.7\n",
      " Percent complete:  42.9\n",
      " Percent complete:  50.0\n",
      " Percent complete:  57.1\n",
      " Percent complete:  64.3\n",
      " Percent complete:  71.4\n",
      " Percent complete:  78.6\n",
      " Percent complete:  85.7\n",
      " Percent complete:  92.9\n",
      " Percent complete: 100.0\n",
      " Complete Hysplit\n"
     ]
    },
    {
     "name": "stdout",
     "output_type": "stream",
     "text": [
      "HYSPLIT4 - Initialization \n",
      " Last Changed Rev: 998\n",
      " Last Changed Date: 2019-02-06 15:05:17 -0500 (Wed, 06 Feb 2019)\n",
      " \n",
      "  NOTICE   main: using namelist file - SETUP.CFG                                                                       \n",
      " WARNING depset: # pollutants defined -           1\n",
      " Calculation Started ... please be patient\n",
      " Percent complete:   6.7\n",
      " Percent complete:  13.3\n",
      " Percent complete:  20.0\n",
      " Percent complete:  26.7\n",
      " Percent complete:  33.3\n",
      " Percent complete:  40.0\n",
      " Percent complete:  46.7\n",
      " Percent complete:  53.3\n",
      " Percent complete:  60.0\n",
      " Percent complete:  66.7\n",
      " Percent complete:  73.3\n",
      " Percent complete:  80.0\n",
      " Percent complete:  86.7\n",
      " Percent complete:  93.3\n",
      " Percent complete: 100.0\n",
      " Complete Hysplit\n",
      "HYSPLIT4 - Initialization \n",
      " Last Changed Rev: 998\n",
      " Last Changed Date: 2019-02-06 15:05:17 -0500 (Wed, 06 Feb 2019)\n",
      " \n",
      "  NOTICE   main: using namelist file - SETUP.CFG                                                                       \n",
      " WARNING depset: # pollutants defined -           1\n",
      " Calculation Started ... please be patient\n",
      " Percent complete:   5.6\n",
      " Percent complete:  11.1\n",
      " Percent complete:  16.7\n",
      " Percent complete:  22.2\n",
      " Percent complete:  27.8\n",
      " Percent complete:  33.3\n",
      " Percent complete:  38.9\n",
      " Percent complete:  44.4\n",
      " Percent complete:  50.0\n",
      " Percent complete:  55.6\n",
      " Percent complete:  61.1\n",
      " Percent complete:  66.7\n",
      " Percent complete:  72.2\n",
      " Percent complete:  77.8\n",
      " Percent complete:  83.3\n",
      " Percent complete:  88.9\n",
      " Percent complete:  94.4\n",
      " Percent complete: 100.0\n",
      " Complete Hysplit\n"
     ]
    },
    {
     "name": "stdout",
     "output_type": "stream",
     "text": [
      "HYSPLIT4 - Initialization \n",
      " Last Changed Rev: 998\n",
      " Last Changed Date: 2019-02-06 15:05:17 -0500 (Wed, 06 Feb 2019)\n",
      " \n",
      "  NOTICE   main: using namelist file - SETUP.CFG                                                                       \n",
      " WARNING depset: # pollutants defined -           1\n",
      " Calculation Started ... please be patient\n",
      " Percent complete:   6.2\n",
      " Percent complete:  12.5\n",
      " Percent complete:  18.8\n",
      " Percent complete:  25.0\n",
      " Percent complete:  31.2\n",
      " Percent complete:  37.5\n",
      " Percent complete:  43.8\n",
      " Percent complete:  50.0\n",
      " Percent complete:  56.2\n",
      " Percent complete:  62.5\n",
      " Percent complete:  68.8\n",
      " Percent complete:  75.0\n",
      " Percent complete:  81.2\n",
      " Percent complete:  87.5\n",
      " Percent complete:  93.8\n",
      " Percent complete: 100.0\n",
      " Complete Hysplit\n"
     ]
    },
    {
     "name": "stdout",
     "output_type": "stream",
     "text": [
      "HYSPLIT4 - Initialization \n",
      " Last Changed Rev: 998\n",
      " Last Changed Date: 2019-02-06 15:05:17 -0500 (Wed, 06 Feb 2019)\n",
      " \n",
      "  NOTICE   main: using namelist file - SETUP.CFG                                                                       \n",
      " WARNING depset: # pollutants defined -           1\n",
      " Calculation Started ... please be patient\n",
      " Percent complete:   5.9\n",
      " Percent complete:  11.8\n",
      " Percent complete:  17.6\n",
      " Percent complete:  23.5\n",
      " Percent complete:  29.4\n",
      " Percent complete:  35.3\n",
      " Percent complete:  41.2\n",
      " Percent complete:  47.1\n",
      " Percent complete:  52.9\n",
      " Percent complete:  58.8\n",
      " Percent complete:  64.7\n",
      " Percent complete:  70.6\n",
      " Percent complete:  76.5\n",
      " Percent complete:  82.4\n",
      " Percent complete:  88.2\n",
      " Percent complete:  94.1\n",
      " Percent complete: 100.0\n",
      " Complete Hysplit\n"
     ]
    },
    {
     "name": "stdout",
     "output_type": "stream",
     "text": [
      "HYSPLIT4 - Initialization \n",
      " Last Changed Rev: 998\n",
      " Last Changed Date: 2019-02-06 15:05:17 -0500 (Wed, 06 Feb 2019)\n",
      " \n",
      "  NOTICE   main: using namelist file - SETUP.CFG                                                                       \n",
      " WARNING depset: # pollutants defined -           1\n",
      " Calculation Started ... please be patient\n",
      " Percent complete:   5.3\n",
      " Percent complete:  10.5\n",
      " Percent complete:  15.8\n",
      " Percent complete:  21.1\n",
      " Percent complete:  26.3\n",
      " Percent complete:  31.6\n",
      " Percent complete:  36.8\n",
      " Percent complete:  42.1\n",
      " Percent complete:  47.4\n",
      " Percent complete:  52.6\n",
      " Percent complete:  57.9\n",
      " Percent complete:  63.2\n",
      " Percent complete:  68.4\n",
      " Percent complete:  73.7\n",
      " Percent complete:  78.9\n",
      " Percent complete:  84.2\n",
      " Percent complete:  89.5\n",
      " Percent complete:  94.7\n",
      " Percent complete: 100.0\n",
      " Complete Hysplit\n"
     ]
    },
    {
     "name": "stdout",
     "output_type": "stream",
     "text": [
      "HYSPLIT4 - Initialization \n",
      " Last Changed Rev: 998\n",
      " Last Changed Date: 2019-02-06 15:05:17 -0500 (Wed, 06 Feb 2019)\n",
      " \n",
      "  NOTICE   main: using namelist file - SETUP.CFG                                                                       \n",
      " WARNING depset: # pollutants defined -           1\n",
      " Calculation Started ... please be patient\n",
      " Percent complete:   5.0\n",
      " Percent complete:  10.0\n",
      " Percent complete:  15.0\n",
      " Percent complete:  20.0\n",
      " Percent complete:  25.0\n",
      " Percent complete:  30.0\n",
      " Percent complete:  35.0\n",
      " Percent complete:  40.0\n",
      " Percent complete:  45.0\n",
      " Percent complete:  50.0\n",
      " Percent complete:  55.0\n",
      " Percent complete:  60.0\n",
      " Percent complete:  65.0\n",
      " Percent complete:  70.0\n",
      " Percent complete:  75.0\n",
      " Percent complete:  80.0\n",
      " Percent complete:  85.0\n",
      " Percent complete:  90.0\n",
      " Percent complete:  95.0\n",
      " Percent complete: 100.0\n",
      " Complete Hysplit\n"
     ]
    },
    {
     "name": "stdout",
     "output_type": "stream",
     "text": [
      "HYSPLIT4 - Initialization \n",
      " Last Changed Rev: 998\n",
      " Last Changed Date: 2019-02-06 15:05:17 -0500 (Wed, 06 Feb 2019)\n",
      " \n",
      "  NOTICE   main: using namelist file - SETUP.CFG                                                                       \n",
      " WARNING depset: # pollutants defined -           1\n",
      " Calculation Started ... please be patient\n",
      " Percent complete:   4.8\n",
      " Percent complete:   9.5\n",
      " Percent complete:  14.3\n",
      " Percent complete:  19.0\n",
      " Percent complete:  23.8\n",
      " Percent complete:  28.6\n",
      " Percent complete:  33.3\n",
      " Percent complete:  38.1\n",
      " Percent complete:  42.9\n",
      " Percent complete:  47.6\n",
      " Percent complete:  52.4\n",
      " Percent complete:  57.1\n",
      " Percent complete:  61.9\n",
      " Percent complete:  66.7\n",
      " Percent complete:  71.4\n",
      " Percent complete:  76.2\n",
      " Percent complete:  81.0\n",
      " Percent complete:  85.7\n",
      " Percent complete:  90.5\n",
      " Percent complete:  95.2\n",
      " Percent complete: 100.0\n",
      " Complete Hysplit\n"
     ]
    },
    {
     "name": "stdout",
     "output_type": "stream",
     "text": [
      "HYSPLIT4 - Initialization \n",
      " Last Changed Rev: 998\n",
      " Last Changed Date: 2019-02-06 15:05:17 -0500 (Wed, 06 Feb 2019)\n",
      " \n",
      "  NOTICE   main: using namelist file - SETUP.CFG                                                                       \n",
      " WARNING depset: # pollutants defined -           1\n",
      " Calculation Started ... please be patient\n",
      " Percent complete:   4.3\n",
      " Percent complete:   8.7\n",
      " Percent complete:  13.0\n",
      " Percent complete:  17.4\n",
      " Percent complete:  21.7\n",
      " Percent complete:  26.1\n",
      " Percent complete:  30.4\n",
      " Percent complete:  34.8\n",
      " Percent complete:  39.1\n",
      " Percent complete:  43.5\n",
      " Percent complete:  47.8\n",
      " Percent complete:  52.2\n",
      " Percent complete:  56.5\n",
      " Percent complete:  60.9\n",
      " Percent complete:  65.2\n",
      " Percent complete:  69.6\n",
      " Percent complete:  73.9\n",
      " Percent complete:  78.3\n",
      " Percent complete:  82.6\n",
      " Percent complete:  87.0\n",
      " Percent complete:  91.3\n",
      " Percent complete:  95.7\n",
      " Percent complete: 100.0\n",
      " Complete Hysplit\n"
     ]
    },
    {
     "name": "stdout",
     "output_type": "stream",
     "text": [
      "HYSPLIT4 - Initialization \n",
      " Last Changed Rev: 998\n",
      " Last Changed Date: 2019-02-06 15:05:17 -0500 (Wed, 06 Feb 2019)\n",
      " \n",
      "  NOTICE   main: using namelist file - SETUP.CFG                                                                       \n",
      " WARNING depset: # pollutants defined -           1\n",
      " Calculation Started ... please be patient\n",
      " Percent complete:   4.2\n",
      " Percent complete:   8.3\n",
      " Percent complete:  12.5\n",
      " Percent complete:  16.7\n",
      " Percent complete:  20.8\n",
      " Percent complete:  25.0\n",
      " Percent complete:  29.2\n",
      " Percent complete:  33.3\n",
      " Percent complete:  37.5\n",
      " Percent complete:  41.7\n",
      " Percent complete:  45.8\n",
      " Percent complete:  50.0\n",
      " Percent complete:  54.2\n",
      " Percent complete:  58.3\n",
      " Percent complete:  62.5\n",
      " Percent complete:  66.7\n",
      " Percent complete:  70.8\n",
      " Percent complete:  75.0\n",
      " Percent complete:  79.2\n",
      " Percent complete:  83.3\n",
      " Percent complete:  87.5\n",
      " Percent complete:  91.7\n",
      " Percent complete:  95.8\n",
      " Percent complete: 100.0\n",
      " Complete Hysplit\n"
     ]
    },
    {
     "name": "stdout",
     "output_type": "stream",
     "text": [
      "HYSPLIT4 - Initialization \n",
      " Last Changed Rev: 998\n",
      " Last Changed Date: 2019-02-06 15:05:17 -0500 (Wed, 06 Feb 2019)\n",
      " \n",
      "  NOTICE   main: using namelist file - SETUP.CFG                                                                       \n",
      " WARNING depset: # pollutants defined -           1\n",
      " Calculation Started ... please be patient\n",
      " Percent complete:   4.5\n",
      " Percent complete:   9.1\n",
      " Percent complete:  13.6\n",
      " Percent complete:  18.2\n",
      " Percent complete:  22.7\n",
      " Percent complete:  27.3\n",
      " Percent complete:  31.8\n",
      " Percent complete:  36.4\n",
      " Percent complete:  40.9\n",
      " Percent complete:  45.5\n",
      " Percent complete:  50.0\n",
      " Percent complete:  54.5\n",
      " Percent complete:  59.1\n",
      " Percent complete:  63.6\n",
      " Percent complete:  68.2\n",
      " Percent complete:  72.7\n",
      " Percent complete:  77.3\n",
      " Percent complete:  81.8\n",
      " Percent complete:  86.4\n",
      " Percent complete:  90.9\n",
      " Percent complete:  95.5\n",
      " Percent complete: 100.0\n",
      " Complete Hysplit\n",
      "SimpleThreadPoolExecutor succeeded: all 24 jobs completed\n",
      "['/projects/9ab71616-fcde-4524-bf8f-7953c669ebbb/air-src/linRegModel/dispersionCache/40.328015,-79.903551_0-50/20190422_210000-0400_1h_24h_0', '/projects/9ab71616-fcde-4524-bf8f-7953c669ebbb/air-src/linRegModel/dispersionCache/40.328015,-79.903551_0-50/20190422_220000-0400_1h_23h_0', '/projects/9ab71616-fcde-4524-bf8f-7953c669ebbb/air-src/linRegModel/dispersionCache/40.328015,-79.903551_0-50/20190422_230000-0400_1h_22h_0', '/projects/9ab71616-fcde-4524-bf8f-7953c669ebbb/air-src/linRegModel/dispersionCache/40.328015,-79.903551_0-50/20190423_000000-0400_1h_21h_0', '/projects/9ab71616-fcde-4524-bf8f-7953c669ebbb/air-src/linRegModel/dispersionCache/40.328015,-79.903551_0-50/20190423_010000-0400_1h_20h_0', '/projects/9ab71616-fcde-4524-bf8f-7953c669ebbb/air-src/linRegModel/dispersionCache/40.328015,-79.903551_0-50/20190423_020000-0400_1h_19h_0', '/projects/9ab71616-fcde-4524-bf8f-7953c669ebbb/air-src/linRegModel/dispersionCache/40.328015,-79.903551_0-50/20190423_030000-0400_1h_18h_0', '/projects/9ab71616-fcde-4524-bf8f-7953c669ebbb/air-src/linRegModel/dispersionCache/40.328015,-79.903551_0-50/20190423_040000-0400_1h_17h_0', '/projects/9ab71616-fcde-4524-bf8f-7953c669ebbb/air-src/linRegModel/dispersionCache/40.328015,-79.903551_0-50/20190423_050000-0400_1h_16h_0', '/projects/9ab71616-fcde-4524-bf8f-7953c669ebbb/air-src/linRegModel/dispersionCache/40.328015,-79.903551_0-50/20190423_060000-0400_1h_15h_0', '/projects/9ab71616-fcde-4524-bf8f-7953c669ebbb/air-src/linRegModel/dispersionCache/40.328015,-79.903551_0-50/20190423_070000-0400_1h_14h_0', '/projects/9ab71616-fcde-4524-bf8f-7953c669ebbb/air-src/linRegModel/dispersionCache/40.328015,-79.903551_0-50/20190423_080000-0400_1h_13h_0', '/projects/9ab71616-fcde-4524-bf8f-7953c669ebbb/air-src/linRegModel/dispersionCache/40.328015,-79.903551_0-50/20190423_090000-0400_1h_12h_0', '/projects/9ab71616-fcde-4524-bf8f-7953c669ebbb/air-src/linRegModel/dispersionCache/40.328015,-79.903551_0-50/20190423_100000-0400_1h_11h_0', '/projects/9ab71616-fcde-4524-bf8f-7953c669ebbb/air-src/linRegModel/dispersionCache/40.328015,-79.903551_0-50/20190423_110000-0400_1h_10h_0', '/projects/9ab71616-fcde-4524-bf8f-7953c669ebbb/air-src/linRegModel/dispersionCache/40.328015,-79.903551_0-50/20190423_120000-0400_1h_9h_0', '/projects/9ab71616-fcde-4524-bf8f-7953c669ebbb/air-src/linRegModel/dispersionCache/40.328015,-79.903551_0-50/20190423_130000-0400_1h_8h_0', '/projects/9ab71616-fcde-4524-bf8f-7953c669ebbb/air-src/linRegModel/dispersionCache/40.328015,-79.903551_0-50/20190423_140000-0400_1h_7h_0', '/projects/9ab71616-fcde-4524-bf8f-7953c669ebbb/air-src/linRegModel/dispersionCache/40.328015,-79.903551_0-50/20190423_150000-0400_1h_6h_0', '/projects/9ab71616-fcde-4524-bf8f-7953c669ebbb/air-src/linRegModel/dispersionCache/40.328015,-79.903551_0-50/20190423_160000-0400_1h_5h_0', '/projects/9ab71616-fcde-4524-bf8f-7953c669ebbb/air-src/linRegModel/dispersionCache/40.328015,-79.903551_0-50/20190423_170000-0400_1h_4h_0', '/projects/9ab71616-fcde-4524-bf8f-7953c669ebbb/air-src/linRegModel/dispersionCache/40.328015,-79.903551_0-50/20190423_180000-0400_1h_3h_0', '/projects/9ab71616-fcde-4524-bf8f-7953c669ebbb/air-src/linRegModel/dispersionCache/40.328015,-79.903551_0-50/20190423_190000-0400_1h_2h_0', '/projects/9ab71616-fcde-4524-bf8f-7953c669ebbb/air-src/linRegModel/dispersionCache/40.328015,-79.903551_0-50/20190423_200000-0400_1h_1h_0', '/projects/9ab71616-fcde-4524-bf8f-7953c669ebbb/air-src/linRegModel/dispersionCache/40.392967,-79.855709_0-50/20190422_210000-0400_1h_24h_0', '/projects/9ab71616-fcde-4524-bf8f-7953c669ebbb/air-src/linRegModel/dispersionCache/40.392967,-79.855709_0-50/20190422_220000-0400_1h_23h_0', '/projects/9ab71616-fcde-4524-bf8f-7953c669ebbb/air-src/linRegModel/dispersionCache/40.392967,-79.855709_0-50/20190422_230000-0400_1h_22h_0', '/projects/9ab71616-fcde-4524-bf8f-7953c669ebbb/air-src/linRegModel/dispersionCache/40.392967,-79.855709_0-50/20190423_000000-0400_1h_21h_0', '/projects/9ab71616-fcde-4524-bf8f-7953c669ebbb/air-src/linRegModel/dispersionCache/40.392967,-79.855709_0-50/20190423_010000-0400_1h_20h_0', '/projects/9ab71616-fcde-4524-bf8f-7953c669ebbb/air-src/linRegModel/dispersionCache/40.392967,-79.855709_0-50/20190423_020000-0400_1h_19h_0', '/projects/9ab71616-fcde-4524-bf8f-7953c669ebbb/air-src/linRegModel/dispersionCache/40.392967,-79.855709_0-50/20190423_030000-0400_1h_18h_0', '/projects/9ab71616-fcde-4524-bf8f-7953c669ebbb/air-src/linRegModel/dispersionCache/40.392967,-79.855709_0-50/20190423_040000-0400_1h_17h_0', '/projects/9ab71616-fcde-4524-bf8f-7953c669ebbb/air-src/linRegModel/dispersionCache/40.392967,-79.855709_0-50/20190423_050000-0400_1h_16h_0', '/projects/9ab71616-fcde-4524-bf8f-7953c669ebbb/air-src/linRegModel/dispersionCache/40.392967,-79.855709_0-50/20190423_060000-0400_1h_15h_0', '/projects/9ab71616-fcde-4524-bf8f-7953c669ebbb/air-src/linRegModel/dispersionCache/40.392967,-79.855709_0-50/20190423_070000-0400_1h_14h_0', '/projects/9ab71616-fcde-4524-bf8f-7953c669ebbb/air-src/linRegModel/dispersionCache/40.392967,-79.855709_0-50/20190423_080000-0400_1h_13h_0', '/projects/9ab71616-fcde-4524-bf8f-7953c669ebbb/air-src/linRegModel/dispersionCache/40.392967,-79.855709_0-50/20190423_090000-0400_1h_12h_0', '/projects/9ab71616-fcde-4524-bf8f-7953c669ebbb/air-src/linRegModel/dispersionCache/40.392967,-79.855709_0-50/20190423_100000-0400_1h_11h_0', '/projects/9ab71616-fcde-4524-bf8f-7953c669ebbb/air-src/linRegModel/dispersionCache/40.392967,-79.855709_0-50/20190423_110000-0400_1h_10h_0', '/projects/9ab71616-fcde-4524-bf8f-7953c669ebbb/air-src/linRegModel/dispersionCache/40.392967,-79.855709_0-50/20190423_120000-0400_1h_9h_0', '/projects/9ab71616-fcde-4524-bf8f-7953c669ebbb/air-src/linRegModel/dispersionCache/40.392967,-79.855709_0-50/20190423_130000-0400_1h_8h_0', '/projects/9ab71616-fcde-4524-bf8f-7953c669ebbb/air-src/linRegModel/dispersionCache/40.392967,-79.855709_0-50/20190423_140000-0400_1h_7h_0', '/projects/9ab71616-fcde-4524-bf8f-7953c669ebbb/air-src/linRegModel/dispersionCache/40.392967,-79.855709_0-50/20190423_150000-0400_1h_6h_0', '/projects/9ab71616-fcde-4524-bf8f-7953c669ebbb/air-src/linRegModel/dispersionCache/40.392967,-79.855709_0-50/20190423_160000-0400_1h_5h_0', '/projects/9ab71616-fcde-4524-bf8f-7953c669ebbb/air-src/linRegModel/dispersionCache/40.392967,-79.855709_0-50/20190423_170000-0400_1h_4h_0', '/projects/9ab71616-fcde-4524-bf8f-7953c669ebbb/air-src/linRegModel/dispersionCache/40.392967,-79.855709_0-50/20190423_180000-0400_1h_3h_0', '/projects/9ab71616-fcde-4524-bf8f-7953c669ebbb/air-src/linRegModel/dispersionCache/40.392967,-79.855709_0-50/20190423_190000-0400_1h_2h_0', '/projects/9ab71616-fcde-4524-bf8f-7953c669ebbb/air-src/linRegModel/dispersionCache/40.392967,-79.855709_0-50/20190423_200000-0400_1h_1h_0', '/projects/9ab71616-fcde-4524-bf8f-7953c669ebbb/air-src/linRegModel/dispersionCache/40.305062,-79.876692_0-50/20190422_210000-0400_1h_24h_0', '/projects/9ab71616-fcde-4524-bf8f-7953c669ebbb/air-src/linRegModel/dispersionCache/40.305062,-79.876692_0-50/20190422_220000-0400_1h_23h_0', '/projects/9ab71616-fcde-4524-bf8f-7953c669ebbb/air-src/linRegModel/dispersionCache/40.305062,-79.876692_0-50/20190422_230000-0400_1h_22h_0', '/projects/9ab71616-fcde-4524-bf8f-7953c669ebbb/air-src/linRegModel/dispersionCache/40.305062,-79.876692_0-50/20190423_000000-0400_1h_21h_0', '/projects/9ab71616-fcde-4524-bf8f-7953c669ebbb/air-src/linRegModel/dispersionCache/40.305062,-79.876692_0-50/20190423_010000-0400_1h_20h_0', '/projects/9ab71616-fcde-4524-bf8f-7953c669ebbb/air-src/linRegModel/dispersionCache/40.305062,-79.876692_0-50/20190423_020000-0400_1h_19h_0', '/projects/9ab71616-fcde-4524-bf8f-7953c669ebbb/air-src/linRegModel/dispersionCache/40.305062,-79.876692_0-50/20190423_030000-0400_1h_18h_0', '/projects/9ab71616-fcde-4524-bf8f-7953c669ebbb/air-src/linRegModel/dispersionCache/40.305062,-79.876692_0-50/20190423_040000-0400_1h_17h_0', '/projects/9ab71616-fcde-4524-bf8f-7953c669ebbb/air-src/linRegModel/dispersionCache/40.305062,-79.876692_0-50/20190423_050000-0400_1h_16h_0', '/projects/9ab71616-fcde-4524-bf8f-7953c669ebbb/air-src/linRegModel/dispersionCache/40.305062,-79.876692_0-50/20190423_060000-0400_1h_15h_0', '/projects/9ab71616-fcde-4524-bf8f-7953c669ebbb/air-src/linRegModel/dispersionCache/40.305062,-79.876692_0-50/20190423_070000-0400_1h_14h_0', '/projects/9ab71616-fcde-4524-bf8f-7953c669ebbb/air-src/linRegModel/dispersionCache/40.305062,-79.876692_0-50/20190423_080000-0400_1h_13h_0', '/projects/9ab71616-fcde-4524-bf8f-7953c669ebbb/air-src/linRegModel/dispersionCache/40.305062,-79.876692_0-50/20190423_090000-0400_1h_12h_0', '/projects/9ab71616-fcde-4524-bf8f-7953c669ebbb/air-src/linRegModel/dispersionCache/40.305062,-79.876692_0-50/20190423_100000-0400_1h_11h_0', '/projects/9ab71616-fcde-4524-bf8f-7953c669ebbb/air-src/linRegModel/dispersionCache/40.305062,-79.876692_0-50/20190423_110000-0400_1h_10h_0', '/projects/9ab71616-fcde-4524-bf8f-7953c669ebbb/air-src/linRegModel/dispersionCache/40.305062,-79.876692_0-50/20190423_120000-0400_1h_9h_0', '/projects/9ab71616-fcde-4524-bf8f-7953c669ebbb/air-src/linRegModel/dispersionCache/40.305062,-79.876692_0-50/20190423_130000-0400_1h_8h_0', '/projects/9ab71616-fcde-4524-bf8f-7953c669ebbb/air-src/linRegModel/dispersionCache/40.305062,-79.876692_0-50/20190423_140000-0400_1h_7h_0', '/projects/9ab71616-fcde-4524-bf8f-7953c669ebbb/air-src/linRegModel/dispersionCache/40.305062,-79.876692_0-50/20190423_150000-0400_1h_6h_0', '/projects/9ab71616-fcde-4524-bf8f-7953c669ebbb/air-src/linRegModel/dispersionCache/40.305062,-79.876692_0-50/20190423_160000-0400_1h_5h_0', '/projects/9ab71616-fcde-4524-bf8f-7953c669ebbb/air-src/linRegModel/dispersionCache/40.305062,-79.876692_0-50/20190423_170000-0400_1h_4h_0', '/projects/9ab71616-fcde-4524-bf8f-7953c669ebbb/air-src/linRegModel/dispersionCache/40.305062,-79.876692_0-50/20190423_180000-0400_1h_3h_0', '/projects/9ab71616-fcde-4524-bf8f-7953c669ebbb/air-src/linRegModel/dispersionCache/40.305062,-79.876692_0-50/20190423_190000-0400_1h_2h_0', '/projects/9ab71616-fcde-4524-bf8f-7953c669ebbb/air-src/linRegModel/dispersionCache/40.305062,-79.876692_0-50/20190423_200000-0400_1h_1h_0', '/projects/9ab71616-fcde-4524-bf8f-7953c669ebbb/air-src/linRegModel/dispersionCache/40.538261,-79.790391_0-50/20190422_210000-0400_1h_24h_0', '/projects/9ab71616-fcde-4524-bf8f-7953c669ebbb/air-src/linRegModel/dispersionCache/40.538261,-79.790391_0-50/20190422_220000-0400_1h_23h_0', '/projects/9ab71616-fcde-4524-bf8f-7953c669ebbb/air-src/linRegModel/dispersionCache/40.538261,-79.790391_0-50/20190422_230000-0400_1h_22h_0', '/projects/9ab71616-fcde-4524-bf8f-7953c669ebbb/air-src/linRegModel/dispersionCache/40.538261,-79.790391_0-50/20190423_000000-0400_1h_21h_0', '/projects/9ab71616-fcde-4524-bf8f-7953c669ebbb/air-src/linRegModel/dispersionCache/40.538261,-79.790391_0-50/20190423_010000-0400_1h_20h_0', '/projects/9ab71616-fcde-4524-bf8f-7953c669ebbb/air-src/linRegModel/dispersionCache/40.538261,-79.790391_0-50/20190423_020000-0400_1h_19h_0', '/projects/9ab71616-fcde-4524-bf8f-7953c669ebbb/air-src/linRegModel/dispersionCache/40.538261,-79.790391_0-50/20190423_030000-0400_1h_18h_0', '/projects/9ab71616-fcde-4524-bf8f-7953c669ebbb/air-src/linRegModel/dispersionCache/40.538261,-79.790391_0-50/20190423_040000-0400_1h_17h_0', '/projects/9ab71616-fcde-4524-bf8f-7953c669ebbb/air-src/linRegModel/dispersionCache/40.538261,-79.790391_0-50/20190423_050000-0400_1h_16h_0', '/projects/9ab71616-fcde-4524-bf8f-7953c669ebbb/air-src/linRegModel/dispersionCache/40.538261,-79.790391_0-50/20190423_060000-0400_1h_15h_0', '/projects/9ab71616-fcde-4524-bf8f-7953c669ebbb/air-src/linRegModel/dispersionCache/40.538261,-79.790391_0-50/20190423_070000-0400_1h_14h_0', '/projects/9ab71616-fcde-4524-bf8f-7953c669ebbb/air-src/linRegModel/dispersionCache/40.538261,-79.790391_0-50/20190423_080000-0400_1h_13h_0', '/projects/9ab71616-fcde-4524-bf8f-7953c669ebbb/air-src/linRegModel/dispersionCache/40.538261,-79.790391_0-50/20190423_090000-0400_1h_12h_0', '/projects/9ab71616-fcde-4524-bf8f-7953c669ebbb/air-src/linRegModel/dispersionCache/40.538261,-79.790391_0-50/20190423_100000-0400_1h_11h_0', '/projects/9ab71616-fcde-4524-bf8f-7953c669ebbb/air-src/linRegModel/dispersionCache/40.538261,-79.790391_0-50/20190423_110000-0400_1h_10h_0', '/projects/9ab71616-fcde-4524-bf8f-7953c669ebbb/air-src/linRegModel/dispersionCache/40.538261,-79.790391_0-50/20190423_120000-0400_1h_9h_0', '/projects/9ab71616-fcde-4524-bf8f-7953c669ebbb/air-src/linRegModel/dispersionCache/40.538261,-79.790391_0-50/20190423_130000-0400_1h_8h_0', '/projects/9ab71616-fcde-4524-bf8f-7953c669ebbb/air-src/linRegModel/dispersionCache/40.538261,-79.790391_0-50/20190423_140000-0400_1h_7h_0', '/projects/9ab71616-fcde-4524-bf8f-7953c669ebbb/air-src/linRegModel/dispersionCache/40.538261,-79.790391_0-50/20190423_150000-0400_1h_6h_0', '/projects/9ab71616-fcde-4524-bf8f-7953c669ebbb/air-src/linRegModel/dispersionCache/40.538261,-79.790391_0-50/20190423_160000-0400_1h_5h_0', '/projects/9ab71616-fcde-4524-bf8f-7953c669ebbb/air-src/linRegModel/dispersionCache/40.538261,-79.790391_0-50/20190423_170000-0400_1h_4h_0', '/projects/9ab71616-fcde-4524-bf8f-7953c669ebbb/air-src/linRegModel/dispersionCache/40.538261,-79.790391_0-50/20190423_180000-0400_1h_3h_0', '/projects/9ab71616-fcde-4524-bf8f-7953c669ebbb/air-src/linRegModel/dispersionCache/40.538261,-79.790391_0-50/20190423_190000-0400_1h_2h_0', '/projects/9ab71616-fcde-4524-bf8f-7953c669ebbb/air-src/linRegModel/dispersionCache/40.538261,-79.790391_0-50/20190423_200000-0400_1h_1h_0']\n",
      "/projects/9ab71616-fcde-4524-bf8f-7953c669ebbb/air-src/linRegModel/dispersionCache/40.328015,-79.903551_0-50/20190422_210000-0400_1h_24h_0/PARDUMP.h21\n"
     ]
    },
    {
     "name": "stdout",
     "output_type": "stream",
     "text": [
      "/projects/9ab71616-fcde-4524-bf8f-7953c669ebbb/air-src/linRegModel/dispersionCache/40.328015,-79.903551_0-50/20190422_220000-0400_1h_23h_0/PARDUMP.h22\n"
     ]
    },
    {
     "name": "stdout",
     "output_type": "stream",
     "text": [
      "/projects/9ab71616-fcde-4524-bf8f-7953c669ebbb/air-src/linRegModel/dispersionCache/40.328015,-79.903551_0-50/20190422_230000-0400_1h_22h_0/PARDUMP.h23\n"
     ]
    },
    {
     "name": "stdout",
     "output_type": "stream",
     "text": [
      "/projects/9ab71616-fcde-4524-bf8f-7953c669ebbb/air-src/linRegModel/dispersionCache/40.328015,-79.903551_0-50/20190423_000000-0400_1h_21h_0/PARDUMP.h0\n"
     ]
    },
    {
     "name": "stdout",
     "output_type": "stream",
     "text": [
      "/projects/9ab71616-fcde-4524-bf8f-7953c669ebbb/air-src/linRegModel/dispersionCache/40.328015,-79.903551_0-50/20190423_010000-0400_1h_20h_0/PARDUMP.h1\n"
     ]
    },
    {
     "name": "stdout",
     "output_type": "stream",
     "text": [
      "/projects/9ab71616-fcde-4524-bf8f-7953c669ebbb/air-src/linRegModel/dispersionCache/40.328015,-79.903551_0-50/20190423_020000-0400_1h_19h_0/PARDUMP.h2\n"
     ]
    },
    {
     "name": "stdout",
     "output_type": "stream",
     "text": [
      "/projects/9ab71616-fcde-4524-bf8f-7953c669ebbb/air-src/linRegModel/dispersionCache/40.328015,-79.903551_0-50/20190423_030000-0400_1h_18h_0/PARDUMP.h3\n"
     ]
    },
    {
     "name": "stdout",
     "output_type": "stream",
     "text": [
      "/projects/9ab71616-fcde-4524-bf8f-7953c669ebbb/air-src/linRegModel/dispersionCache/40.328015,-79.903551_0-50/20190423_040000-0400_1h_17h_0/PARDUMP.h4\n"
     ]
    },
    {
     "name": "stdout",
     "output_type": "stream",
     "text": [
      "/projects/9ab71616-fcde-4524-bf8f-7953c669ebbb/air-src/linRegModel/dispersionCache/40.328015,-79.903551_0-50/20190423_050000-0400_1h_16h_0/PARDUMP.h5\n"
     ]
    },
    {
     "name": "stdout",
     "output_type": "stream",
     "text": [
      "/projects/9ab71616-fcde-4524-bf8f-7953c669ebbb/air-src/linRegModel/dispersionCache/40.328015,-79.903551_0-50/20190423_060000-0400_1h_15h_0/PARDUMP.h6\n"
     ]
    },
    {
     "name": "stdout",
     "output_type": "stream",
     "text": [
      "/projects/9ab71616-fcde-4524-bf8f-7953c669ebbb/air-src/linRegModel/dispersionCache/40.328015,-79.903551_0-50/20190423_070000-0400_1h_14h_0/PARDUMP.h7\n"
     ]
    },
    {
     "name": "stdout",
     "output_type": "stream",
     "text": [
      "/projects/9ab71616-fcde-4524-bf8f-7953c669ebbb/air-src/linRegModel/dispersionCache/40.328015,-79.903551_0-50/20190423_080000-0400_1h_13h_0/PARDUMP.h8\n"
     ]
    },
    {
     "name": "stdout",
     "output_type": "stream",
     "text": [
      "/projects/9ab71616-fcde-4524-bf8f-7953c669ebbb/air-src/linRegModel/dispersionCache/40.328015,-79.903551_0-50/20190423_090000-0400_1h_12h_0/PARDUMP.h9\n"
     ]
    },
    {
     "name": "stdout",
     "output_type": "stream",
     "text": [
      "/projects/9ab71616-fcde-4524-bf8f-7953c669ebbb/air-src/linRegModel/dispersionCache/40.328015,-79.903551_0-50/20190423_100000-0400_1h_11h_0/PARDUMP.h10\n"
     ]
    },
    {
     "name": "stdout",
     "output_type": "stream",
     "text": [
      "/projects/9ab71616-fcde-4524-bf8f-7953c669ebbb/air-src/linRegModel/dispersionCache/40.328015,-79.903551_0-50/20190423_110000-0400_1h_10h_0/PARDUMP.h11\n"
     ]
    },
    {
     "name": "stdout",
     "output_type": "stream",
     "text": [
      "/projects/9ab71616-fcde-4524-bf8f-7953c669ebbb/air-src/linRegModel/dispersionCache/40.328015,-79.903551_0-50/20190423_120000-0400_1h_9h_0/PARDUMP.h12\n"
     ]
    },
    {
     "name": "stdout",
     "output_type": "stream",
     "text": [
      "/projects/9ab71616-fcde-4524-bf8f-7953c669ebbb/air-src/linRegModel/dispersionCache/40.328015,-79.903551_0-50/20190423_130000-0400_1h_8h_0/PARDUMP.h13\n"
     ]
    },
    {
     "name": "stdout",
     "output_type": "stream",
     "text": [
      "/projects/9ab71616-fcde-4524-bf8f-7953c669ebbb/air-src/linRegModel/dispersionCache/40.328015,-79.903551_0-50/20190423_140000-0400_1h_7h_0/PARDUMP.h14\n"
     ]
    },
    {
     "name": "stdout",
     "output_type": "stream",
     "text": [
      "/projects/9ab71616-fcde-4524-bf8f-7953c669ebbb/air-src/linRegModel/dispersionCache/40.328015,-79.903551_0-50/20190423_150000-0400_1h_6h_0/PARDUMP.h15\n"
     ]
    },
    {
     "name": "stdout",
     "output_type": "stream",
     "text": [
      "/projects/9ab71616-fcde-4524-bf8f-7953c669ebbb/air-src/linRegModel/dispersionCache/40.328015,-79.903551_0-50/20190423_160000-0400_1h_5h_0/PARDUMP.h16\n"
     ]
    },
    {
     "name": "stdout",
     "output_type": "stream",
     "text": [
      "/projects/9ab71616-fcde-4524-bf8f-7953c669ebbb/air-src/linRegModel/dispersionCache/40.328015,-79.903551_0-50/20190423_170000-0400_1h_4h_0/PARDUMP.h17\n"
     ]
    },
    {
     "name": "stdout",
     "output_type": "stream",
     "text": [
      "/projects/9ab71616-fcde-4524-bf8f-7953c669ebbb/air-src/linRegModel/dispersionCache/40.328015,-79.903551_0-50/20190423_180000-0400_1h_3h_0/PARDUMP.h18\n"
     ]
    },
    {
     "name": "stdout",
     "output_type": "stream",
     "text": [
      "/projects/9ab71616-fcde-4524-bf8f-7953c669ebbb/air-src/linRegModel/dispersionCache/40.328015,-79.903551_0-50/20190423_190000-0400_1h_2h_0/PARDUMP.h19\n"
     ]
    },
    {
     "name": "stdout",
     "output_type": "stream",
     "text": [
      "/projects/9ab71616-fcde-4524-bf8f-7953c669ebbb/air-src/linRegModel/dispersionCache/40.328015,-79.903551_0-50/20190423_200000-0400_1h_1h_0/PARDUMP.h20\n"
     ]
    },
    {
     "name": "stdout",
     "output_type": "stream",
     "text": [
      "/projects/9ab71616-fcde-4524-bf8f-7953c669ebbb/air-src/linRegModel/dispersionCache/40.392967,-79.855709_0-50/20190422_210000-0400_1h_24h_0/PARDUMP.h21\n"
     ]
    },
    {
     "name": "stdout",
     "output_type": "stream",
     "text": [
      "/projects/9ab71616-fcde-4524-bf8f-7953c669ebbb/air-src/linRegModel/dispersionCache/40.392967,-79.855709_0-50/20190422_220000-0400_1h_23h_0/PARDUMP.h22\n"
     ]
    },
    {
     "name": "stdout",
     "output_type": "stream",
     "text": [
      "/projects/9ab71616-fcde-4524-bf8f-7953c669ebbb/air-src/linRegModel/dispersionCache/40.392967,-79.855709_0-50/20190422_230000-0400_1h_22h_0/PARDUMP.h23\n"
     ]
    },
    {
     "name": "stdout",
     "output_type": "stream",
     "text": [
      "/projects/9ab71616-fcde-4524-bf8f-7953c669ebbb/air-src/linRegModel/dispersionCache/40.392967,-79.855709_0-50/20190423_000000-0400_1h_21h_0/PARDUMP.h0\n"
     ]
    },
    {
     "name": "stdout",
     "output_type": "stream",
     "text": [
      "/projects/9ab71616-fcde-4524-bf8f-7953c669ebbb/air-src/linRegModel/dispersionCache/40.392967,-79.855709_0-50/20190423_010000-0400_1h_20h_0/PARDUMP.h1\n"
     ]
    },
    {
     "name": "stdout",
     "output_type": "stream",
     "text": [
      "/projects/9ab71616-fcde-4524-bf8f-7953c669ebbb/air-src/linRegModel/dispersionCache/40.392967,-79.855709_0-50/20190423_020000-0400_1h_19h_0/PARDUMP.h2\n"
     ]
    },
    {
     "name": "stdout",
     "output_type": "stream",
     "text": [
      "/projects/9ab71616-fcde-4524-bf8f-7953c669ebbb/air-src/linRegModel/dispersionCache/40.392967,-79.855709_0-50/20190423_030000-0400_1h_18h_0/PARDUMP.h3\n"
     ]
    },
    {
     "name": "stdout",
     "output_type": "stream",
     "text": [
      "/projects/9ab71616-fcde-4524-bf8f-7953c669ebbb/air-src/linRegModel/dispersionCache/40.392967,-79.855709_0-50/20190423_040000-0400_1h_17h_0/PARDUMP.h4\n"
     ]
    },
    {
     "name": "stdout",
     "output_type": "stream",
     "text": [
      "/projects/9ab71616-fcde-4524-bf8f-7953c669ebbb/air-src/linRegModel/dispersionCache/40.392967,-79.855709_0-50/20190423_050000-0400_1h_16h_0/PARDUMP.h5\n"
     ]
    },
    {
     "name": "stdout",
     "output_type": "stream",
     "text": [
      "/projects/9ab71616-fcde-4524-bf8f-7953c669ebbb/air-src/linRegModel/dispersionCache/40.392967,-79.855709_0-50/20190423_060000-0400_1h_15h_0/PARDUMP.h6\n"
     ]
    },
    {
     "name": "stdout",
     "output_type": "stream",
     "text": [
      "/projects/9ab71616-fcde-4524-bf8f-7953c669ebbb/air-src/linRegModel/dispersionCache/40.392967,-79.855709_0-50/20190423_070000-0400_1h_14h_0/PARDUMP.h7\n"
     ]
    },
    {
     "name": "stdout",
     "output_type": "stream",
     "text": [
      "/projects/9ab71616-fcde-4524-bf8f-7953c669ebbb/air-src/linRegModel/dispersionCache/40.392967,-79.855709_0-50/20190423_080000-0400_1h_13h_0/PARDUMP.h8\n"
     ]
    },
    {
     "name": "stdout",
     "output_type": "stream",
     "text": [
      "/projects/9ab71616-fcde-4524-bf8f-7953c669ebbb/air-src/linRegModel/dispersionCache/40.392967,-79.855709_0-50/20190423_090000-0400_1h_12h_0/PARDUMP.h9\n"
     ]
    },
    {
     "name": "stdout",
     "output_type": "stream",
     "text": [
      "/projects/9ab71616-fcde-4524-bf8f-7953c669ebbb/air-src/linRegModel/dispersionCache/40.392967,-79.855709_0-50/20190423_100000-0400_1h_11h_0/PARDUMP.h10\n"
     ]
    },
    {
     "name": "stdout",
     "output_type": "stream",
     "text": [
      "/projects/9ab71616-fcde-4524-bf8f-7953c669ebbb/air-src/linRegModel/dispersionCache/40.392967,-79.855709_0-50/20190423_110000-0400_1h_10h_0/PARDUMP.h11\n"
     ]
    },
    {
     "name": "stdout",
     "output_type": "stream",
     "text": [
      "/projects/9ab71616-fcde-4524-bf8f-7953c669ebbb/air-src/linRegModel/dispersionCache/40.392967,-79.855709_0-50/20190423_120000-0400_1h_9h_0/PARDUMP.h12\n"
     ]
    },
    {
     "name": "stdout",
     "output_type": "stream",
     "text": [
      "/projects/9ab71616-fcde-4524-bf8f-7953c669ebbb/air-src/linRegModel/dispersionCache/40.392967,-79.855709_0-50/20190423_130000-0400_1h_8h_0/PARDUMP.h13\n"
     ]
    },
    {
     "name": "stdout",
     "output_type": "stream",
     "text": [
      "/projects/9ab71616-fcde-4524-bf8f-7953c669ebbb/air-src/linRegModel/dispersionCache/40.392967,-79.855709_0-50/20190423_140000-0400_1h_7h_0/PARDUMP.h14\n"
     ]
    },
    {
     "name": "stdout",
     "output_type": "stream",
     "text": [
      "/projects/9ab71616-fcde-4524-bf8f-7953c669ebbb/air-src/linRegModel/dispersionCache/40.392967,-79.855709_0-50/20190423_150000-0400_1h_6h_0/PARDUMP.h15\n"
     ]
    },
    {
     "name": "stdout",
     "output_type": "stream",
     "text": [
      "/projects/9ab71616-fcde-4524-bf8f-7953c669ebbb/air-src/linRegModel/dispersionCache/40.392967,-79.855709_0-50/20190423_160000-0400_1h_5h_0/PARDUMP.h16\n"
     ]
    },
    {
     "name": "stdout",
     "output_type": "stream",
     "text": [
      "/projects/9ab71616-fcde-4524-bf8f-7953c669ebbb/air-src/linRegModel/dispersionCache/40.392967,-79.855709_0-50/20190423_170000-0400_1h_4h_0/PARDUMP.h17\n"
     ]
    },
    {
     "name": "stdout",
     "output_type": "stream",
     "text": [
      "/projects/9ab71616-fcde-4524-bf8f-7953c669ebbb/air-src/linRegModel/dispersionCache/40.392967,-79.855709_0-50/20190423_180000-0400_1h_3h_0/PARDUMP.h18\n"
     ]
    },
    {
     "name": "stdout",
     "output_type": "stream",
     "text": [
      "/projects/9ab71616-fcde-4524-bf8f-7953c669ebbb/air-src/linRegModel/dispersionCache/40.392967,-79.855709_0-50/20190423_190000-0400_1h_2h_0/PARDUMP.h19\n"
     ]
    },
    {
     "name": "stdout",
     "output_type": "stream",
     "text": [
      "/projects/9ab71616-fcde-4524-bf8f-7953c669ebbb/air-src/linRegModel/dispersionCache/40.392967,-79.855709_0-50/20190423_200000-0400_1h_1h_0/PARDUMP.h20\n"
     ]
    },
    {
     "name": "stdout",
     "output_type": "stream",
     "text": [
      "/projects/9ab71616-fcde-4524-bf8f-7953c669ebbb/air-src/linRegModel/dispersionCache/40.305062,-79.876692_0-50/20190422_210000-0400_1h_24h_0/PARDUMP.h21\n"
     ]
    },
    {
     "name": "stdout",
     "output_type": "stream",
     "text": [
      "/projects/9ab71616-fcde-4524-bf8f-7953c669ebbb/air-src/linRegModel/dispersionCache/40.305062,-79.876692_0-50/20190422_220000-0400_1h_23h_0/PARDUMP.h22\n"
     ]
    },
    {
     "name": "stdout",
     "output_type": "stream",
     "text": [
      "/projects/9ab71616-fcde-4524-bf8f-7953c669ebbb/air-src/linRegModel/dispersionCache/40.305062,-79.876692_0-50/20190422_230000-0400_1h_22h_0/PARDUMP.h23\n"
     ]
    },
    {
     "name": "stdout",
     "output_type": "stream",
     "text": [
      "/projects/9ab71616-fcde-4524-bf8f-7953c669ebbb/air-src/linRegModel/dispersionCache/40.305062,-79.876692_0-50/20190423_000000-0400_1h_21h_0/PARDUMP.h0\n"
     ]
    },
    {
     "name": "stdout",
     "output_type": "stream",
     "text": [
      "/projects/9ab71616-fcde-4524-bf8f-7953c669ebbb/air-src/linRegModel/dispersionCache/40.305062,-79.876692_0-50/20190423_010000-0400_1h_20h_0/PARDUMP.h1\n"
     ]
    },
    {
     "name": "stdout",
     "output_type": "stream",
     "text": [
      "/projects/9ab71616-fcde-4524-bf8f-7953c669ebbb/air-src/linRegModel/dispersionCache/40.305062,-79.876692_0-50/20190423_020000-0400_1h_19h_0/PARDUMP.h2\n"
     ]
    },
    {
     "name": "stdout",
     "output_type": "stream",
     "text": [
      "/projects/9ab71616-fcde-4524-bf8f-7953c669ebbb/air-src/linRegModel/dispersionCache/40.305062,-79.876692_0-50/20190423_030000-0400_1h_18h_0/PARDUMP.h3\n"
     ]
    },
    {
     "name": "stdout",
     "output_type": "stream",
     "text": [
      "/projects/9ab71616-fcde-4524-bf8f-7953c669ebbb/air-src/linRegModel/dispersionCache/40.305062,-79.876692_0-50/20190423_040000-0400_1h_17h_0/PARDUMP.h4\n"
     ]
    },
    {
     "name": "stdout",
     "output_type": "stream",
     "text": [
      "/projects/9ab71616-fcde-4524-bf8f-7953c669ebbb/air-src/linRegModel/dispersionCache/40.305062,-79.876692_0-50/20190423_050000-0400_1h_16h_0/PARDUMP.h5\n"
     ]
    },
    {
     "name": "stdout",
     "output_type": "stream",
     "text": [
      "/projects/9ab71616-fcde-4524-bf8f-7953c669ebbb/air-src/linRegModel/dispersionCache/40.305062,-79.876692_0-50/20190423_060000-0400_1h_15h_0/PARDUMP.h6\n"
     ]
    },
    {
     "name": "stdout",
     "output_type": "stream",
     "text": [
      "/projects/9ab71616-fcde-4524-bf8f-7953c669ebbb/air-src/linRegModel/dispersionCache/40.305062,-79.876692_0-50/20190423_070000-0400_1h_14h_0/PARDUMP.h7\n"
     ]
    },
    {
     "name": "stdout",
     "output_type": "stream",
     "text": [
      "/projects/9ab71616-fcde-4524-bf8f-7953c669ebbb/air-src/linRegModel/dispersionCache/40.305062,-79.876692_0-50/20190423_080000-0400_1h_13h_0/PARDUMP.h8\n"
     ]
    },
    {
     "name": "stdout",
     "output_type": "stream",
     "text": [
      "/projects/9ab71616-fcde-4524-bf8f-7953c669ebbb/air-src/linRegModel/dispersionCache/40.305062,-79.876692_0-50/20190423_090000-0400_1h_12h_0/PARDUMP.h9\n"
     ]
    },
    {
     "name": "stdout",
     "output_type": "stream",
     "text": [
      "/projects/9ab71616-fcde-4524-bf8f-7953c669ebbb/air-src/linRegModel/dispersionCache/40.305062,-79.876692_0-50/20190423_100000-0400_1h_11h_0/PARDUMP.h10\n"
     ]
    },
    {
     "name": "stdout",
     "output_type": "stream",
     "text": [
      "/projects/9ab71616-fcde-4524-bf8f-7953c669ebbb/air-src/linRegModel/dispersionCache/40.305062,-79.876692_0-50/20190423_110000-0400_1h_10h_0/PARDUMP.h11\n"
     ]
    },
    {
     "name": "stdout",
     "output_type": "stream",
     "text": [
      "/projects/9ab71616-fcde-4524-bf8f-7953c669ebbb/air-src/linRegModel/dispersionCache/40.305062,-79.876692_0-50/20190423_120000-0400_1h_9h_0/PARDUMP.h12\n"
     ]
    },
    {
     "name": "stdout",
     "output_type": "stream",
     "text": [
      "/projects/9ab71616-fcde-4524-bf8f-7953c669ebbb/air-src/linRegModel/dispersionCache/40.305062,-79.876692_0-50/20190423_130000-0400_1h_8h_0/PARDUMP.h13\n"
     ]
    },
    {
     "name": "stdout",
     "output_type": "stream",
     "text": [
      "/projects/9ab71616-fcde-4524-bf8f-7953c669ebbb/air-src/linRegModel/dispersionCache/40.305062,-79.876692_0-50/20190423_140000-0400_1h_7h_0/PARDUMP.h14\n"
     ]
    },
    {
     "name": "stdout",
     "output_type": "stream",
     "text": [
      "/projects/9ab71616-fcde-4524-bf8f-7953c669ebbb/air-src/linRegModel/dispersionCache/40.305062,-79.876692_0-50/20190423_150000-0400_1h_6h_0/PARDUMP.h15\n"
     ]
    },
    {
     "name": "stdout",
     "output_type": "stream",
     "text": [
      "/projects/9ab71616-fcde-4524-bf8f-7953c669ebbb/air-src/linRegModel/dispersionCache/40.305062,-79.876692_0-50/20190423_160000-0400_1h_5h_0/PARDUMP.h16\n"
     ]
    },
    {
     "name": "stdout",
     "output_type": "stream",
     "text": [
      "/projects/9ab71616-fcde-4524-bf8f-7953c669ebbb/air-src/linRegModel/dispersionCache/40.305062,-79.876692_0-50/20190423_170000-0400_1h_4h_0/PARDUMP.h17\n"
     ]
    },
    {
     "name": "stdout",
     "output_type": "stream",
     "text": [
      "/projects/9ab71616-fcde-4524-bf8f-7953c669ebbb/air-src/linRegModel/dispersionCache/40.305062,-79.876692_0-50/20190423_180000-0400_1h_3h_0/PARDUMP.h18\n"
     ]
    },
    {
     "name": "stdout",
     "output_type": "stream",
     "text": [
      "/projects/9ab71616-fcde-4524-bf8f-7953c669ebbb/air-src/linRegModel/dispersionCache/40.305062,-79.876692_0-50/20190423_190000-0400_1h_2h_0/PARDUMP.h19\n"
     ]
    },
    {
     "name": "stdout",
     "output_type": "stream",
     "text": [
      "/projects/9ab71616-fcde-4524-bf8f-7953c669ebbb/air-src/linRegModel/dispersionCache/40.305062,-79.876692_0-50/20190423_200000-0400_1h_1h_0/PARDUMP.h20\n"
     ]
    },
    {
     "name": "stdout",
     "output_type": "stream",
     "text": [
      "/projects/9ab71616-fcde-4524-bf8f-7953c669ebbb/air-src/linRegModel/dispersionCache/40.538261,-79.790391_0-50/20190422_210000-0400_1h_24h_0/PARDUMP.h21\n"
     ]
    },
    {
     "name": "stdout",
     "output_type": "stream",
     "text": [
      "/projects/9ab71616-fcde-4524-bf8f-7953c669ebbb/air-src/linRegModel/dispersionCache/40.538261,-79.790391_0-50/20190422_220000-0400_1h_23h_0/PARDUMP.h22\n"
     ]
    },
    {
     "name": "stdout",
     "output_type": "stream",
     "text": [
      "/projects/9ab71616-fcde-4524-bf8f-7953c669ebbb/air-src/linRegModel/dispersionCache/40.538261,-79.790391_0-50/20190422_230000-0400_1h_22h_0/PARDUMP.h23\n"
     ]
    },
    {
     "name": "stdout",
     "output_type": "stream",
     "text": [
      "/projects/9ab71616-fcde-4524-bf8f-7953c669ebbb/air-src/linRegModel/dispersionCache/40.538261,-79.790391_0-50/20190423_000000-0400_1h_21h_0/PARDUMP.h0\n"
     ]
    },
    {
     "name": "stdout",
     "output_type": "stream",
     "text": [
      "/projects/9ab71616-fcde-4524-bf8f-7953c669ebbb/air-src/linRegModel/dispersionCache/40.538261,-79.790391_0-50/20190423_010000-0400_1h_20h_0/PARDUMP.h1\n"
     ]
    },
    {
     "name": "stdout",
     "output_type": "stream",
     "text": [
      "/projects/9ab71616-fcde-4524-bf8f-7953c669ebbb/air-src/linRegModel/dispersionCache/40.538261,-79.790391_0-50/20190423_020000-0400_1h_19h_0/PARDUMP.h2\n"
     ]
    },
    {
     "name": "stdout",
     "output_type": "stream",
     "text": [
      "/projects/9ab71616-fcde-4524-bf8f-7953c669ebbb/air-src/linRegModel/dispersionCache/40.538261,-79.790391_0-50/20190423_030000-0400_1h_18h_0/PARDUMP.h3\n"
     ]
    },
    {
     "name": "stdout",
     "output_type": "stream",
     "text": [
      "/projects/9ab71616-fcde-4524-bf8f-7953c669ebbb/air-src/linRegModel/dispersionCache/40.538261,-79.790391_0-50/20190423_040000-0400_1h_17h_0/PARDUMP.h4\n"
     ]
    },
    {
     "name": "stdout",
     "output_type": "stream",
     "text": [
      "/projects/9ab71616-fcde-4524-bf8f-7953c669ebbb/air-src/linRegModel/dispersionCache/40.538261,-79.790391_0-50/20190423_050000-0400_1h_16h_0/PARDUMP.h5\n"
     ]
    },
    {
     "name": "stdout",
     "output_type": "stream",
     "text": [
      "/projects/9ab71616-fcde-4524-bf8f-7953c669ebbb/air-src/linRegModel/dispersionCache/40.538261,-79.790391_0-50/20190423_060000-0400_1h_15h_0/PARDUMP.h6\n"
     ]
    },
    {
     "name": "stdout",
     "output_type": "stream",
     "text": [
      "/projects/9ab71616-fcde-4524-bf8f-7953c669ebbb/air-src/linRegModel/dispersionCache/40.538261,-79.790391_0-50/20190423_070000-0400_1h_14h_0/PARDUMP.h7\n"
     ]
    },
    {
     "name": "stdout",
     "output_type": "stream",
     "text": [
      "/projects/9ab71616-fcde-4524-bf8f-7953c669ebbb/air-src/linRegModel/dispersionCache/40.538261,-79.790391_0-50/20190423_080000-0400_1h_13h_0/PARDUMP.h8\n"
     ]
    },
    {
     "name": "stdout",
     "output_type": "stream",
     "text": [
      "/projects/9ab71616-fcde-4524-bf8f-7953c669ebbb/air-src/linRegModel/dispersionCache/40.538261,-79.790391_0-50/20190423_090000-0400_1h_12h_0/PARDUMP.h9\n"
     ]
    },
    {
     "name": "stdout",
     "output_type": "stream",
     "text": [
      "/projects/9ab71616-fcde-4524-bf8f-7953c669ebbb/air-src/linRegModel/dispersionCache/40.538261,-79.790391_0-50/20190423_100000-0400_1h_11h_0/PARDUMP.h10\n"
     ]
    },
    {
     "name": "stdout",
     "output_type": "stream",
     "text": [
      "/projects/9ab71616-fcde-4524-bf8f-7953c669ebbb/air-src/linRegModel/dispersionCache/40.538261,-79.790391_0-50/20190423_110000-0400_1h_10h_0/PARDUMP.h11\n"
     ]
    },
    {
     "name": "stdout",
     "output_type": "stream",
     "text": [
      "/projects/9ab71616-fcde-4524-bf8f-7953c669ebbb/air-src/linRegModel/dispersionCache/40.538261,-79.790391_0-50/20190423_120000-0400_1h_9h_0/PARDUMP.h12\n"
     ]
    },
    {
     "name": "stdout",
     "output_type": "stream",
     "text": [
      "/projects/9ab71616-fcde-4524-bf8f-7953c669ebbb/air-src/linRegModel/dispersionCache/40.538261,-79.790391_0-50/20190423_130000-0400_1h_8h_0/PARDUMP.h13\n"
     ]
    },
    {
     "name": "stdout",
     "output_type": "stream",
     "text": [
      "/projects/9ab71616-fcde-4524-bf8f-7953c669ebbb/air-src/linRegModel/dispersionCache/40.538261,-79.790391_0-50/20190423_140000-0400_1h_7h_0/PARDUMP.h14\n"
     ]
    },
    {
     "name": "stdout",
     "output_type": "stream",
     "text": [
      "/projects/9ab71616-fcde-4524-bf8f-7953c669ebbb/air-src/linRegModel/dispersionCache/40.538261,-79.790391_0-50/20190423_150000-0400_1h_6h_0/PARDUMP.h15\n"
     ]
    },
    {
     "name": "stdout",
     "output_type": "stream",
     "text": [
      "/projects/9ab71616-fcde-4524-bf8f-7953c669ebbb/air-src/linRegModel/dispersionCache/40.538261,-79.790391_0-50/20190423_160000-0400_1h_5h_0/PARDUMP.h16\n"
     ]
    },
    {
     "name": "stdout",
     "output_type": "stream",
     "text": [
      "/projects/9ab71616-fcde-4524-bf8f-7953c669ebbb/air-src/linRegModel/dispersionCache/40.538261,-79.790391_0-50/20190423_170000-0400_1h_4h_0/PARDUMP.h17\n"
     ]
    },
    {
     "name": "stdout",
     "output_type": "stream",
     "text": [
      "/projects/9ab71616-fcde-4524-bf8f-7953c669ebbb/air-src/linRegModel/dispersionCache/40.538261,-79.790391_0-50/20190423_180000-0400_1h_3h_0/PARDUMP.h18\n"
     ]
    },
    {
     "name": "stdout",
     "output_type": "stream",
     "text": [
      "/projects/9ab71616-fcde-4524-bf8f-7953c669ebbb/air-src/linRegModel/dispersionCache/40.538261,-79.790391_0-50/20190423_190000-0400_1h_2h_0/PARDUMP.h19\n"
     ]
    },
    {
     "name": "stdout",
     "output_type": "stream",
     "text": [
      "/projects/9ab71616-fcde-4524-bf8f-7953c669ebbb/air-src/linRegModel/dispersionCache/40.538261,-79.790391_0-50/20190423_200000-0400_1h_1h_0/PARDUMP.h20\n"
     ]
    },
    {
     "name": "stdout",
     "output_type": "stream",
     "text": [
      "['/projects/9ab71616-fcde-4524-bf8f-7953c669ebbb/air-src/linRegModel/dispersionCache/40.328015,-79.903551_0-50/20190422_210000-0400_1h_24h_0/PARDUMP.h21.txt', '/projects/9ab71616-fcde-4524-bf8f-7953c669ebbb/air-src/linRegModel/dispersionCache/40.328015,-79.903551_0-50/20190422_210000-0400_1h_24h_0/PARDUMP.h21.txt', '/projects/9ab71616-fcde-4524-bf8f-7953c669ebbb/air-src/linRegModel/dispersionCache/40.328015,-79.903551_0-50/20190422_220000-0400_1h_23h_0/PARDUMP.h22.txt', '/projects/9ab71616-fcde-4524-bf8f-7953c669ebbb/air-src/linRegModel/dispersionCache/40.328015,-79.903551_0-50/20190422_220000-0400_1h_23h_0/PARDUMP.h22.txt', '/projects/9ab71616-fcde-4524-bf8f-7953c669ebbb/air-src/linRegModel/dispersionCache/40.328015,-79.903551_0-50/20190422_230000-0400_1h_22h_0/PARDUMP.h23.txt', '/projects/9ab71616-fcde-4524-bf8f-7953c669ebbb/air-src/linRegModel/dispersionCache/40.328015,-79.903551_0-50/20190422_230000-0400_1h_22h_0/PARDUMP.h23.txt', '/projects/9ab71616-fcde-4524-bf8f-7953c669ebbb/air-src/linRegModel/dispersionCache/40.328015,-79.903551_0-50/20190423_000000-0400_1h_21h_0/PARDUMP.h0.txt', '/projects/9ab71616-fcde-4524-bf8f-7953c669ebbb/air-src/linRegModel/dispersionCache/40.328015,-79.903551_0-50/20190423_000000-0400_1h_21h_0/PARDUMP.h0.txt', '/projects/9ab71616-fcde-4524-bf8f-7953c669ebbb/air-src/linRegModel/dispersionCache/40.328015,-79.903551_0-50/20190423_010000-0400_1h_20h_0/PARDUMP.h1.txt', '/projects/9ab71616-fcde-4524-bf8f-7953c669ebbb/air-src/linRegModel/dispersionCache/40.328015,-79.903551_0-50/20190423_010000-0400_1h_20h_0/PARDUMP.h1.txt', '/projects/9ab71616-fcde-4524-bf8f-7953c669ebbb/air-src/linRegModel/dispersionCache/40.328015,-79.903551_0-50/20190423_020000-0400_1h_19h_0/PARDUMP.h2.txt', '/projects/9ab71616-fcde-4524-bf8f-7953c669ebbb/air-src/linRegModel/dispersionCache/40.328015,-79.903551_0-50/20190423_020000-0400_1h_19h_0/PARDUMP.h2.txt', '/projects/9ab71616-fcde-4524-bf8f-7953c669ebbb/air-src/linRegModel/dispersionCache/40.328015,-79.903551_0-50/20190423_030000-0400_1h_18h_0/PARDUMP.h3.txt', '/projects/9ab71616-fcde-4524-bf8f-7953c669ebbb/air-src/linRegModel/dispersionCache/40.328015,-79.903551_0-50/20190423_030000-0400_1h_18h_0/PARDUMP.h3.txt', '/projects/9ab71616-fcde-4524-bf8f-7953c669ebbb/air-src/linRegModel/dispersionCache/40.328015,-79.903551_0-50/20190423_040000-0400_1h_17h_0/PARDUMP.h4.txt', '/projects/9ab71616-fcde-4524-bf8f-7953c669ebbb/air-src/linRegModel/dispersionCache/40.328015,-79.903551_0-50/20190423_040000-0400_1h_17h_0/PARDUMP.h4.txt', '/projects/9ab71616-fcde-4524-bf8f-7953c669ebbb/air-src/linRegModel/dispersionCache/40.328015,-79.903551_0-50/20190423_050000-0400_1h_16h_0/PARDUMP.h5.txt', '/projects/9ab71616-fcde-4524-bf8f-7953c669ebbb/air-src/linRegModel/dispersionCache/40.328015,-79.903551_0-50/20190423_050000-0400_1h_16h_0/PARDUMP.h5.txt', '/projects/9ab71616-fcde-4524-bf8f-7953c669ebbb/air-src/linRegModel/dispersionCache/40.328015,-79.903551_0-50/20190423_060000-0400_1h_15h_0/PARDUMP.h6.txt', '/projects/9ab71616-fcde-4524-bf8f-7953c669ebbb/air-src/linRegModel/dispersionCache/40.328015,-79.903551_0-50/20190423_060000-0400_1h_15h_0/PARDUMP.h6.txt', '/projects/9ab71616-fcde-4524-bf8f-7953c669ebbb/air-src/linRegModel/dispersionCache/40.328015,-79.903551_0-50/20190423_070000-0400_1h_14h_0/PARDUMP.h7.txt', '/projects/9ab71616-fcde-4524-bf8f-7953c669ebbb/air-src/linRegModel/dispersionCache/40.328015,-79.903551_0-50/20190423_070000-0400_1h_14h_0/PARDUMP.h7.txt', '/projects/9ab71616-fcde-4524-bf8f-7953c669ebbb/air-src/linRegModel/dispersionCache/40.328015,-79.903551_0-50/20190423_080000-0400_1h_13h_0/PARDUMP.h8.txt', '/projects/9ab71616-fcde-4524-bf8f-7953c669ebbb/air-src/linRegModel/dispersionCache/40.328015,-79.903551_0-50/20190423_080000-0400_1h_13h_0/PARDUMP.h8.txt', '/projects/9ab71616-fcde-4524-bf8f-7953c669ebbb/air-src/linRegModel/dispersionCache/40.328015,-79.903551_0-50/20190423_090000-0400_1h_12h_0/PARDUMP.h9.txt', '/projects/9ab71616-fcde-4524-bf8f-7953c669ebbb/air-src/linRegModel/dispersionCache/40.328015,-79.903551_0-50/20190423_090000-0400_1h_12h_0/PARDUMP.h9.txt', '/projects/9ab71616-fcde-4524-bf8f-7953c669ebbb/air-src/linRegModel/dispersionCache/40.328015,-79.903551_0-50/20190423_100000-0400_1h_11h_0/PARDUMP.h10.txt', '/projects/9ab71616-fcde-4524-bf8f-7953c669ebbb/air-src/linRegModel/dispersionCache/40.328015,-79.903551_0-50/20190423_100000-0400_1h_11h_0/PARDUMP.h10.txt', '/projects/9ab71616-fcde-4524-bf8f-7953c669ebbb/air-src/linRegModel/dispersionCache/40.328015,-79.903551_0-50/20190423_110000-0400_1h_10h_0/PARDUMP.h11.txt', '/projects/9ab71616-fcde-4524-bf8f-7953c669ebbb/air-src/linRegModel/dispersionCache/40.328015,-79.903551_0-50/20190423_110000-0400_1h_10h_0/PARDUMP.h11.txt', '/projects/9ab71616-fcde-4524-bf8f-7953c669ebbb/air-src/linRegModel/dispersionCache/40.328015,-79.903551_0-50/20190423_120000-0400_1h_9h_0/PARDUMP.h12.txt', '/projects/9ab71616-fcde-4524-bf8f-7953c669ebbb/air-src/linRegModel/dispersionCache/40.328015,-79.903551_0-50/20190423_120000-0400_1h_9h_0/PARDUMP.h12.txt', '/projects/9ab71616-fcde-4524-bf8f-7953c669ebbb/air-src/linRegModel/dispersionCache/40.328015,-79.903551_0-50/20190423_130000-0400_1h_8h_0/PARDUMP.h13.txt', '/projects/9ab71616-fcde-4524-bf8f-7953c669ebbb/air-src/linRegModel/dispersionCache/40.328015,-79.903551_0-50/20190423_130000-0400_1h_8h_0/PARDUMP.h13.txt', '/projects/9ab71616-fcde-4524-bf8f-7953c669ebbb/air-src/linRegModel/dispersionCache/40.328015,-79.903551_0-50/20190423_140000-0400_1h_7h_0/PARDUMP.h14.txt', '/projects/9ab71616-fcde-4524-bf8f-7953c669ebbb/air-src/linRegModel/dispersionCache/40.328015,-79.903551_0-50/20190423_140000-0400_1h_7h_0/PARDUMP.h14.txt', '/projects/9ab71616-fcde-4524-bf8f-7953c669ebbb/air-src/linRegModel/dispersionCache/40.328015,-79.903551_0-50/20190423_150000-0400_1h_6h_0/PARDUMP.h15.txt', '/projects/9ab71616-fcde-4524-bf8f-7953c669ebbb/air-src/linRegModel/dispersionCache/40.328015,-79.903551_0-50/20190423_150000-0400_1h_6h_0/PARDUMP.h15.txt', '/projects/9ab71616-fcde-4524-bf8f-7953c669ebbb/air-src/linRegModel/dispersionCache/40.328015,-79.903551_0-50/20190423_160000-0400_1h_5h_0/PARDUMP.h16.txt', '/projects/9ab71616-fcde-4524-bf8f-7953c669ebbb/air-src/linRegModel/dispersionCache/40.328015,-79.903551_0-50/20190423_160000-0400_1h_5h_0/PARDUMP.h16.txt', '/projects/9ab71616-fcde-4524-bf8f-7953c669ebbb/air-src/linRegModel/dispersionCache/40.328015,-79.903551_0-50/20190423_170000-0400_1h_4h_0/PARDUMP.h17.txt', '/projects/9ab71616-fcde-4524-bf8f-7953c669ebbb/air-src/linRegModel/dispersionCache/40.328015,-79.903551_0-50/20190423_170000-0400_1h_4h_0/PARDUMP.h17.txt', '/projects/9ab71616-fcde-4524-bf8f-7953c669ebbb/air-src/linRegModel/dispersionCache/40.328015,-79.903551_0-50/20190423_180000-0400_1h_3h_0/PARDUMP.h18.txt', '/projects/9ab71616-fcde-4524-bf8f-7953c669ebbb/air-src/linRegModel/dispersionCache/40.328015,-79.903551_0-50/20190423_180000-0400_1h_3h_0/PARDUMP.h18.txt', '/projects/9ab71616-fcde-4524-bf8f-7953c669ebbb/air-src/linRegModel/dispersionCache/40.328015,-79.903551_0-50/20190423_190000-0400_1h_2h_0/PARDUMP.h19.txt', '/projects/9ab71616-fcde-4524-bf8f-7953c669ebbb/air-src/linRegModel/dispersionCache/40.328015,-79.903551_0-50/20190423_190000-0400_1h_2h_0/PARDUMP.h19.txt', '/projects/9ab71616-fcde-4524-bf8f-7953c669ebbb/air-src/linRegModel/dispersionCache/40.328015,-79.903551_0-50/20190423_200000-0400_1h_1h_0/PARDUMP.h20.txt', '/projects/9ab71616-fcde-4524-bf8f-7953c669ebbb/air-src/linRegModel/dispersionCache/40.328015,-79.903551_0-50/20190423_200000-0400_1h_1h_0/PARDUMP.h20.txt', '/projects/9ab71616-fcde-4524-bf8f-7953c669ebbb/air-src/linRegModel/dispersionCache/40.392967,-79.855709_0-50/20190422_210000-0400_1h_24h_0/PARDUMP.h21.txt', '/projects/9ab71616-fcde-4524-bf8f-7953c669ebbb/air-src/linRegModel/dispersionCache/40.392967,-79.855709_0-50/20190422_210000-0400_1h_24h_0/PARDUMP.h21.txt', '/projects/9ab71616-fcde-4524-bf8f-7953c669ebbb/air-src/linRegModel/dispersionCache/40.392967,-79.855709_0-50/20190422_220000-0400_1h_23h_0/PARDUMP.h22.txt', '/projects/9ab71616-fcde-4524-bf8f-7953c669ebbb/air-src/linRegModel/dispersionCache/40.392967,-79.855709_0-50/20190422_220000-0400_1h_23h_0/PARDUMP.h22.txt', '/projects/9ab71616-fcde-4524-bf8f-7953c669ebbb/air-src/linRegModel/dispersionCache/40.392967,-79.855709_0-50/20190422_230000-0400_1h_22h_0/PARDUMP.h23.txt', '/projects/9ab71616-fcde-4524-bf8f-7953c669ebbb/air-src/linRegModel/dispersionCache/40.392967,-79.855709_0-50/20190422_230000-0400_1h_22h_0/PARDUMP.h23.txt', '/projects/9ab71616-fcde-4524-bf8f-7953c669ebbb/air-src/linRegModel/dispersionCache/40.392967,-79.855709_0-50/20190423_000000-0400_1h_21h_0/PARDUMP.h0.txt', '/projects/9ab71616-fcde-4524-bf8f-7953c669ebbb/air-src/linRegModel/dispersionCache/40.392967,-79.855709_0-50/20190423_000000-0400_1h_21h_0/PARDUMP.h0.txt', '/projects/9ab71616-fcde-4524-bf8f-7953c669ebbb/air-src/linRegModel/dispersionCache/40.392967,-79.855709_0-50/20190423_010000-0400_1h_20h_0/PARDUMP.h1.txt', '/projects/9ab71616-fcde-4524-bf8f-7953c669ebbb/air-src/linRegModel/dispersionCache/40.392967,-79.855709_0-50/20190423_010000-0400_1h_20h_0/PARDUMP.h1.txt', '/projects/9ab71616-fcde-4524-bf8f-7953c669ebbb/air-src/linRegModel/dispersionCache/40.392967,-79.855709_0-50/20190423_020000-0400_1h_19h_0/PARDUMP.h2.txt', '/projects/9ab71616-fcde-4524-bf8f-7953c669ebbb/air-src/linRegModel/dispersionCache/40.392967,-79.855709_0-50/20190423_020000-0400_1h_19h_0/PARDUMP.h2.txt', '/projects/9ab71616-fcde-4524-bf8f-7953c669ebbb/air-src/linRegModel/dispersionCache/40.392967,-79.855709_0-50/20190423_030000-0400_1h_18h_0/PARDUMP.h3.txt', '/projects/9ab71616-fcde-4524-bf8f-7953c669ebbb/air-src/linRegModel/dispersionCache/40.392967,-79.855709_0-50/20190423_030000-0400_1h_18h_0/PARDUMP.h3.txt', '/projects/9ab71616-fcde-4524-bf8f-7953c669ebbb/air-src/linRegModel/dispersionCache/40.392967,-79.855709_0-50/20190423_040000-0400_1h_17h_0/PARDUMP.h4.txt', '/projects/9ab71616-fcde-4524-bf8f-7953c669ebbb/air-src/linRegModel/dispersionCache/40.392967,-79.855709_0-50/20190423_040000-0400_1h_17h_0/PARDUMP.h4.txt', '/projects/9ab71616-fcde-4524-bf8f-7953c669ebbb/air-src/linRegModel/dispersionCache/40.392967,-79.855709_0-50/20190423_050000-0400_1h_16h_0/PARDUMP.h5.txt', '/projects/9ab71616-fcde-4524-bf8f-7953c669ebbb/air-src/linRegModel/dispersionCache/40.392967,-79.855709_0-50/20190423_050000-0400_1h_16h_0/PARDUMP.h5.txt', '/projects/9ab71616-fcde-4524-bf8f-7953c669ebbb/air-src/linRegModel/dispersionCache/40.392967,-79.855709_0-50/20190423_060000-0400_1h_15h_0/PARDUMP.h6.txt', '/projects/9ab71616-fcde-4524-bf8f-7953c669ebbb/air-src/linRegModel/dispersionCache/40.392967,-79.855709_0-50/20190423_060000-0400_1h_15h_0/PARDUMP.h6.txt', '/projects/9ab71616-fcde-4524-bf8f-7953c669ebbb/air-src/linRegModel/dispersionCache/40.392967,-79.855709_0-50/20190423_070000-0400_1h_14h_0/PARDUMP.h7.txt', '/projects/9ab71616-fcde-4524-bf8f-7953c669ebbb/air-src/linRegModel/dispersionCache/40.392967,-79.855709_0-50/20190423_070000-0400_1h_14h_0/PARDUMP.h7.txt', '/projects/9ab71616-fcde-4524-bf8f-7953c669ebbb/air-src/linRegModel/dispersionCache/40.392967,-79.855709_0-50/20190423_080000-0400_1h_13h_0/PARDUMP.h8.txt', '/projects/9ab71616-fcde-4524-bf8f-7953c669ebbb/air-src/linRegModel/dispersionCache/40.392967,-79.855709_0-50/20190423_080000-0400_1h_13h_0/PARDUMP.h8.txt', '/projects/9ab71616-fcde-4524-bf8f-7953c669ebbb/air-src/linRegModel/dispersionCache/40.392967,-79.855709_0-50/20190423_090000-0400_1h_12h_0/PARDUMP.h9.txt', '/projects/9ab71616-fcde-4524-bf8f-7953c669ebbb/air-src/linRegModel/dispersionCache/40.392967,-79.855709_0-50/20190423_090000-0400_1h_12h_0/PARDUMP.h9.txt', '/projects/9ab71616-fcde-4524-bf8f-7953c669ebbb/air-src/linRegModel/dispersionCache/40.392967,-79.855709_0-50/20190423_100000-0400_1h_11h_0/PARDUMP.h10.txt', '/projects/9ab71616-fcde-4524-bf8f-7953c669ebbb/air-src/linRegModel/dispersionCache/40.392967,-79.855709_0-50/20190423_100000-0400_1h_11h_0/PARDUMP.h10.txt', '/projects/9ab71616-fcde-4524-bf8f-7953c669ebbb/air-src/linRegModel/dispersionCache/40.392967,-79.855709_0-50/20190423_110000-0400_1h_10h_0/PARDUMP.h11.txt', '/projects/9ab71616-fcde-4524-bf8f-7953c669ebbb/air-src/linRegModel/dispersionCache/40.392967,-79.855709_0-50/20190423_110000-0400_1h_10h_0/PARDUMP.h11.txt', '/projects/9ab71616-fcde-4524-bf8f-7953c669ebbb/air-src/linRegModel/dispersionCache/40.392967,-79.855709_0-50/20190423_120000-0400_1h_9h_0/PARDUMP.h12.txt', '/projects/9ab71616-fcde-4524-bf8f-7953c669ebbb/air-src/linRegModel/dispersionCache/40.392967,-79.855709_0-50/20190423_120000-0400_1h_9h_0/PARDUMP.h12.txt', '/projects/9ab71616-fcde-4524-bf8f-7953c669ebbb/air-src/linRegModel/dispersionCache/40.392967,-79.855709_0-50/20190423_130000-0400_1h_8h_0/PARDUMP.h13.txt', '/projects/9ab71616-fcde-4524-bf8f-7953c669ebbb/air-src/linRegModel/dispersionCache/40.392967,-79.855709_0-50/20190423_130000-0400_1h_8h_0/PARDUMP.h13.txt', '/projects/9ab71616-fcde-4524-bf8f-7953c669ebbb/air-src/linRegModel/dispersionCache/40.392967,-79.855709_0-50/20190423_140000-0400_1h_7h_0/PARDUMP.h14.txt', '/projects/9ab71616-fcde-4524-bf8f-7953c669ebbb/air-src/linRegModel/dispersionCache/40.392967,-79.855709_0-50/20190423_140000-0400_1h_7h_0/PARDUMP.h14.txt', '/projects/9ab71616-fcde-4524-bf8f-7953c669ebbb/air-src/linRegModel/dispersionCache/40.392967,-79.855709_0-50/20190423_150000-0400_1h_6h_0/PARDUMP.h15.txt', '/projects/9ab71616-fcde-4524-bf8f-7953c669ebbb/air-src/linRegModel/dispersionCache/40.392967,-79.855709_0-50/20190423_150000-0400_1h_6h_0/PARDUMP.h15.txt', '/projects/9ab71616-fcde-4524-bf8f-7953c669ebbb/air-src/linRegModel/dispersionCache/40.392967,-79.855709_0-50/20190423_160000-0400_1h_5h_0/PARDUMP.h16.txt', '/projects/9ab71616-fcde-4524-bf8f-7953c669ebbb/air-src/linRegModel/dispersionCache/40.392967,-79.855709_0-50/20190423_160000-0400_1h_5h_0/PARDUMP.h16.txt', '/projects/9ab71616-fcde-4524-bf8f-7953c669ebbb/air-src/linRegModel/dispersionCache/40.392967,-79.855709_0-50/20190423_170000-0400_1h_4h_0/PARDUMP.h17.txt', '/projects/9ab71616-fcde-4524-bf8f-7953c669ebbb/air-src/linRegModel/dispersionCache/40.392967,-79.855709_0-50/20190423_170000-0400_1h_4h_0/PARDUMP.h17.txt', '/projects/9ab71616-fcde-4524-bf8f-7953c669ebbb/air-src/linRegModel/dispersionCache/40.392967,-79.855709_0-50/20190423_180000-0400_1h_3h_0/PARDUMP.h18.txt', '/projects/9ab71616-fcde-4524-bf8f-7953c669ebbb/air-src/linRegModel/dispersionCache/40.392967,-79.855709_0-50/20190423_180000-0400_1h_3h_0/PARDUMP.h18.txt', '/projects/9ab71616-fcde-4524-bf8f-7953c669ebbb/air-src/linRegModel/dispersionCache/40.392967,-79.855709_0-50/20190423_190000-0400_1h_2h_0/PARDUMP.h19.txt', '/projects/9ab71616-fcde-4524-bf8f-7953c669ebbb/air-src/linRegModel/dispersionCache/40.392967,-79.855709_0-50/20190423_190000-0400_1h_2h_0/PARDUMP.h19.txt', '/projects/9ab71616-fcde-4524-bf8f-7953c669ebbb/air-src/linRegModel/dispersionCache/40.392967,-79.855709_0-50/20190423_200000-0400_1h_1h_0/PARDUMP.h20.txt', '/projects/9ab71616-fcde-4524-bf8f-7953c669ebbb/air-src/linRegModel/dispersionCache/40.392967,-79.855709_0-50/20190423_200000-0400_1h_1h_0/PARDUMP.h20.txt', '/projects/9ab71616-fcde-4524-bf8f-7953c669ebbb/air-src/linRegModel/dispersionCache/40.305062,-79.876692_0-50/20190422_210000-0400_1h_24h_0/PARDUMP.h21.txt', '/projects/9ab71616-fcde-4524-bf8f-7953c669ebbb/air-src/linRegModel/dispersionCache/40.305062,-79.876692_0-50/20190422_210000-0400_1h_24h_0/PARDUMP.h21.txt', '/projects/9ab71616-fcde-4524-bf8f-7953c669ebbb/air-src/linRegModel/dispersionCache/40.305062,-79.876692_0-50/20190422_220000-0400_1h_23h_0/PARDUMP.h22.txt', '/projects/9ab71616-fcde-4524-bf8f-7953c669ebbb/air-src/linRegModel/dispersionCache/40.305062,-79.876692_0-50/20190422_220000-0400_1h_23h_0/PARDUMP.h22.txt', '/projects/9ab71616-fcde-4524-bf8f-7953c669ebbb/air-src/linRegModel/dispersionCache/40.305062,-79.876692_0-50/20190422_230000-0400_1h_22h_0/PARDUMP.h23.txt', '/projects/9ab71616-fcde-4524-bf8f-7953c669ebbb/air-src/linRegModel/dispersionCache/40.305062,-79.876692_0-50/20190422_230000-0400_1h_22h_0/PARDUMP.h23.txt', '/projects/9ab71616-fcde-4524-bf8f-7953c669ebbb/air-src/linRegModel/dispersionCache/40.305062,-79.876692_0-50/20190423_000000-0400_1h_21h_0/PARDUMP.h0.txt', '/projects/9ab71616-fcde-4524-bf8f-7953c669ebbb/air-src/linRegModel/dispersionCache/40.305062,-79.876692_0-50/20190423_000000-0400_1h_21h_0/PARDUMP.h0.txt', '/projects/9ab71616-fcde-4524-bf8f-7953c669ebbb/air-src/linRegModel/dispersionCache/40.305062,-79.876692_0-50/20190423_010000-0400_1h_20h_0/PARDUMP.h1.txt', '/projects/9ab71616-fcde-4524-bf8f-7953c669ebbb/air-src/linRegModel/dispersionCache/40.305062,-79.876692_0-50/20190423_010000-0400_1h_20h_0/PARDUMP.h1.txt', '/projects/9ab71616-fcde-4524-bf8f-7953c669ebbb/air-src/linRegModel/dispersionCache/40.305062,-79.876692_0-50/20190423_020000-0400_1h_19h_0/PARDUMP.h2.txt', '/projects/9ab71616-fcde-4524-bf8f-7953c669ebbb/air-src/linRegModel/dispersionCache/40.305062,-79.876692_0-50/20190423_020000-0400_1h_19h_0/PARDUMP.h2.txt', '/projects/9ab71616-fcde-4524-bf8f-7953c669ebbb/air-src/linRegModel/dispersionCache/40.305062,-79.876692_0-50/20190423_030000-0400_1h_18h_0/PARDUMP.h3.txt', '/projects/9ab71616-fcde-4524-bf8f-7953c669ebbb/air-src/linRegModel/dispersionCache/40.305062,-79.876692_0-50/20190423_030000-0400_1h_18h_0/PARDUMP.h3.txt', '/projects/9ab71616-fcde-4524-bf8f-7953c669ebbb/air-src/linRegModel/dispersionCache/40.305062,-79.876692_0-50/20190423_040000-0400_1h_17h_0/PARDUMP.h4.txt', '/projects/9ab71616-fcde-4524-bf8f-7953c669ebbb/air-src/linRegModel/dispersionCache/40.305062,-79.876692_0-50/20190423_040000-0400_1h_17h_0/PARDUMP.h4.txt', '/projects/9ab71616-fcde-4524-bf8f-7953c669ebbb/air-src/linRegModel/dispersionCache/40.305062,-79.876692_0-50/20190423_050000-0400_1h_16h_0/PARDUMP.h5.txt', '/projects/9ab71616-fcde-4524-bf8f-7953c669ebbb/air-src/linRegModel/dispersionCache/40.305062,-79.876692_0-50/20190423_050000-0400_1h_16h_0/PARDUMP.h5.txt', '/projects/9ab71616-fcde-4524-bf8f-7953c669ebbb/air-src/linRegModel/dispersionCache/40.305062,-79.876692_0-50/20190423_060000-0400_1h_15h_0/PARDUMP.h6.txt', '/projects/9ab71616-fcde-4524-bf8f-7953c669ebbb/air-src/linRegModel/dispersionCache/40.305062,-79.876692_0-50/20190423_060000-0400_1h_15h_0/PARDUMP.h6.txt', '/projects/9ab71616-fcde-4524-bf8f-7953c669ebbb/air-src/linRegModel/dispersionCache/40.305062,-79.876692_0-50/20190423_070000-0400_1h_14h_0/PARDUMP.h7.txt', '/projects/9ab71616-fcde-4524-bf8f-7953c669ebbb/air-src/linRegModel/dispersionCache/40.305062,-79.876692_0-50/20190423_070000-0400_1h_14h_0/PARDUMP.h7.txt', '/projects/9ab71616-fcde-4524-bf8f-7953c669ebbb/air-src/linRegModel/dispersionCache/40.305062,-79.876692_0-50/20190423_080000-0400_1h_13h_0/PARDUMP.h8.txt', '/projects/9ab71616-fcde-4524-bf8f-7953c669ebbb/air-src/linRegModel/dispersionCache/40.305062,-79.876692_0-50/20190423_080000-0400_1h_13h_0/PARDUMP.h8.txt', '/projects/9ab71616-fcde-4524-bf8f-7953c669ebbb/air-src/linRegModel/dispersionCache/40.305062,-79.876692_0-50/20190423_090000-0400_1h_12h_0/PARDUMP.h9.txt', '/projects/9ab71616-fcde-4524-bf8f-7953c669ebbb/air-src/linRegModel/dispersionCache/40.305062,-79.876692_0-50/20190423_090000-0400_1h_12h_0/PARDUMP.h9.txt', '/projects/9ab71616-fcde-4524-bf8f-7953c669ebbb/air-src/linRegModel/dispersionCache/40.305062,-79.876692_0-50/20190423_100000-0400_1h_11h_0/PARDUMP.h10.txt', '/projects/9ab71616-fcde-4524-bf8f-7953c669ebbb/air-src/linRegModel/dispersionCache/40.305062,-79.876692_0-50/20190423_100000-0400_1h_11h_0/PARDUMP.h10.txt', '/projects/9ab71616-fcde-4524-bf8f-7953c669ebbb/air-src/linRegModel/dispersionCache/40.305062,-79.876692_0-50/20190423_110000-0400_1h_10h_0/PARDUMP.h11.txt', '/projects/9ab71616-fcde-4524-bf8f-7953c669ebbb/air-src/linRegModel/dispersionCache/40.305062,-79.876692_0-50/20190423_110000-0400_1h_10h_0/PARDUMP.h11.txt', '/projects/9ab71616-fcde-4524-bf8f-7953c669ebbb/air-src/linRegModel/dispersionCache/40.305062,-79.876692_0-50/20190423_120000-0400_1h_9h_0/PARDUMP.h12.txt', '/projects/9ab71616-fcde-4524-bf8f-7953c669ebbb/air-src/linRegModel/dispersionCache/40.305062,-79.876692_0-50/20190423_120000-0400_1h_9h_0/PARDUMP.h12.txt', '/projects/9ab71616-fcde-4524-bf8f-7953c669ebbb/air-src/linRegModel/dispersionCache/40.305062,-79.876692_0-50/20190423_130000-0400_1h_8h_0/PARDUMP.h13.txt', '/projects/9ab71616-fcde-4524-bf8f-7953c669ebbb/air-src/linRegModel/dispersionCache/40.305062,-79.876692_0-50/20190423_130000-0400_1h_8h_0/PARDUMP.h13.txt', '/projects/9ab71616-fcde-4524-bf8f-7953c669ebbb/air-src/linRegModel/dispersionCache/40.305062,-79.876692_0-50/20190423_140000-0400_1h_7h_0/PARDUMP.h14.txt', '/projects/9ab71616-fcde-4524-bf8f-7953c669ebbb/air-src/linRegModel/dispersionCache/40.305062,-79.876692_0-50/20190423_140000-0400_1h_7h_0/PARDUMP.h14.txt', '/projects/9ab71616-fcde-4524-bf8f-7953c669ebbb/air-src/linRegModel/dispersionCache/40.305062,-79.876692_0-50/20190423_150000-0400_1h_6h_0/PARDUMP.h15.txt', '/projects/9ab71616-fcde-4524-bf8f-7953c669ebbb/air-src/linRegModel/dispersionCache/40.305062,-79.876692_0-50/20190423_150000-0400_1h_6h_0/PARDUMP.h15.txt', '/projects/9ab71616-fcde-4524-bf8f-7953c669ebbb/air-src/linRegModel/dispersionCache/40.305062,-79.876692_0-50/20190423_160000-0400_1h_5h_0/PARDUMP.h16.txt', '/projects/9ab71616-fcde-4524-bf8f-7953c669ebbb/air-src/linRegModel/dispersionCache/40.305062,-79.876692_0-50/20190423_160000-0400_1h_5h_0/PARDUMP.h16.txt', '/projects/9ab71616-fcde-4524-bf8f-7953c669ebbb/air-src/linRegModel/dispersionCache/40.305062,-79.876692_0-50/20190423_170000-0400_1h_4h_0/PARDUMP.h17.txt', '/projects/9ab71616-fcde-4524-bf8f-7953c669ebbb/air-src/linRegModel/dispersionCache/40.305062,-79.876692_0-50/20190423_170000-0400_1h_4h_0/PARDUMP.h17.txt', '/projects/9ab71616-fcde-4524-bf8f-7953c669ebbb/air-src/linRegModel/dispersionCache/40.305062,-79.876692_0-50/20190423_180000-0400_1h_3h_0/PARDUMP.h18.txt', '/projects/9ab71616-fcde-4524-bf8f-7953c669ebbb/air-src/linRegModel/dispersionCache/40.305062,-79.876692_0-50/20190423_180000-0400_1h_3h_0/PARDUMP.h18.txt', '/projects/9ab71616-fcde-4524-bf8f-7953c669ebbb/air-src/linRegModel/dispersionCache/40.305062,-79.876692_0-50/20190423_190000-0400_1h_2h_0/PARDUMP.h19.txt', '/projects/9ab71616-fcde-4524-bf8f-7953c669ebbb/air-src/linRegModel/dispersionCache/40.305062,-79.876692_0-50/20190423_190000-0400_1h_2h_0/PARDUMP.h19.txt', '/projects/9ab71616-fcde-4524-bf8f-7953c669ebbb/air-src/linRegModel/dispersionCache/40.305062,-79.876692_0-50/20190423_200000-0400_1h_1h_0/PARDUMP.h20.txt', '/projects/9ab71616-fcde-4524-bf8f-7953c669ebbb/air-src/linRegModel/dispersionCache/40.305062,-79.876692_0-50/20190423_200000-0400_1h_1h_0/PARDUMP.h20.txt', '/projects/9ab71616-fcde-4524-bf8f-7953c669ebbb/air-src/linRegModel/dispersionCache/40.538261,-79.790391_0-50/20190422_210000-0400_1h_24h_0/PARDUMP.h21.txt', '/projects/9ab71616-fcde-4524-bf8f-7953c669ebbb/air-src/linRegModel/dispersionCache/40.538261,-79.790391_0-50/20190422_210000-0400_1h_24h_0/PARDUMP.h21.txt', '/projects/9ab71616-fcde-4524-bf8f-7953c669ebbb/air-src/linRegModel/dispersionCache/40.538261,-79.790391_0-50/20190422_220000-0400_1h_23h_0/PARDUMP.h22.txt', '/projects/9ab71616-fcde-4524-bf8f-7953c669ebbb/air-src/linRegModel/dispersionCache/40.538261,-79.790391_0-50/20190422_220000-0400_1h_23h_0/PARDUMP.h22.txt', '/projects/9ab71616-fcde-4524-bf8f-7953c669ebbb/air-src/linRegModel/dispersionCache/40.538261,-79.790391_0-50/20190422_230000-0400_1h_22h_0/PARDUMP.h23.txt', '/projects/9ab71616-fcde-4524-bf8f-7953c669ebbb/air-src/linRegModel/dispersionCache/40.538261,-79.790391_0-50/20190422_230000-0400_1h_22h_0/PARDUMP.h23.txt', '/projects/9ab71616-fcde-4524-bf8f-7953c669ebbb/air-src/linRegModel/dispersionCache/40.538261,-79.790391_0-50/20190423_000000-0400_1h_21h_0/PARDUMP.h0.txt', '/projects/9ab71616-fcde-4524-bf8f-7953c669ebbb/air-src/linRegModel/dispersionCache/40.538261,-79.790391_0-50/20190423_000000-0400_1h_21h_0/PARDUMP.h0.txt', '/projects/9ab71616-fcde-4524-bf8f-7953c669ebbb/air-src/linRegModel/dispersionCache/40.538261,-79.790391_0-50/20190423_010000-0400_1h_20h_0/PARDUMP.h1.txt', '/projects/9ab71616-fcde-4524-bf8f-7953c669ebbb/air-src/linRegModel/dispersionCache/40.538261,-79.790391_0-50/20190423_010000-0400_1h_20h_0/PARDUMP.h1.txt', '/projects/9ab71616-fcde-4524-bf8f-7953c669ebbb/air-src/linRegModel/dispersionCache/40.538261,-79.790391_0-50/20190423_020000-0400_1h_19h_0/PARDUMP.h2.txt', '/projects/9ab71616-fcde-4524-bf8f-7953c669ebbb/air-src/linRegModel/dispersionCache/40.538261,-79.790391_0-50/20190423_020000-0400_1h_19h_0/PARDUMP.h2.txt', '/projects/9ab71616-fcde-4524-bf8f-7953c669ebbb/air-src/linRegModel/dispersionCache/40.538261,-79.790391_0-50/20190423_030000-0400_1h_18h_0/PARDUMP.h3.txt', '/projects/9ab71616-fcde-4524-bf8f-7953c669ebbb/air-src/linRegModel/dispersionCache/40.538261,-79.790391_0-50/20190423_030000-0400_1h_18h_0/PARDUMP.h3.txt', '/projects/9ab71616-fcde-4524-bf8f-7953c669ebbb/air-src/linRegModel/dispersionCache/40.538261,-79.790391_0-50/20190423_040000-0400_1h_17h_0/PARDUMP.h4.txt', '/projects/9ab71616-fcde-4524-bf8f-7953c669ebbb/air-src/linRegModel/dispersionCache/40.538261,-79.790391_0-50/20190423_040000-0400_1h_17h_0/PARDUMP.h4.txt', '/projects/9ab71616-fcde-4524-bf8f-7953c669ebbb/air-src/linRegModel/dispersionCache/40.538261,-79.790391_0-50/20190423_050000-0400_1h_16h_0/PARDUMP.h5.txt', '/projects/9ab71616-fcde-4524-bf8f-7953c669ebbb/air-src/linRegModel/dispersionCache/40.538261,-79.790391_0-50/20190423_050000-0400_1h_16h_0/PARDUMP.h5.txt', '/projects/9ab71616-fcde-4524-bf8f-7953c669ebbb/air-src/linRegModel/dispersionCache/40.538261,-79.790391_0-50/20190423_060000-0400_1h_15h_0/PARDUMP.h6.txt', '/projects/9ab71616-fcde-4524-bf8f-7953c669ebbb/air-src/linRegModel/dispersionCache/40.538261,-79.790391_0-50/20190423_060000-0400_1h_15h_0/PARDUMP.h6.txt', '/projects/9ab71616-fcde-4524-bf8f-7953c669ebbb/air-src/linRegModel/dispersionCache/40.538261,-79.790391_0-50/20190423_070000-0400_1h_14h_0/PARDUMP.h7.txt', '/projects/9ab71616-fcde-4524-bf8f-7953c669ebbb/air-src/linRegModel/dispersionCache/40.538261,-79.790391_0-50/20190423_070000-0400_1h_14h_0/PARDUMP.h7.txt', '/projects/9ab71616-fcde-4524-bf8f-7953c669ebbb/air-src/linRegModel/dispersionCache/40.538261,-79.790391_0-50/20190423_080000-0400_1h_13h_0/PARDUMP.h8.txt', '/projects/9ab71616-fcde-4524-bf8f-7953c669ebbb/air-src/linRegModel/dispersionCache/40.538261,-79.790391_0-50/20190423_080000-0400_1h_13h_0/PARDUMP.h8.txt', '/projects/9ab71616-fcde-4524-bf8f-7953c669ebbb/air-src/linRegModel/dispersionCache/40.538261,-79.790391_0-50/20190423_090000-0400_1h_12h_0/PARDUMP.h9.txt', '/projects/9ab71616-fcde-4524-bf8f-7953c669ebbb/air-src/linRegModel/dispersionCache/40.538261,-79.790391_0-50/20190423_090000-0400_1h_12h_0/PARDUMP.h9.txt', '/projects/9ab71616-fcde-4524-bf8f-7953c669ebbb/air-src/linRegModel/dispersionCache/40.538261,-79.790391_0-50/20190423_100000-0400_1h_11h_0/PARDUMP.h10.txt', '/projects/9ab71616-fcde-4524-bf8f-7953c669ebbb/air-src/linRegModel/dispersionCache/40.538261,-79.790391_0-50/20190423_100000-0400_1h_11h_0/PARDUMP.h10.txt', '/projects/9ab71616-fcde-4524-bf8f-7953c669ebbb/air-src/linRegModel/dispersionCache/40.538261,-79.790391_0-50/20190423_110000-0400_1h_10h_0/PARDUMP.h11.txt', '/projects/9ab71616-fcde-4524-bf8f-7953c669ebbb/air-src/linRegModel/dispersionCache/40.538261,-79.790391_0-50/20190423_110000-0400_1h_10h_0/PARDUMP.h11.txt', '/projects/9ab71616-fcde-4524-bf8f-7953c669ebbb/air-src/linRegModel/dispersionCache/40.538261,-79.790391_0-50/20190423_120000-0400_1h_9h_0/PARDUMP.h12.txt', '/projects/9ab71616-fcde-4524-bf8f-7953c669ebbb/air-src/linRegModel/dispersionCache/40.538261,-79.790391_0-50/20190423_120000-0400_1h_9h_0/PARDUMP.h12.txt', '/projects/9ab71616-fcde-4524-bf8f-7953c669ebbb/air-src/linRegModel/dispersionCache/40.538261,-79.790391_0-50/20190423_130000-0400_1h_8h_0/PARDUMP.h13.txt', '/projects/9ab71616-fcde-4524-bf8f-7953c669ebbb/air-src/linRegModel/dispersionCache/40.538261,-79.790391_0-50/20190423_130000-0400_1h_8h_0/PARDUMP.h13.txt', '/projects/9ab71616-fcde-4524-bf8f-7953c669ebbb/air-src/linRegModel/dispersionCache/40.538261,-79.790391_0-50/20190423_140000-0400_1h_7h_0/PARDUMP.h14.txt', '/projects/9ab71616-fcde-4524-bf8f-7953c669ebbb/air-src/linRegModel/dispersionCache/40.538261,-79.790391_0-50/20190423_140000-0400_1h_7h_0/PARDUMP.h14.txt', '/projects/9ab71616-fcde-4524-bf8f-7953c669ebbb/air-src/linRegModel/dispersionCache/40.538261,-79.790391_0-50/20190423_150000-0400_1h_6h_0/PARDUMP.h15.txt', '/projects/9ab71616-fcde-4524-bf8f-7953c669ebbb/air-src/linRegModel/dispersionCache/40.538261,-79.790391_0-50/20190423_150000-0400_1h_6h_0/PARDUMP.h15.txt', '/projects/9ab71616-fcde-4524-bf8f-7953c669ebbb/air-src/linRegModel/dispersionCache/40.538261,-79.790391_0-50/20190423_160000-0400_1h_5h_0/PARDUMP.h16.txt', '/projects/9ab71616-fcde-4524-bf8f-7953c669ebbb/air-src/linRegModel/dispersionCache/40.538261,-79.790391_0-50/20190423_160000-0400_1h_5h_0/PARDUMP.h16.txt', '/projects/9ab71616-fcde-4524-bf8f-7953c669ebbb/air-src/linRegModel/dispersionCache/40.538261,-79.790391_0-50/20190423_170000-0400_1h_4h_0/PARDUMP.h17.txt', '/projects/9ab71616-fcde-4524-bf8f-7953c669ebbb/air-src/linRegModel/dispersionCache/40.538261,-79.790391_0-50/20190423_170000-0400_1h_4h_0/PARDUMP.h17.txt', '/projects/9ab71616-fcde-4524-bf8f-7953c669ebbb/air-src/linRegModel/dispersionCache/40.538261,-79.790391_0-50/20190423_180000-0400_1h_3h_0/PARDUMP.h18.txt', '/projects/9ab71616-fcde-4524-bf8f-7953c669ebbb/air-src/linRegModel/dispersionCache/40.538261,-79.790391_0-50/20190423_180000-0400_1h_3h_0/PARDUMP.h18.txt', '/projects/9ab71616-fcde-4524-bf8f-7953c669ebbb/air-src/linRegModel/dispersionCache/40.538261,-79.790391_0-50/20190423_190000-0400_1h_2h_0/PARDUMP.h19.txt', '/projects/9ab71616-fcde-4524-bf8f-7953c669ebbb/air-src/linRegModel/dispersionCache/40.538261,-79.790391_0-50/20190423_190000-0400_1h_2h_0/PARDUMP.h19.txt', '/projects/9ab71616-fcde-4524-bf8f-7953c669ebbb/air-src/linRegModel/dispersionCache/40.538261,-79.790391_0-50/20190423_200000-0400_1h_1h_0/PARDUMP.h20.txt', '/projects/9ab71616-fcde-4524-bf8f-7953c669ebbb/air-src/linRegModel/dispersionCache/40.538261,-79.790391_0-50/20190423_200000-0400_1h_1h_0/PARDUMP.h20.txt']\n",
      "Creating /projects/cocalc-www.createlab.org/pardumps/plume_20190423.bin\n",
      "/projects/9ab71616-fcde-4524-bf8f-7953c669ebbb/air-src/linRegModel/dispersionCache/40.328015,-79.903551_0-50/20190422_210000-0400_1h_24h_0/PARDUMP.h21.txt\n"
     ]
    },
    {
     "name": "stdout",
     "output_type": "stream",
     "text": [
      "/projects/9ab71616-fcde-4524-bf8f-7953c669ebbb/air-src/linRegModel/dispersionCache/40.328015,-79.903551_0-50/20190422_210000-0400_1h_24h_0/PARDUMP.h21.txt\n"
     ]
    },
    {
     "name": "stdout",
     "output_type": "stream",
     "text": [
      "/projects/9ab71616-fcde-4524-bf8f-7953c669ebbb/air-src/linRegModel/dispersionCache/40.328015,-79.903551_0-50/20190422_220000-0400_1h_23h_0/PARDUMP.h22.txt\n"
     ]
    },
    {
     "name": "stdout",
     "output_type": "stream",
     "text": [
      "/projects/9ab71616-fcde-4524-bf8f-7953c669ebbb/air-src/linRegModel/dispersionCache/40.328015,-79.903551_0-50/20190422_220000-0400_1h_23h_0/PARDUMP.h22.txt\n"
     ]
    },
    {
     "name": "stdout",
     "output_type": "stream",
     "text": [
      "/projects/9ab71616-fcde-4524-bf8f-7953c669ebbb/air-src/linRegModel/dispersionCache/40.328015,-79.903551_0-50/20190422_230000-0400_1h_22h_0/PARDUMP.h23.txt\n"
     ]
    },
    {
     "name": "stdout",
     "output_type": "stream",
     "text": [
      "/projects/9ab71616-fcde-4524-bf8f-7953c669ebbb/air-src/linRegModel/dispersionCache/40.328015,-79.903551_0-50/20190422_230000-0400_1h_22h_0/PARDUMP.h23.txt\n"
     ]
    },
    {
     "name": "stdout",
     "output_type": "stream",
     "text": [
      "/projects/9ab71616-fcde-4524-bf8f-7953c669ebbb/air-src/linRegModel/dispersionCache/40.328015,-79.903551_0-50/20190423_000000-0400_1h_21h_0/PARDUMP.h0.txt\n"
     ]
    },
    {
     "name": "stdout",
     "output_type": "stream",
     "text": [
      "/projects/9ab71616-fcde-4524-bf8f-7953c669ebbb/air-src/linRegModel/dispersionCache/40.328015,-79.903551_0-50/20190423_000000-0400_1h_21h_0/PARDUMP.h0.txt\n"
     ]
    },
    {
     "name": "stdout",
     "output_type": "stream",
     "text": [
      "/projects/9ab71616-fcde-4524-bf8f-7953c669ebbb/air-src/linRegModel/dispersionCache/40.328015,-79.903551_0-50/20190423_010000-0400_1h_20h_0/PARDUMP.h1.txt\n"
     ]
    },
    {
     "name": "stdout",
     "output_type": "stream",
     "text": [
      "/projects/9ab71616-fcde-4524-bf8f-7953c669ebbb/air-src/linRegModel/dispersionCache/40.328015,-79.903551_0-50/20190423_010000-0400_1h_20h_0/PARDUMP.h1.txt\n"
     ]
    },
    {
     "name": "stdout",
     "output_type": "stream",
     "text": [
      "/projects/9ab71616-fcde-4524-bf8f-7953c669ebbb/air-src/linRegModel/dispersionCache/40.328015,-79.903551_0-50/20190423_020000-0400_1h_19h_0/PARDUMP.h2.txt\n"
     ]
    },
    {
     "name": "stdout",
     "output_type": "stream",
     "text": [
      "/projects/9ab71616-fcde-4524-bf8f-7953c669ebbb/air-src/linRegModel/dispersionCache/40.328015,-79.903551_0-50/20190423_020000-0400_1h_19h_0/PARDUMP.h2.txt\n"
     ]
    },
    {
     "name": "stdout",
     "output_type": "stream",
     "text": [
      "/projects/9ab71616-fcde-4524-bf8f-7953c669ebbb/air-src/linRegModel/dispersionCache/40.328015,-79.903551_0-50/20190423_030000-0400_1h_18h_0/PARDUMP.h3.txt\n"
     ]
    },
    {
     "name": "stdout",
     "output_type": "stream",
     "text": [
      "/projects/9ab71616-fcde-4524-bf8f-7953c669ebbb/air-src/linRegModel/dispersionCache/40.328015,-79.903551_0-50/20190423_030000-0400_1h_18h_0/PARDUMP.h3.txt\n"
     ]
    },
    {
     "name": "stdout",
     "output_type": "stream",
     "text": [
      "/projects/9ab71616-fcde-4524-bf8f-7953c669ebbb/air-src/linRegModel/dispersionCache/40.328015,-79.903551_0-50/20190423_040000-0400_1h_17h_0/PARDUMP.h4.txt\n"
     ]
    },
    {
     "name": "stdout",
     "output_type": "stream",
     "text": [
      "/projects/9ab71616-fcde-4524-bf8f-7953c669ebbb/air-src/linRegModel/dispersionCache/40.328015,-79.903551_0-50/20190423_040000-0400_1h_17h_0/PARDUMP.h4.txt\n"
     ]
    },
    {
     "name": "stdout",
     "output_type": "stream",
     "text": [
      "/projects/9ab71616-fcde-4524-bf8f-7953c669ebbb/air-src/linRegModel/dispersionCache/40.328015,-79.903551_0-50/20190423_050000-0400_1h_16h_0/PARDUMP.h5.txt\n"
     ]
    },
    {
     "name": "stdout",
     "output_type": "stream",
     "text": [
      "/projects/9ab71616-fcde-4524-bf8f-7953c669ebbb/air-src/linRegModel/dispersionCache/40.328015,-79.903551_0-50/20190423_050000-0400_1h_16h_0/PARDUMP.h5.txt\n"
     ]
    },
    {
     "name": "stdout",
     "output_type": "stream",
     "text": [
      "/projects/9ab71616-fcde-4524-bf8f-7953c669ebbb/air-src/linRegModel/dispersionCache/40.328015,-79.903551_0-50/20190423_060000-0400_1h_15h_0/PARDUMP.h6.txt\n"
     ]
    },
    {
     "name": "stdout",
     "output_type": "stream",
     "text": [
      "/projects/9ab71616-fcde-4524-bf8f-7953c669ebbb/air-src/linRegModel/dispersionCache/40.328015,-79.903551_0-50/20190423_060000-0400_1h_15h_0/PARDUMP.h6.txt\n"
     ]
    },
    {
     "name": "stdout",
     "output_type": "stream",
     "text": [
      "/projects/9ab71616-fcde-4524-bf8f-7953c669ebbb/air-src/linRegModel/dispersionCache/40.328015,-79.903551_0-50/20190423_070000-0400_1h_14h_0/PARDUMP.h7.txt\n"
     ]
    },
    {
     "name": "stdout",
     "output_type": "stream",
     "text": [
      "/projects/9ab71616-fcde-4524-bf8f-7953c669ebbb/air-src/linRegModel/dispersionCache/40.328015,-79.903551_0-50/20190423_070000-0400_1h_14h_0/PARDUMP.h7.txt\n"
     ]
    },
    {
     "name": "stdout",
     "output_type": "stream",
     "text": [
      "/projects/9ab71616-fcde-4524-bf8f-7953c669ebbb/air-src/linRegModel/dispersionCache/40.328015,-79.903551_0-50/20190423_080000-0400_1h_13h_0/PARDUMP.h8.txt\n"
     ]
    },
    {
     "name": "stdout",
     "output_type": "stream",
     "text": [
      "/projects/9ab71616-fcde-4524-bf8f-7953c669ebbb/air-src/linRegModel/dispersionCache/40.328015,-79.903551_0-50/20190423_080000-0400_1h_13h_0/PARDUMP.h8.txt\n"
     ]
    },
    {
     "name": "stdout",
     "output_type": "stream",
     "text": [
      "/projects/9ab71616-fcde-4524-bf8f-7953c669ebbb/air-src/linRegModel/dispersionCache/40.328015,-79.903551_0-50/20190423_090000-0400_1h_12h_0/PARDUMP.h9.txt\n"
     ]
    },
    {
     "name": "stdout",
     "output_type": "stream",
     "text": [
      "/projects/9ab71616-fcde-4524-bf8f-7953c669ebbb/air-src/linRegModel/dispersionCache/40.328015,-79.903551_0-50/20190423_090000-0400_1h_12h_0/PARDUMP.h9.txt\n"
     ]
    },
    {
     "name": "stdout",
     "output_type": "stream",
     "text": [
      "/projects/9ab71616-fcde-4524-bf8f-7953c669ebbb/air-src/linRegModel/dispersionCache/40.328015,-79.903551_0-50/20190423_100000-0400_1h_11h_0/PARDUMP.h10.txt\n"
     ]
    },
    {
     "name": "stdout",
     "output_type": "stream",
     "text": [
      "/projects/9ab71616-fcde-4524-bf8f-7953c669ebbb/air-src/linRegModel/dispersionCache/40.328015,-79.903551_0-50/20190423_100000-0400_1h_11h_0/PARDUMP.h10.txt\n"
     ]
    },
    {
     "name": "stdout",
     "output_type": "stream",
     "text": [
      "/projects/9ab71616-fcde-4524-bf8f-7953c669ebbb/air-src/linRegModel/dispersionCache/40.328015,-79.903551_0-50/20190423_110000-0400_1h_10h_0/PARDUMP.h11.txt\n"
     ]
    },
    {
     "name": "stdout",
     "output_type": "stream",
     "text": [
      "/projects/9ab71616-fcde-4524-bf8f-7953c669ebbb/air-src/linRegModel/dispersionCache/40.328015,-79.903551_0-50/20190423_110000-0400_1h_10h_0/PARDUMP.h11.txt\n"
     ]
    },
    {
     "name": "stdout",
     "output_type": "stream",
     "text": [
      "/projects/9ab71616-fcde-4524-bf8f-7953c669ebbb/air-src/linRegModel/dispersionCache/40.328015,-79.903551_0-50/20190423_120000-0400_1h_9h_0/PARDUMP.h12.txt\n"
     ]
    },
    {
     "name": "stdout",
     "output_type": "stream",
     "text": [
      "/projects/9ab71616-fcde-4524-bf8f-7953c669ebbb/air-src/linRegModel/dispersionCache/40.328015,-79.903551_0-50/20190423_120000-0400_1h_9h_0/PARDUMP.h12.txt\n"
     ]
    },
    {
     "name": "stdout",
     "output_type": "stream",
     "text": [
      "/projects/9ab71616-fcde-4524-bf8f-7953c669ebbb/air-src/linRegModel/dispersionCache/40.328015,-79.903551_0-50/20190423_130000-0400_1h_8h_0/PARDUMP.h13.txt\n"
     ]
    },
    {
     "name": "stdout",
     "output_type": "stream",
     "text": [
      "/projects/9ab71616-fcde-4524-bf8f-7953c669ebbb/air-src/linRegModel/dispersionCache/40.328015,-79.903551_0-50/20190423_130000-0400_1h_8h_0/PARDUMP.h13.txt\n"
     ]
    },
    {
     "name": "stdout",
     "output_type": "stream",
     "text": [
      "/projects/9ab71616-fcde-4524-bf8f-7953c669ebbb/air-src/linRegModel/dispersionCache/40.328015,-79.903551_0-50/20190423_140000-0400_1h_7h_0/PARDUMP.h14.txt\n"
     ]
    },
    {
     "name": "stdout",
     "output_type": "stream",
     "text": [
      "/projects/9ab71616-fcde-4524-bf8f-7953c669ebbb/air-src/linRegModel/dispersionCache/40.328015,-79.903551_0-50/20190423_140000-0400_1h_7h_0/PARDUMP.h14.txt\n"
     ]
    },
    {
     "name": "stdout",
     "output_type": "stream",
     "text": [
      "/projects/9ab71616-fcde-4524-bf8f-7953c669ebbb/air-src/linRegModel/dispersionCache/40.328015,-79.903551_0-50/20190423_150000-0400_1h_6h_0/PARDUMP.h15.txt\n"
     ]
    },
    {
     "name": "stdout",
     "output_type": "stream",
     "text": [
      "/projects/9ab71616-fcde-4524-bf8f-7953c669ebbb/air-src/linRegModel/dispersionCache/40.328015,-79.903551_0-50/20190423_150000-0400_1h_6h_0/PARDUMP.h15.txt\n"
     ]
    },
    {
     "name": "stdout",
     "output_type": "stream",
     "text": [
      "/projects/9ab71616-fcde-4524-bf8f-7953c669ebbb/air-src/linRegModel/dispersionCache/40.328015,-79.903551_0-50/20190423_160000-0400_1h_5h_0/PARDUMP.h16.txt\n"
     ]
    },
    {
     "name": "stdout",
     "output_type": "stream",
     "text": [
      "/projects/9ab71616-fcde-4524-bf8f-7953c669ebbb/air-src/linRegModel/dispersionCache/40.328015,-79.903551_0-50/20190423_160000-0400_1h_5h_0/PARDUMP.h16.txt\n"
     ]
    },
    {
     "name": "stdout",
     "output_type": "stream",
     "text": [
      "/projects/9ab71616-fcde-4524-bf8f-7953c669ebbb/air-src/linRegModel/dispersionCache/40.328015,-79.903551_0-50/20190423_170000-0400_1h_4h_0/PARDUMP.h17.txt\n"
     ]
    },
    {
     "name": "stdout",
     "output_type": "stream",
     "text": [
      "/projects/9ab71616-fcde-4524-bf8f-7953c669ebbb/air-src/linRegModel/dispersionCache/40.328015,-79.903551_0-50/20190423_170000-0400_1h_4h_0/PARDUMP.h17.txt\n"
     ]
    },
    {
     "name": "stdout",
     "output_type": "stream",
     "text": [
      "/projects/9ab71616-fcde-4524-bf8f-7953c669ebbb/air-src/linRegModel/dispersionCache/40.328015,-79.903551_0-50/20190423_180000-0400_1h_3h_0/PARDUMP.h18.txt\n"
     ]
    },
    {
     "name": "stdout",
     "output_type": "stream",
     "text": [
      "/projects/9ab71616-fcde-4524-bf8f-7953c669ebbb/air-src/linRegModel/dispersionCache/40.328015,-79.903551_0-50/20190423_180000-0400_1h_3h_0/PARDUMP.h18.txt\n"
     ]
    },
    {
     "name": "stdout",
     "output_type": "stream",
     "text": [
      "/projects/9ab71616-fcde-4524-bf8f-7953c669ebbb/air-src/linRegModel/dispersionCache/40.328015,-79.903551_0-50/20190423_190000-0400_1h_2h_0/PARDUMP.h19.txt\n"
     ]
    },
    {
     "name": "stdout",
     "output_type": "stream",
     "text": [
      "/projects/9ab71616-fcde-4524-bf8f-7953c669ebbb/air-src/linRegModel/dispersionCache/40.328015,-79.903551_0-50/20190423_190000-0400_1h_2h_0/PARDUMP.h19.txt\n"
     ]
    },
    {
     "name": "stdout",
     "output_type": "stream",
     "text": [
      "/projects/9ab71616-fcde-4524-bf8f-7953c669ebbb/air-src/linRegModel/dispersionCache/40.328015,-79.903551_0-50/20190423_200000-0400_1h_1h_0/PARDUMP.h20.txt\n"
     ]
    },
    {
     "name": "stdout",
     "output_type": "stream",
     "text": [
      "/projects/9ab71616-fcde-4524-bf8f-7953c669ebbb/air-src/linRegModel/dispersionCache/40.328015,-79.903551_0-50/20190423_200000-0400_1h_1h_0/PARDUMP.h20.txt\n"
     ]
    },
    {
     "name": "stdout",
     "output_type": "stream",
     "text": [
      "/projects/9ab71616-fcde-4524-bf8f-7953c669ebbb/air-src/linRegModel/dispersionCache/40.392967,-79.855709_0-50/20190422_210000-0400_1h_24h_0/PARDUMP.h21.txt\n"
     ]
    },
    {
     "name": "stdout",
     "output_type": "stream",
     "text": [
      "/projects/9ab71616-fcde-4524-bf8f-7953c669ebbb/air-src/linRegModel/dispersionCache/40.392967,-79.855709_0-50/20190422_210000-0400_1h_24h_0/PARDUMP.h21.txt\n"
     ]
    },
    {
     "name": "stdout",
     "output_type": "stream",
     "text": [
      "/projects/9ab71616-fcde-4524-bf8f-7953c669ebbb/air-src/linRegModel/dispersionCache/40.392967,-79.855709_0-50/20190422_220000-0400_1h_23h_0/PARDUMP.h22.txt\n"
     ]
    },
    {
     "name": "stdout",
     "output_type": "stream",
     "text": [
      "/projects/9ab71616-fcde-4524-bf8f-7953c669ebbb/air-src/linRegModel/dispersionCache/40.392967,-79.855709_0-50/20190422_220000-0400_1h_23h_0/PARDUMP.h22.txt\n"
     ]
    },
    {
     "name": "stdout",
     "output_type": "stream",
     "text": [
      "/projects/9ab71616-fcde-4524-bf8f-7953c669ebbb/air-src/linRegModel/dispersionCache/40.392967,-79.855709_0-50/20190422_230000-0400_1h_22h_0/PARDUMP.h23.txt\n"
     ]
    },
    {
     "name": "stdout",
     "output_type": "stream",
     "text": [
      "/projects/9ab71616-fcde-4524-bf8f-7953c669ebbb/air-src/linRegModel/dispersionCache/40.392967,-79.855709_0-50/20190422_230000-0400_1h_22h_0/PARDUMP.h23.txt\n"
     ]
    },
    {
     "name": "stdout",
     "output_type": "stream",
     "text": [
      "/projects/9ab71616-fcde-4524-bf8f-7953c669ebbb/air-src/linRegModel/dispersionCache/40.392967,-79.855709_0-50/20190423_000000-0400_1h_21h_0/PARDUMP.h0.txt\n"
     ]
    },
    {
     "name": "stdout",
     "output_type": "stream",
     "text": [
      "/projects/9ab71616-fcde-4524-bf8f-7953c669ebbb/air-src/linRegModel/dispersionCache/40.392967,-79.855709_0-50/20190423_000000-0400_1h_21h_0/PARDUMP.h0.txt\n"
     ]
    },
    {
     "name": "stdout",
     "output_type": "stream",
     "text": [
      "/projects/9ab71616-fcde-4524-bf8f-7953c669ebbb/air-src/linRegModel/dispersionCache/40.392967,-79.855709_0-50/20190423_010000-0400_1h_20h_0/PARDUMP.h1.txt\n"
     ]
    },
    {
     "name": "stdout",
     "output_type": "stream",
     "text": [
      "/projects/9ab71616-fcde-4524-bf8f-7953c669ebbb/air-src/linRegModel/dispersionCache/40.392967,-79.855709_0-50/20190423_010000-0400_1h_20h_0/PARDUMP.h1.txt\n"
     ]
    },
    {
     "name": "stdout",
     "output_type": "stream",
     "text": [
      "/projects/9ab71616-fcde-4524-bf8f-7953c669ebbb/air-src/linRegModel/dispersionCache/40.392967,-79.855709_0-50/20190423_020000-0400_1h_19h_0/PARDUMP.h2.txt\n"
     ]
    },
    {
     "name": "stdout",
     "output_type": "stream",
     "text": [
      "/projects/9ab71616-fcde-4524-bf8f-7953c669ebbb/air-src/linRegModel/dispersionCache/40.392967,-79.855709_0-50/20190423_020000-0400_1h_19h_0/PARDUMP.h2.txt\n"
     ]
    },
    {
     "name": "stdout",
     "output_type": "stream",
     "text": [
      "/projects/9ab71616-fcde-4524-bf8f-7953c669ebbb/air-src/linRegModel/dispersionCache/40.392967,-79.855709_0-50/20190423_030000-0400_1h_18h_0/PARDUMP.h3.txt\n"
     ]
    },
    {
     "name": "stdout",
     "output_type": "stream",
     "text": [
      "/projects/9ab71616-fcde-4524-bf8f-7953c669ebbb/air-src/linRegModel/dispersionCache/40.392967,-79.855709_0-50/20190423_030000-0400_1h_18h_0/PARDUMP.h3.txt\n"
     ]
    },
    {
     "name": "stdout",
     "output_type": "stream",
     "text": [
      "/projects/9ab71616-fcde-4524-bf8f-7953c669ebbb/air-src/linRegModel/dispersionCache/40.392967,-79.855709_0-50/20190423_040000-0400_1h_17h_0/PARDUMP.h4.txt\n"
     ]
    },
    {
     "name": "stdout",
     "output_type": "stream",
     "text": [
      "/projects/9ab71616-fcde-4524-bf8f-7953c669ebbb/air-src/linRegModel/dispersionCache/40.392967,-79.855709_0-50/20190423_040000-0400_1h_17h_0/PARDUMP.h4.txt\n"
     ]
    },
    {
     "name": "stdout",
     "output_type": "stream",
     "text": [
      "/projects/9ab71616-fcde-4524-bf8f-7953c669ebbb/air-src/linRegModel/dispersionCache/40.392967,-79.855709_0-50/20190423_050000-0400_1h_16h_0/PARDUMP.h5.txt\n"
     ]
    },
    {
     "name": "stdout",
     "output_type": "stream",
     "text": [
      "/projects/9ab71616-fcde-4524-bf8f-7953c669ebbb/air-src/linRegModel/dispersionCache/40.392967,-79.855709_0-50/20190423_050000-0400_1h_16h_0/PARDUMP.h5.txt\n"
     ]
    },
    {
     "name": "stdout",
     "output_type": "stream",
     "text": [
      "/projects/9ab71616-fcde-4524-bf8f-7953c669ebbb/air-src/linRegModel/dispersionCache/40.392967,-79.855709_0-50/20190423_060000-0400_1h_15h_0/PARDUMP.h6.txt\n"
     ]
    },
    {
     "name": "stdout",
     "output_type": "stream",
     "text": [
      "/projects/9ab71616-fcde-4524-bf8f-7953c669ebbb/air-src/linRegModel/dispersionCache/40.392967,-79.855709_0-50/20190423_060000-0400_1h_15h_0/PARDUMP.h6.txt\n"
     ]
    },
    {
     "name": "stdout",
     "output_type": "stream",
     "text": [
      "/projects/9ab71616-fcde-4524-bf8f-7953c669ebbb/air-src/linRegModel/dispersionCache/40.392967,-79.855709_0-50/20190423_070000-0400_1h_14h_0/PARDUMP.h7.txt\n"
     ]
    },
    {
     "name": "stdout",
     "output_type": "stream",
     "text": [
      "/projects/9ab71616-fcde-4524-bf8f-7953c669ebbb/air-src/linRegModel/dispersionCache/40.392967,-79.855709_0-50/20190423_070000-0400_1h_14h_0/PARDUMP.h7.txt\n"
     ]
    },
    {
     "name": "stdout",
     "output_type": "stream",
     "text": [
      "/projects/9ab71616-fcde-4524-bf8f-7953c669ebbb/air-src/linRegModel/dispersionCache/40.392967,-79.855709_0-50/20190423_080000-0400_1h_13h_0/PARDUMP.h8.txt\n"
     ]
    },
    {
     "name": "stdout",
     "output_type": "stream",
     "text": [
      "/projects/9ab71616-fcde-4524-bf8f-7953c669ebbb/air-src/linRegModel/dispersionCache/40.392967,-79.855709_0-50/20190423_080000-0400_1h_13h_0/PARDUMP.h8.txt\n"
     ]
    },
    {
     "name": "stdout",
     "output_type": "stream",
     "text": [
      "/projects/9ab71616-fcde-4524-bf8f-7953c669ebbb/air-src/linRegModel/dispersionCache/40.392967,-79.855709_0-50/20190423_090000-0400_1h_12h_0/PARDUMP.h9.txt\n"
     ]
    },
    {
     "name": "stdout",
     "output_type": "stream",
     "text": [
      "/projects/9ab71616-fcde-4524-bf8f-7953c669ebbb/air-src/linRegModel/dispersionCache/40.392967,-79.855709_0-50/20190423_090000-0400_1h_12h_0/PARDUMP.h9.txt\n"
     ]
    },
    {
     "name": "stdout",
     "output_type": "stream",
     "text": [
      "/projects/9ab71616-fcde-4524-bf8f-7953c669ebbb/air-src/linRegModel/dispersionCache/40.392967,-79.855709_0-50/20190423_100000-0400_1h_11h_0/PARDUMP.h10.txt\n"
     ]
    },
    {
     "name": "stdout",
     "output_type": "stream",
     "text": [
      "/projects/9ab71616-fcde-4524-bf8f-7953c669ebbb/air-src/linRegModel/dispersionCache/40.392967,-79.855709_0-50/20190423_100000-0400_1h_11h_0/PARDUMP.h10.txt\n"
     ]
    },
    {
     "name": "stdout",
     "output_type": "stream",
     "text": [
      "/projects/9ab71616-fcde-4524-bf8f-7953c669ebbb/air-src/linRegModel/dispersionCache/40.392967,-79.855709_0-50/20190423_110000-0400_1h_10h_0/PARDUMP.h11.txt\n"
     ]
    },
    {
     "name": "stdout",
     "output_type": "stream",
     "text": [
      "/projects/9ab71616-fcde-4524-bf8f-7953c669ebbb/air-src/linRegModel/dispersionCache/40.392967,-79.855709_0-50/20190423_110000-0400_1h_10h_0/PARDUMP.h11.txt\n"
     ]
    },
    {
     "name": "stdout",
     "output_type": "stream",
     "text": [
      "/projects/9ab71616-fcde-4524-bf8f-7953c669ebbb/air-src/linRegModel/dispersionCache/40.392967,-79.855709_0-50/20190423_120000-0400_1h_9h_0/PARDUMP.h12.txt\n"
     ]
    },
    {
     "name": "stdout",
     "output_type": "stream",
     "text": [
      "/projects/9ab71616-fcde-4524-bf8f-7953c669ebbb/air-src/linRegModel/dispersionCache/40.392967,-79.855709_0-50/20190423_120000-0400_1h_9h_0/PARDUMP.h12.txt\n"
     ]
    },
    {
     "name": "stdout",
     "output_type": "stream",
     "text": [
      "/projects/9ab71616-fcde-4524-bf8f-7953c669ebbb/air-src/linRegModel/dispersionCache/40.392967,-79.855709_0-50/20190423_130000-0400_1h_8h_0/PARDUMP.h13.txt\n"
     ]
    },
    {
     "name": "stdout",
     "output_type": "stream",
     "text": [
      "/projects/9ab71616-fcde-4524-bf8f-7953c669ebbb/air-src/linRegModel/dispersionCache/40.392967,-79.855709_0-50/20190423_130000-0400_1h_8h_0/PARDUMP.h13.txt\n"
     ]
    },
    {
     "name": "stdout",
     "output_type": "stream",
     "text": [
      "/projects/9ab71616-fcde-4524-bf8f-7953c669ebbb/air-src/linRegModel/dispersionCache/40.392967,-79.855709_0-50/20190423_140000-0400_1h_7h_0/PARDUMP.h14.txt\n"
     ]
    },
    {
     "name": "stdout",
     "output_type": "stream",
     "text": [
      "/projects/9ab71616-fcde-4524-bf8f-7953c669ebbb/air-src/linRegModel/dispersionCache/40.392967,-79.855709_0-50/20190423_140000-0400_1h_7h_0/PARDUMP.h14.txt\n"
     ]
    },
    {
     "name": "stdout",
     "output_type": "stream",
     "text": [
      "/projects/9ab71616-fcde-4524-bf8f-7953c669ebbb/air-src/linRegModel/dispersionCache/40.392967,-79.855709_0-50/20190423_150000-0400_1h_6h_0/PARDUMP.h15.txt\n"
     ]
    },
    {
     "name": "stdout",
     "output_type": "stream",
     "text": [
      "/projects/9ab71616-fcde-4524-bf8f-7953c669ebbb/air-src/linRegModel/dispersionCache/40.392967,-79.855709_0-50/20190423_150000-0400_1h_6h_0/PARDUMP.h15.txt\n"
     ]
    },
    {
     "name": "stdout",
     "output_type": "stream",
     "text": [
      "/projects/9ab71616-fcde-4524-bf8f-7953c669ebbb/air-src/linRegModel/dispersionCache/40.392967,-79.855709_0-50/20190423_160000-0400_1h_5h_0/PARDUMP.h16.txt\n"
     ]
    },
    {
     "name": "stdout",
     "output_type": "stream",
     "text": [
      "/projects/9ab71616-fcde-4524-bf8f-7953c669ebbb/air-src/linRegModel/dispersionCache/40.392967,-79.855709_0-50/20190423_160000-0400_1h_5h_0/PARDUMP.h16.txt\n"
     ]
    },
    {
     "name": "stdout",
     "output_type": "stream",
     "text": [
      "/projects/9ab71616-fcde-4524-bf8f-7953c669ebbb/air-src/linRegModel/dispersionCache/40.392967,-79.855709_0-50/20190423_170000-0400_1h_4h_0/PARDUMP.h17.txt\n"
     ]
    },
    {
     "name": "stdout",
     "output_type": "stream",
     "text": [
      "/projects/9ab71616-fcde-4524-bf8f-7953c669ebbb/air-src/linRegModel/dispersionCache/40.392967,-79.855709_0-50/20190423_170000-0400_1h_4h_0/PARDUMP.h17.txt\n"
     ]
    },
    {
     "name": "stdout",
     "output_type": "stream",
     "text": [
      "/projects/9ab71616-fcde-4524-bf8f-7953c669ebbb/air-src/linRegModel/dispersionCache/40.392967,-79.855709_0-50/20190423_180000-0400_1h_3h_0/PARDUMP.h18.txt\n"
     ]
    },
    {
     "name": "stdout",
     "output_type": "stream",
     "text": [
      "/projects/9ab71616-fcde-4524-bf8f-7953c669ebbb/air-src/linRegModel/dispersionCache/40.392967,-79.855709_0-50/20190423_180000-0400_1h_3h_0/PARDUMP.h18.txt\n"
     ]
    },
    {
     "name": "stdout",
     "output_type": "stream",
     "text": [
      "/projects/9ab71616-fcde-4524-bf8f-7953c669ebbb/air-src/linRegModel/dispersionCache/40.392967,-79.855709_0-50/20190423_190000-0400_1h_2h_0/PARDUMP.h19.txt\n"
     ]
    },
    {
     "name": "stdout",
     "output_type": "stream",
     "text": [
      "/projects/9ab71616-fcde-4524-bf8f-7953c669ebbb/air-src/linRegModel/dispersionCache/40.392967,-79.855709_0-50/20190423_190000-0400_1h_2h_0/PARDUMP.h19.txt\n"
     ]
    },
    {
     "name": "stdout",
     "output_type": "stream",
     "text": [
      "/projects/9ab71616-fcde-4524-bf8f-7953c669ebbb/air-src/linRegModel/dispersionCache/40.392967,-79.855709_0-50/20190423_200000-0400_1h_1h_0/PARDUMP.h20.txt\n"
     ]
    },
    {
     "name": "stdout",
     "output_type": "stream",
     "text": [
      "/projects/9ab71616-fcde-4524-bf8f-7953c669ebbb/air-src/linRegModel/dispersionCache/40.392967,-79.855709_0-50/20190423_200000-0400_1h_1h_0/PARDUMP.h20.txt\n"
     ]
    },
    {
     "name": "stdout",
     "output_type": "stream",
     "text": [
      "/projects/9ab71616-fcde-4524-bf8f-7953c669ebbb/air-src/linRegModel/dispersionCache/40.305062,-79.876692_0-50/20190422_210000-0400_1h_24h_0/PARDUMP.h21.txt\n"
     ]
    },
    {
     "name": "stdout",
     "output_type": "stream",
     "text": [
      "/projects/9ab71616-fcde-4524-bf8f-7953c669ebbb/air-src/linRegModel/dispersionCache/40.305062,-79.876692_0-50/20190422_210000-0400_1h_24h_0/PARDUMP.h21.txt\n"
     ]
    },
    {
     "name": "stdout",
     "output_type": "stream",
     "text": [
      "/projects/9ab71616-fcde-4524-bf8f-7953c669ebbb/air-src/linRegModel/dispersionCache/40.305062,-79.876692_0-50/20190422_220000-0400_1h_23h_0/PARDUMP.h22.txt\n"
     ]
    },
    {
     "name": "stdout",
     "output_type": "stream",
     "text": [
      "/projects/9ab71616-fcde-4524-bf8f-7953c669ebbb/air-src/linRegModel/dispersionCache/40.305062,-79.876692_0-50/20190422_220000-0400_1h_23h_0/PARDUMP.h22.txt\n"
     ]
    },
    {
     "name": "stdout",
     "output_type": "stream",
     "text": [
      "/projects/9ab71616-fcde-4524-bf8f-7953c669ebbb/air-src/linRegModel/dispersionCache/40.305062,-79.876692_0-50/20190422_230000-0400_1h_22h_0/PARDUMP.h23.txt\n"
     ]
    },
    {
     "name": "stdout",
     "output_type": "stream",
     "text": [
      "/projects/9ab71616-fcde-4524-bf8f-7953c669ebbb/air-src/linRegModel/dispersionCache/40.305062,-79.876692_0-50/20190422_230000-0400_1h_22h_0/PARDUMP.h23.txt\n"
     ]
    },
    {
     "name": "stdout",
     "output_type": "stream",
     "text": [
      "/projects/9ab71616-fcde-4524-bf8f-7953c669ebbb/air-src/linRegModel/dispersionCache/40.305062,-79.876692_0-50/20190423_000000-0400_1h_21h_0/PARDUMP.h0.txt\n"
     ]
    },
    {
     "name": "stdout",
     "output_type": "stream",
     "text": [
      "/projects/9ab71616-fcde-4524-bf8f-7953c669ebbb/air-src/linRegModel/dispersionCache/40.305062,-79.876692_0-50/20190423_000000-0400_1h_21h_0/PARDUMP.h0.txt\n"
     ]
    },
    {
     "name": "stdout",
     "output_type": "stream",
     "text": [
      "/projects/9ab71616-fcde-4524-bf8f-7953c669ebbb/air-src/linRegModel/dispersionCache/40.305062,-79.876692_0-50/20190423_010000-0400_1h_20h_0/PARDUMP.h1.txt\n"
     ]
    },
    {
     "name": "stdout",
     "output_type": "stream",
     "text": [
      "/projects/9ab71616-fcde-4524-bf8f-7953c669ebbb/air-src/linRegModel/dispersionCache/40.305062,-79.876692_0-50/20190423_010000-0400_1h_20h_0/PARDUMP.h1.txt\n"
     ]
    },
    {
     "name": "stdout",
     "output_type": "stream",
     "text": [
      "/projects/9ab71616-fcde-4524-bf8f-7953c669ebbb/air-src/linRegModel/dispersionCache/40.305062,-79.876692_0-50/20190423_020000-0400_1h_19h_0/PARDUMP.h2.txt\n"
     ]
    },
    {
     "name": "stdout",
     "output_type": "stream",
     "text": [
      "/projects/9ab71616-fcde-4524-bf8f-7953c669ebbb/air-src/linRegModel/dispersionCache/40.305062,-79.876692_0-50/20190423_020000-0400_1h_19h_0/PARDUMP.h2.txt\n"
     ]
    },
    {
     "name": "stdout",
     "output_type": "stream",
     "text": [
      "/projects/9ab71616-fcde-4524-bf8f-7953c669ebbb/air-src/linRegModel/dispersionCache/40.305062,-79.876692_0-50/20190423_030000-0400_1h_18h_0/PARDUMP.h3.txt\n"
     ]
    },
    {
     "name": "stdout",
     "output_type": "stream",
     "text": [
      "/projects/9ab71616-fcde-4524-bf8f-7953c669ebbb/air-src/linRegModel/dispersionCache/40.305062,-79.876692_0-50/20190423_030000-0400_1h_18h_0/PARDUMP.h3.txt\n"
     ]
    },
    {
     "name": "stdout",
     "output_type": "stream",
     "text": [
      "/projects/9ab71616-fcde-4524-bf8f-7953c669ebbb/air-src/linRegModel/dispersionCache/40.305062,-79.876692_0-50/20190423_040000-0400_1h_17h_0/PARDUMP.h4.txt\n"
     ]
    },
    {
     "name": "stdout",
     "output_type": "stream",
     "text": [
      "/projects/9ab71616-fcde-4524-bf8f-7953c669ebbb/air-src/linRegModel/dispersionCache/40.305062,-79.876692_0-50/20190423_040000-0400_1h_17h_0/PARDUMP.h4.txt\n"
     ]
    },
    {
     "name": "stdout",
     "output_type": "stream",
     "text": [
      "/projects/9ab71616-fcde-4524-bf8f-7953c669ebbb/air-src/linRegModel/dispersionCache/40.305062,-79.876692_0-50/20190423_050000-0400_1h_16h_0/PARDUMP.h5.txt\n"
     ]
    },
    {
     "name": "stdout",
     "output_type": "stream",
     "text": [
      "/projects/9ab71616-fcde-4524-bf8f-7953c669ebbb/air-src/linRegModel/dispersionCache/40.305062,-79.876692_0-50/20190423_050000-0400_1h_16h_0/PARDUMP.h5.txt\n"
     ]
    },
    {
     "name": "stdout",
     "output_type": "stream",
     "text": [
      "/projects/9ab71616-fcde-4524-bf8f-7953c669ebbb/air-src/linRegModel/dispersionCache/40.305062,-79.876692_0-50/20190423_060000-0400_1h_15h_0/PARDUMP.h6.txt\n"
     ]
    },
    {
     "name": "stdout",
     "output_type": "stream",
     "text": [
      "/projects/9ab71616-fcde-4524-bf8f-7953c669ebbb/air-src/linRegModel/dispersionCache/40.305062,-79.876692_0-50/20190423_060000-0400_1h_15h_0/PARDUMP.h6.txt\n"
     ]
    },
    {
     "name": "stdout",
     "output_type": "stream",
     "text": [
      "/projects/9ab71616-fcde-4524-bf8f-7953c669ebbb/air-src/linRegModel/dispersionCache/40.305062,-79.876692_0-50/20190423_070000-0400_1h_14h_0/PARDUMP.h7.txt\n"
     ]
    },
    {
     "name": "stdout",
     "output_type": "stream",
     "text": [
      "/projects/9ab71616-fcde-4524-bf8f-7953c669ebbb/air-src/linRegModel/dispersionCache/40.305062,-79.876692_0-50/20190423_070000-0400_1h_14h_0/PARDUMP.h7.txt\n"
     ]
    },
    {
     "name": "stdout",
     "output_type": "stream",
     "text": [
      "/projects/9ab71616-fcde-4524-bf8f-7953c669ebbb/air-src/linRegModel/dispersionCache/40.305062,-79.876692_0-50/20190423_080000-0400_1h_13h_0/PARDUMP.h8.txt\n"
     ]
    },
    {
     "name": "stdout",
     "output_type": "stream",
     "text": [
      "/projects/9ab71616-fcde-4524-bf8f-7953c669ebbb/air-src/linRegModel/dispersionCache/40.305062,-79.876692_0-50/20190423_080000-0400_1h_13h_0/PARDUMP.h8.txt\n"
     ]
    },
    {
     "name": "stdout",
     "output_type": "stream",
     "text": [
      "/projects/9ab71616-fcde-4524-bf8f-7953c669ebbb/air-src/linRegModel/dispersionCache/40.305062,-79.876692_0-50/20190423_090000-0400_1h_12h_0/PARDUMP.h9.txt\n"
     ]
    },
    {
     "name": "stdout",
     "output_type": "stream",
     "text": [
      "/projects/9ab71616-fcde-4524-bf8f-7953c669ebbb/air-src/linRegModel/dispersionCache/40.305062,-79.876692_0-50/20190423_090000-0400_1h_12h_0/PARDUMP.h9.txt\n"
     ]
    },
    {
     "name": "stdout",
     "output_type": "stream",
     "text": [
      "/projects/9ab71616-fcde-4524-bf8f-7953c669ebbb/air-src/linRegModel/dispersionCache/40.305062,-79.876692_0-50/20190423_100000-0400_1h_11h_0/PARDUMP.h10.txt\n"
     ]
    },
    {
     "name": "stdout",
     "output_type": "stream",
     "text": [
      "/projects/9ab71616-fcde-4524-bf8f-7953c669ebbb/air-src/linRegModel/dispersionCache/40.305062,-79.876692_0-50/20190423_100000-0400_1h_11h_0/PARDUMP.h10.txt\n"
     ]
    },
    {
     "name": "stdout",
     "output_type": "stream",
     "text": [
      "/projects/9ab71616-fcde-4524-bf8f-7953c669ebbb/air-src/linRegModel/dispersionCache/40.305062,-79.876692_0-50/20190423_110000-0400_1h_10h_0/PARDUMP.h11.txt\n"
     ]
    },
    {
     "name": "stdout",
     "output_type": "stream",
     "text": [
      "/projects/9ab71616-fcde-4524-bf8f-7953c669ebbb/air-src/linRegModel/dispersionCache/40.305062,-79.876692_0-50/20190423_110000-0400_1h_10h_0/PARDUMP.h11.txt\n"
     ]
    },
    {
     "name": "stdout",
     "output_type": "stream",
     "text": [
      "/projects/9ab71616-fcde-4524-bf8f-7953c669ebbb/air-src/linRegModel/dispersionCache/40.305062,-79.876692_0-50/20190423_120000-0400_1h_9h_0/PARDUMP.h12.txt\n"
     ]
    },
    {
     "name": "stdout",
     "output_type": "stream",
     "text": [
      "/projects/9ab71616-fcde-4524-bf8f-7953c669ebbb/air-src/linRegModel/dispersionCache/40.305062,-79.876692_0-50/20190423_120000-0400_1h_9h_0/PARDUMP.h12.txt\n"
     ]
    },
    {
     "name": "stdout",
     "output_type": "stream",
     "text": [
      "/projects/9ab71616-fcde-4524-bf8f-7953c669ebbb/air-src/linRegModel/dispersionCache/40.305062,-79.876692_0-50/20190423_130000-0400_1h_8h_0/PARDUMP.h13.txt\n"
     ]
    },
    {
     "name": "stderr",
     "output_type": "stream",
     "text": [
      "WARNING: some intermediate output was truncated.\n"
     ]
    }
   ],
   "source": [
    "# Location of the sources of pollution\n",
    "sources = [\n",
    "    DispersionSource(name='Irvin',lat=40.328015, lon=-79.903551, minHeight=0, maxHeight=50),\n",
    "    DispersionSource(name='ET',lat=40.392967, lon=-79.855709, minHeight=0, maxHeight=50),\n",
    "    DispersionSource(name='Clairton',lat=40.305062, lon=-79.876692, minHeight=0, maxHeight=50),\n",
    "    DispersionSource(name='Cheswick',lat=40.538261, lon=-79.790391, minHeight=0, maxHeight=50),\n",
    "]\n",
    "\n",
    "\n",
    "# Run the simulation\n",
    "#   start_time_eastern: for different dates, use format \"2020-03-30 00:00\"\n",
    "#   o_file: file name to save the simulation result\n",
    "#   sources: location of the sources of pollution\n",
    "#   emit_time_hrs:  affects the emission time for running each Hysplit model\n",
    "#   duration: total time (in hours) for the simulation, use 24 for a total day, use 12 for testing\n",
    "def simulate(start_time_eastern, o_file, sources=sources, emit_time_hrs=1, duration=24):\n",
    "    print(\"=\"*100)\n",
    "    print(\"=\"*100)\n",
    "    print(\"start_time_eastern: %s\" % start_time_eastern)\n",
    "    print(\"o_file: %s\" % o_file)\n",
    "    # Run simulation and get the folder list (the generated files are cached)\n",
    "    path_list = []\n",
    "    for source in sources:\n",
    "        path_list += getMultiHourDispersionRunsParallel(\n",
    "                source,\n",
    "                parse_eastern(start_time_eastern),\n",
    "                emit_time_hrs,\n",
    "                duration,\n",
    "                HysplitModelSettings(initdModelType=InitdModelType.ParticleHV, hourlyPardump=False))\n",
    "    print(path_list)\n",
    "    # Save pdump text files (the generated files are cached)\n",
    "    pdump_txt_list = []\n",
    "    for folder in path_list:\n",
    "        if not findInFolder(folder,'*.gz') and not findInFolder(folder,'PARDUMP*.txt'):\n",
    "            pdump = findInFolder(folder,'PARDUMP.*')\n",
    "            print(pdump)\n",
    "            cmd = \"/opt/hysplit/exec/par2asc -i%s -o%s\" % (pdump, pdump+\".txt\")\n",
    "            #cmd = f\"/opt/hysplit/exec/par2asc -i{pdump} -o{pdump}.txt\"\n",
    "            if pdump.find('.txt') == -1:\n",
    "                pdump_txt_list.append(pdump+\".txt\")\n",
    "            subprocess_check(cmd)\n",
    "        if findInFolder(folder,'PARDUMP*.txt'):\n",
    "            pdump_txt = findInFolder(folder,'PARDUMP*.txt')\n",
    "            pdump_txt_list.append(pdump_txt)\n",
    "    print(pdump_txt_list)\n",
    "    # Add color\n",
    "    cmap = \"viridis\"\n",
    "    c = plt.get_cmap(cmap)\n",
    "    c.colors\n",
    "    colors = np.array(c.colors)\n",
    "    colors *= 255\n",
    "    colormap = np.uint8(colors.round())\n",
    "    colormap = colormap.reshape([1,256,3])\n",
    "    cmaps = [\n",
    "        [[250, 255, 99]],\n",
    "        [[250, 255, 99],[99, 255, 206]],\n",
    "        [[250, 255, 99],[99, 255, 206],[206, 92, 247]],\n",
    "        [[250, 255, 99],[99, 255, 206],[206, 92, 247],[255, 119, 0]]\n",
    "    ]\n",
    "    print(\"Creating %s\" % o_file)\n",
    "    points = create_multisource_bin(pdump_txt_list, o_file, len(sources), False, cmaps, duration)\n",
    "    print(\"Created %s\" % o_file)\n",
    "    os.chmod(o_file, 0o777)\n",
    "\n",
    "\n",
    "# Prepare the list of dates for running the simulation\n",
    "start_time_eastern_all = start_d.strftime(\"%Y-%m-%d %H:%M\").values\n",
    "o_root = \"/projects/cocalc-www.createlab.org/pardumps/\"\n",
    "o_file_all = o_root + file_name.values + \".bin\"\n",
    "\n",
    "# For each date, run the simulation\n",
    "#for i in range(len(start_time_eastern_all)):\n",
    "for i in [91,112]: # for testing purposes\n",
    "    if os.path.isfile(o_file_all[i]): # skip if the file exists\n",
    "        print(\"File already exists %s\" % o_file_all[i])\n",
    "        continue\n",
    "    simulate(start_time_eastern_all[i], o_file_all[i])"
   ]
  },
  {
   "cell_type": "code",
   "execution_count": 0,
   "metadata": {
    "collapsed": false
   },
   "outputs": [
   ],
   "source": [
   ]
  }
 ],
 "metadata": {
  "kernelspec": {
   "display_name": "Anaconda Python 3",
   "language": "python",
   "name": "anaconda3"
  },
  "language_info": {
   "codemirror_mode": {
    "name": "ipython",
    "version": 3
   },
   "file_extension": ".py",
   "mimetype": "text/x-python",
   "name": "python",
   "nbconvert_exporter": "python",
   "pygments_lexer": "ipython3",
   "version": "3.7.4"
  }
 },
 "nbformat": 4,
 "nbformat_minor": 0
}