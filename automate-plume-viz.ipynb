{
 "cells": [
  {
   "cell_type": "code",
   "execution_count": 68,
   "metadata": {
    "collapsed": false
   },
   "outputs": [
   ],
   "source": [
    "import os\n",
    "import importlib\n",
    "import re, array, csv, datetime, glob, json, math, random, stat\n",
    "import pytz, datetime\n",
    "import numpy as np\n",
    "import pandas as pd\n",
    "import matplotlib.pyplot as plt\n",
    "\n",
    "\n",
    "# This is a utility function for running other ipython notebooks\n",
    "def exec_ipynb(filename_or_url):\n",
    "    nb = (requests.get(filename_or_url).json() if re.match(r'https?:', filename_or_url) else json.load(open(filename_or_url)))\n",
    "    if(nb['nbformat'] >= 4):\n",
    "        src = [''.join(cell['source']) for cell in nb['cells'] if cell['cell_type'] == 'code']\n",
    "    else:\n",
    "        src = [''.join(cell['input']) for cell in nb['worksheets'][0]['cells'] if cell['cell_type'] == 'code']\n",
    "    tmpname = '/tmp/%s-%s-%d.py' % (os.path.basename(filename_or_url),\n",
    "                                    datetime.datetime.now().strftime('%Y%m%d%H%M%S%f'),\n",
    "                                    os.getpid())\n",
    "    src = '\\n\\n\\n'.join(src)\n",
    "    open(tmpname, 'w').write(src)\n",
    "    code = compile(src, tmpname, 'exec')\n",
    "    exec(code, globals())\n",
    "\n",
    "\n",
    "# Load utility functions from another ipython notebook\n",
    "root_dir = \"/projects/9ab71616-fcde-4524-bf8f-7953c669ebbb/air-src/\"\n",
    "os.chdir(root_dir + \"linRegModel/pardump_example/\")\n",
    "exec_ipynb(\"pardumpdump-randy-amy-util.ipynb\")\n",
    "os.chdir(root_dir + \"linRegModel\")\n",
    "exec_ipynb(\"./cachedHysplitRunLib.ipynb\")\n",
    "exec_ipynb(\"../../src/python-utils/utils.ipynb\")\n",
    "\n",
    "# Load EarthTime document template\n",
    "os.chdir(root_dir + \"automate-plume-viz/\")\n",
    "df_template = pd.read_csv(\"data/earth_time_template.csv\")\n",
    "\n",
    "# Create rows in the EarthTime document\n",
    "start_d = pd.date_range(start=\"2019-01-01\", end=\"2020-01-01\", closed=\"left\")\n",
    "end_d = pd.date_range(start=\"2019-01-01\", end=\"2020-01-01\", closed=\"right\")\n",
    "start_d_str = start_d.strftime(\"%Y%m%d0200\")\n",
    "end_d_str = end_d.strftime(\"%Y%m%d0001\")\n",
    "df = df_repeated = pd.concat([df_template]*len(start_d_str), ignore_index=True)\n",
    "file_name = \"plume_\" + start_d.strftime(\"%Y%m%d\")\n",
    "df[\"Start date\"] = start_d_str\n",
    "df[\"End date\"] = end_d_str\n",
    "df[\"Share link identifier\"] = file_name\n",
    "df[\"Name\"] = start_d.strftime(\"%Y-%m-%d\")\n",
    "df[\"URL\"] = \"https://cocalc-www.createlab.org/pardumps/\" + file_name + \".bin\"\n",
    "\n",
    "# Save rows\n",
    "p = \"data/earth_time.csv\"\n",
    "df.to_csv(p)\n",
    "os.chmod(p, 0o777)"
   ]
  }
 ],
 "metadata": {
  "kernelspec": {
   "display_name": "Anaconda Python 3",
   "language": "python",
   "name": "anaconda3"
  },
  "language_info": {
   "codemirror_mode": {
    "name": "ipython",
    "version": 3
   },
   "file_extension": ".py",
   "mimetype": "text/x-python",
   "name": "python",
   "nbconvert_exporter": "python",
   "pygments_lexer": "ipython3",
   "version": "3.7.4"
  }
 },
 "nbformat": 4,
 "nbformat_minor": 0
}